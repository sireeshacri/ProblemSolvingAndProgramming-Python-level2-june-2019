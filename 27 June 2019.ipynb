{
 "cells": [
  {
   "cell_type": "code",
   "execution_count": 6,
   "metadata": {},
   "outputs": [
    {
     "name": "stdout",
     "output_type": "stream",
     "text": [
      "1 2\n",
      "1 3\n",
      "1 4\n",
      "2 3\n",
      "2 4\n",
      "3 4\n"
     ]
    }
   ],
   "source": [
    "# Function to print all combinations of pairs of intergers in a unique list\n",
    "# [1,2,3] --> (1,2),(1,3),(2,3) -> 3C2 --> 3!/((3-2)!*2!) --> NCR\n",
    "\n",
    "#[1,2,3,4] --> two elements (1,2),(1,3),(1,4),(2,3),(2,4),(3,4) --> tuplets --> (1,2,3),......\n",
    "\n",
    "def Combinations(li):\n",
    "    for i in range(len(li)-1):\n",
    "        for j in range(i+1,len(li)):\n",
    "            print(li[i],li[j])\n",
    "li = [1,2,3,4]            \n",
    "Combinations(li)"
   ]
  },
  {
   "cell_type": "code",
   "execution_count": 11,
   "metadata": {},
   "outputs": [
    {
     "name": "stdout",
     "output_type": "stream",
     "text": [
      "1 2 3\n",
      "1 2 4\n",
      "1 2 5\n",
      "1 3 4\n",
      "1 3 5\n",
      "1 4 5\n",
      "2 3 4\n",
      "2 3 5\n",
      "2 4 5\n",
      "3 4 5\n"
     ]
    }
   ],
   "source": [
    "# Function to print all combinations of pairs of intergers in a unique list\n",
    "\n",
    "#[1,2,3,4]  --> (1,2,3),(1,2,4),(1,3,4),(2,3,4)\n",
    "\n",
    "def Combinations(li):\n",
    "    for i in range(len(li)-2):\n",
    "        for j in range(i+1,len(li)-1):\n",
    "            for k in range(j+1,len(li)):\n",
    "                print(li[i],li[j],li[k])\n",
    "li = [1,2,3,4,5]            \n",
    "Combinations(li)"
   ]
  },
  {
   "cell_type": "code",
   "execution_count": 49,
   "metadata": {},
   "outputs": [
    {
     "ename": "TypeError",
     "evalue": "unsupported operand type(s) for -: 'str' and 'str'",
     "output_type": "error",
     "traceback": [
      "\u001b[1;31m---------------------------------------------------------------------------\u001b[0m",
      "\u001b[1;31mTypeError\u001b[0m                                 Traceback (most recent call last)",
      "\u001b[1;32m<ipython-input-49-d960b0871c93>\u001b[0m in \u001b[0;36m<module>\u001b[1;34m\u001b[0m\n\u001b[0;32m     32\u001b[0m         \u001b[0mli\u001b[0m\u001b[1;33m=\u001b[0m\u001b[0mf\u001b[0m\u001b[1;33m.\u001b[0m\u001b[0mreadline\u001b[0m\u001b[1;33m(\u001b[0m\u001b[1;33m)\u001b[0m\u001b[1;33m.\u001b[0m\u001b[0msplit\u001b[0m\u001b[1;33m(\u001b[0m\u001b[1;33m)\u001b[0m\u001b[1;33m\u001b[0m\u001b[1;33m\u001b[0m\u001b[0m\n\u001b[0;32m     33\u001b[0m         \u001b[0mk\u001b[0m\u001b[1;33m=\u001b[0m\u001b[0mint\u001b[0m\u001b[1;33m(\u001b[0m\u001b[0mf\u001b[0m\u001b[1;33m.\u001b[0m\u001b[0mreadline\u001b[0m\u001b[1;33m(\u001b[0m\u001b[1;33m)\u001b[0m\u001b[1;33m)\u001b[0m\u001b[1;33m\u001b[0m\u001b[1;33m\u001b[0m\u001b[0m\n\u001b[1;32m---> 34\u001b[1;33m         \u001b[0mprint\u001b[0m\u001b[1;33m(\u001b[0m\u001b[0mmedium\u001b[0m\u001b[1;33m(\u001b[0m\u001b[0mli\u001b[0m\u001b[1;33m,\u001b[0m\u001b[0mk\u001b[0m\u001b[1;33m)\u001b[0m\u001b[1;33m)\u001b[0m\u001b[1;33m\u001b[0m\u001b[1;33m\u001b[0m\u001b[0m\n\u001b[0m\u001b[0;32m     35\u001b[0m \u001b[1;31m#li = [3,6,9]\u001b[0m\u001b[1;33m\u001b[0m\u001b[1;33m\u001b[0m\u001b[1;33m\u001b[0m\u001b[0m\n\u001b[0;32m     36\u001b[0m \u001b[1;31m#differencePairs(li)\u001b[0m\u001b[1;33m\u001b[0m\u001b[1;33m\u001b[0m\u001b[1;33m\u001b[0m\u001b[0m\n",
      "\u001b[1;32m<ipython-input-49-d960b0871c93>\u001b[0m in \u001b[0;36mmedium\u001b[1;34m(li, k)\u001b[0m\n\u001b[0;32m      1\u001b[0m \u001b[1;32mdef\u001b[0m \u001b[0mmedium\u001b[0m\u001b[1;33m(\u001b[0m\u001b[0mli\u001b[0m\u001b[1;33m,\u001b[0m\u001b[0mk\u001b[0m\u001b[1;33m)\u001b[0m\u001b[1;33m:\u001b[0m\u001b[1;33m\u001b[0m\u001b[1;33m\u001b[0m\u001b[0m\n\u001b[0;32m      2\u001b[0m     \u001b[1;32mwhile\u001b[0m\u001b[1;33m(\u001b[0m\u001b[1;32mTrue\u001b[0m\u001b[1;33m)\u001b[0m\u001b[1;33m:\u001b[0m\u001b[1;33m\u001b[0m\u001b[1;33m\u001b[0m\u001b[0m\n\u001b[1;32m----> 3\u001b[1;33m         \u001b[0mli3\u001b[0m \u001b[1;33m=\u001b[0m \u001b[0mdifferencePairs\u001b[0m\u001b[1;33m(\u001b[0m\u001b[0mli\u001b[0m\u001b[1;33m)\u001b[0m\u001b[1;33m\u001b[0m\u001b[1;33m\u001b[0m\u001b[0m\n\u001b[0m\u001b[0;32m      4\u001b[0m         \u001b[1;32mif\u001b[0m \u001b[0mli3\u001b[0m\u001b[1;33m[\u001b[0m\u001b[1;36m0\u001b[0m\u001b[1;33m]\u001b[0m\u001b[1;33m==\u001b[0m\u001b[0mli3\u001b[0m\u001b[1;33m[\u001b[0m\u001b[1;36m1\u001b[0m\u001b[1;33m]\u001b[0m\u001b[1;33m:\u001b[0m\u001b[1;33m\u001b[0m\u001b[1;33m\u001b[0m\u001b[0m\n\u001b[0;32m      5\u001b[0m             \u001b[1;32mbreak\u001b[0m\u001b[1;33m\u001b[0m\u001b[1;33m\u001b[0m\u001b[0m\n",
      "\u001b[1;32m<ipython-input-49-d960b0871c93>\u001b[0m in \u001b[0;36mdifferencePairs\u001b[1;34m(li)\u001b[0m\n\u001b[0;32m     20\u001b[0m     \u001b[1;32mfor\u001b[0m \u001b[0mi\u001b[0m \u001b[1;32min\u001b[0m \u001b[0mrange\u001b[0m\u001b[1;33m(\u001b[0m\u001b[0mlen\u001b[0m\u001b[1;33m(\u001b[0m\u001b[0mli\u001b[0m\u001b[1;33m)\u001b[0m\u001b[1;33m-\u001b[0m\u001b[1;36m1\u001b[0m\u001b[1;33m)\u001b[0m\u001b[1;33m:\u001b[0m\u001b[1;33m\u001b[0m\u001b[1;33m\u001b[0m\u001b[0m\n\u001b[0;32m     21\u001b[0m         \u001b[1;32mfor\u001b[0m \u001b[0mj\u001b[0m \u001b[1;32min\u001b[0m \u001b[0mrange\u001b[0m\u001b[1;33m(\u001b[0m\u001b[0mi\u001b[0m\u001b[1;33m+\u001b[0m\u001b[1;36m1\u001b[0m\u001b[1;33m,\u001b[0m\u001b[0mlen\u001b[0m\u001b[1;33m(\u001b[0m\u001b[0mli\u001b[0m\u001b[1;33m)\u001b[0m\u001b[1;33m)\u001b[0m\u001b[1;33m:\u001b[0m\u001b[1;33m\u001b[0m\u001b[1;33m\u001b[0m\u001b[0m\n\u001b[1;32m---> 22\u001b[1;33m             \u001b[0md\u001b[0m \u001b[1;33m=\u001b[0m \u001b[0mabs\u001b[0m\u001b[1;33m(\u001b[0m\u001b[0mint\u001b[0m\u001b[1;33m(\u001b[0m\u001b[0mli\u001b[0m\u001b[1;33m[\u001b[0m\u001b[0mi\u001b[0m\u001b[1;33m]\u001b[0m\u001b[1;33m-\u001b[0m\u001b[0mli\u001b[0m\u001b[1;33m[\u001b[0m\u001b[0mj\u001b[0m\u001b[1;33m]\u001b[0m\u001b[1;33m)\u001b[0m\u001b[1;33m)\u001b[0m\u001b[1;33m\u001b[0m\u001b[1;33m\u001b[0m\u001b[0m\n\u001b[0m\u001b[0;32m     23\u001b[0m             \u001b[1;32mif\u001b[0m \u001b[0md\u001b[0m \u001b[1;32mnot\u001b[0m \u001b[1;32min\u001b[0m \u001b[0mli\u001b[0m \u001b[1;32mand\u001b[0m \u001b[0md\u001b[0m \u001b[1;32mnot\u001b[0m \u001b[1;32min\u001b[0m \u001b[0mnewelements\u001b[0m\u001b[1;33m:\u001b[0m\u001b[1;33m\u001b[0m\u001b[1;33m\u001b[0m\u001b[0m\n\u001b[0;32m     24\u001b[0m                 \u001b[0mnewelements\u001b[0m\u001b[1;33m.\u001b[0m\u001b[0mappend\u001b[0m\u001b[1;33m(\u001b[0m\u001b[0mstr\u001b[0m\u001b[1;33m(\u001b[0m\u001b[0md\u001b[0m\u001b[1;33m)\u001b[0m\u001b[1;33m)\u001b[0m\u001b[1;33m\u001b[0m\u001b[1;33m\u001b[0m\u001b[0m\n",
      "\u001b[1;31mTypeError\u001b[0m: unsupported operand type(s) for -: 'str' and 'str'"
     ]
    }
   ],
   "source": [
    "def medium(li,k):\n",
    "    while(True):\n",
    "        li3 = differencePairs(li)\n",
    "        if li3[0]==li3[1]:\n",
    "            break\n",
    "    if(len(li3[0]))>=k:\n",
    "        print(li)\n",
    "        return sorted(li3[0],reverse=True)[k-1]\n",
    "    else:\n",
    "        return -1\n",
    "    \n",
    "# Function to identify differences of all \n",
    "# pairs of numbers and add those differences \n",
    "# to same list.\n",
    "# this function returns updated list and original list\n",
    "def differencePairs(li):\n",
    "    cli=li[:]    # Coping the li values into cli\n",
    "    newelements = []\n",
    "    \n",
    "    for i in range(len(li)-1):\n",
    "        for j in range(i+1,len(li)):\n",
    "            d = abs(int(li[i]-li[j]))\n",
    "            if d not in li and d not in newelements:\n",
    "                newelements.append(str(d))\n",
    "    li.extend(newelements)\n",
    "    return [cli,li]\n",
    "\n",
    "with open('DataFiles/medium-input.txt','r') as f:\n",
    "    t=int(f.readline())\n",
    "    for i in range(t):\n",
    "        n=f.readline()\n",
    "        li=f.readline().split()\n",
    "        k=int(f.readline())\n",
    "        print(medium(li,k))\n",
    "#li = [3,6,9]\n",
    "#differencePairs(li)\n",
    "\n",
    "         "
   ]
  },
  {
   "cell_type": "code",
   "execution_count": 45,
   "metadata": {},
   "outputs": [
    {
     "data": {
      "text/plain": [
       "[1, 3, 2, 4, 5]"
      ]
     },
     "execution_count": 45,
     "metadata": {},
     "output_type": "execute_result"
    }
   ],
   "source": [
    "# List Data referencing vs Data copy\n",
    "a = [1,2,3]\n",
    "b= [1,3,2]\n",
    "a = b.copy() # Data Copy through indirect referencing\n",
    "a=b[:] # Data copy through direct referencing \n",
    "\n",
    "a = b # Data Referencing\n",
    "\n",
    "b.append(4)\n",
    "a.append(5)\n",
    "b"
   ]
  },
  {
   "cell_type": "code",
   "execution_count": 25,
   "metadata": {},
   "outputs": [
    {
     "data": {
      "text/plain": [
       "[1, 2, 3, 4, 5, 6, 7, 8]"
      ]
     },
     "execution_count": 25,
     "metadata": {},
     "output_type": "execute_result"
    }
   ],
   "source": [
    "r=[1,2,3,4,5,6]\n",
    "s=[7,8]\n",
    "r.extend(s)\n",
    "r"
   ]
  },
  {
   "cell_type": "code",
   "execution_count": 40,
   "metadata": {},
   "outputs": [
    {
     "data": {
      "text/plain": [
       "[4, 8]"
      ]
     },
     "execution_count": 40,
     "metadata": {},
     "output_type": "execute_result"
    }
   ],
   "source": [
    "# Below lists are the examples of constant list\n",
    "# When we do the difference we will get same elements in the list\n",
    "# Don't need to do any append\n",
    "\n",
    "[4,8]\n",
    "[20,40,60]\n",
    "[4,8,12,16]\n",
    "[3,6,9,12]\n",
    "# Convert the list into an\n",
    "# Arithmetic Progression  (differences are same here in those lists)\n",
    "\n",
    "[3,8,15]\n",
    "[3,8,15,5,2,1,4,6,7,9,10,11,12,13,14]"
   ]
  },
  {
   "cell_type": "code",
   "execution_count": null,
   "metadata": {},
   "outputs": [],
   "source": [
    "def medium(li,k):\n",
    "    while(True):\n",
    "        li3 = differencePairs(li)\n",
    "        if li3[0] == li3[1]:\n",
    "            break\n",
    "    if(len(li3[0]))>=k:\n",
    "        return sorted(li3[0],reverse=True)[k-1]\n",
    "    else:\n",
    "        return -1\n",
    "def differencePairs(li):\n",
    "    c = li.copy()\n",
    "    newelements = []\n",
    "    for i in range(len(li)-1):\n",
    "        for j in range(i+1,len(li)):\n",
    "            d = abs(li[i]-li[j])\n",
    "            if d not in li and d not in newelements:\n",
    "                newelements.append(d)\n",
    "    li.extend(newelements)\n",
    "    return li\n",
    "    \n",
    "li = [2,3,6,9,12,1,4,7,10,5,8,11]\n",
    "differencePairs(li)\n",
    "medium(li,2)"
   ]
  },
  {
   "cell_type": "markdown",
   "metadata": {},
   "source": [
    " ## Set - Data Structure in python\n",
    " \n",
    " - Represented by {}\n",
    " \n",
    " - it contains only unique data reaped elements will remove automatically\n",
    " - Set mutable\n",
    " - index operations will not work here in set"
   ]
  },
  {
   "cell_type": "code",
   "execution_count": 4,
   "metadata": {},
   "outputs": [
    {
     "data": {
      "text/plain": [
       "{1, 2, 3, 4, 5, 6, 7}"
      ]
     },
     "execution_count": 4,
     "metadata": {},
     "output_type": "execute_result"
    }
   ],
   "source": [
    "a = {1,2,3,4,5,6,6,5}\n",
    "\n",
    "a.add(7)   # Adding a single element to set\n",
    "a"
   ]
  },
  {
   "cell_type": "code",
   "execution_count": 5,
   "metadata": {},
   "outputs": [
    {
     "name": "stdout",
     "output_type": "stream",
     "text": [
      "1 2 3 4 5 6 7 "
     ]
    }
   ],
   "source": [
    "for i in a:\n",
    "    print(i,end=' ')    #--> Accessing elements in a set\n",
    "    "
   ]
  },
  {
   "cell_type": "code",
   "execution_count": 9,
   "metadata": {},
   "outputs": [
    {
     "data": {
      "text/plain": [
       "{1, 2, 3, 4, 5, 6, 7, 8, 9}"
      ]
     },
     "execution_count": 9,
     "metadata": {},
     "output_type": "execute_result"
    }
   ],
   "source": [
    "# adding \n",
    "b = {7,8,9,1,2,3}    # Remove duplicate elements adds only unique elements\n",
    "li=[22,33]\n",
    "a.update(b)\n",
    "a"
   ]
  },
  {
   "cell_type": "code",
   "execution_count": 13,
   "metadata": {},
   "outputs": [
    {
     "data": {
      "text/plain": [
       "{1, 2, 3, 4, 5, 6, 7, 8, 9, 22, 44}"
      ]
     },
     "execution_count": 13,
     "metadata": {},
     "output_type": "execute_result"
    }
   ],
   "source": [
    "li = [22,44]\n",
    "a.update(li)\n",
    "a"
   ]
  },
  {
   "cell_type": "code",
   "execution_count": 15,
   "metadata": {},
   "outputs": [
    {
     "data": {
      "text/plain": [
       "{1, 2, 22, 3, 4, 44, 5, 6, 7, 8, 9, 'e', 'i', 'r', 's'}"
      ]
     },
     "execution_count": 15,
     "metadata": {},
     "output_type": "execute_result"
    }
   ],
   "source": [
    "s='sirei'\n",
    "a.update(s)\n",
    "a"
   ]
  },
  {
   "cell_type": "code",
   "execution_count": 16,
   "metadata": {},
   "outputs": [
    {
     "data": {
      "text/plain": [
       "{1, 2, 22, 3, 334, 393, 4, 44, 488483, 5, 6, 7, 8, 9, 'e', 'i', 'r', 's'}"
      ]
     },
     "execution_count": 16,
     "metadata": {},
     "output_type": "execute_result"
    }
   ],
   "source": [
    "p=[334,488483,393]\n",
    "st = 'upma'\n",
    "a.update(b,p)\n",
    "a"
   ]
  },
  {
   "cell_type": "code",
   "execution_count": 18,
   "metadata": {},
   "outputs": [
    {
     "data": {
      "text/plain": [
       "{1, 2, 22, 3, 334, 393, 4, 488483, 5, 6, 7, 8, 9, 'e', 'i', 'r', 's'}"
      ]
     },
     "execution_count": 18,
     "metadata": {},
     "output_type": "execute_result"
    }
   ],
   "source": [
    "# To remove a element  i.e only a single element can be removed by discard function\n",
    "a.discard(44)\n",
    "a"
   ]
  },
  {
   "cell_type": "code",
   "execution_count": 23,
   "metadata": {},
   "outputs": [
    {
     "data": {
      "text/plain": [
       "{1, 2, 3, 4, 5, 6, 7, 8, 9, 10}"
      ]
     },
     "execution_count": 23,
     "metadata": {},
     "output_type": "execute_result"
    }
   ],
   "source": [
    "a = { 10,1,2,3,4,5,6}\n",
    "b = {7,8,9,1,2,3}\n",
    "\n",
    "a.union(b)\n",
    "\n",
    "# A U B = B U A    ---> a union b is equal to b union a\n"
   ]
  },
  {
   "cell_type": "code",
   "execution_count": 24,
   "metadata": {},
   "outputs": [
    {
     "data": {
      "text/plain": [
       "{1, 2, 3, 4, 5, 6, 7, 8, 9, 10}"
      ]
     },
     "execution_count": 24,
     "metadata": {},
     "output_type": "execute_result"
    }
   ],
   "source": [
    "b.union(a)"
   ]
  },
  {
   "cell_type": "code",
   "execution_count": 25,
   "metadata": {},
   "outputs": [
    {
     "data": {
      "text/plain": [
       "{1, 2, 3}"
      ]
     },
     "execution_count": 25,
     "metadata": {},
     "output_type": "execute_result"
    }
   ],
   "source": [
    "# Accessing common elememnts in both sets\n",
    "\n",
    "a.intersection(b)"
   ]
  },
  {
   "cell_type": "code",
   "execution_count": 26,
   "metadata": {},
   "outputs": [
    {
     "data": {
      "text/plain": [
       "False"
      ]
     },
     "execution_count": 26,
     "metadata": {},
     "output_type": "execute_result"
    }
   ],
   "source": [
    "# If both sets are not have common elements then it will give o/p as TRUE otherwide FALSE\n",
    "c = {111,123}\n",
    "a.isdisjoint(b)"
   ]
  },
  {
   "cell_type": "code",
   "execution_count": 28,
   "metadata": {},
   "outputs": [
    {
     "data": {
      "text/plain": [
       "True"
      ]
     },
     "execution_count": 28,
     "metadata": {},
     "output_type": "execute_result"
    }
   ],
   "source": [
    "c = {111,123}\n",
    "a.isdisjoint(c)"
   ]
  },
  {
   "cell_type": "code",
   "execution_count": 29,
   "metadata": {},
   "outputs": [
    {
     "data": {
      "text/plain": [
       "{4, 5, 6, 10}"
      ]
     },
     "execution_count": 29,
     "metadata": {},
     "output_type": "execute_result"
    }
   ],
   "source": [
    "a - b   # All elements in a  which are not in b"
   ]
  },
  {
   "cell_type": "code",
   "execution_count": 30,
   "metadata": {},
   "outputs": [
    {
     "data": {
      "text/plain": [
       "{7, 8, 9}"
      ]
     },
     "execution_count": 30,
     "metadata": {},
     "output_type": "execute_result"
    }
   ],
   "source": [
    "b - a  # Return all elements in b which are not in a"
   ]
  },
  {
   "cell_type": "code",
   "execution_count": 31,
   "metadata": {},
   "outputs": [
    {
     "data": {
      "text/plain": [
       "{1, 2, 3, 4, 5, 6, 10}"
      ]
     },
     "execution_count": 31,
     "metadata": {},
     "output_type": "execute_result"
    }
   ],
   "source": [
    "a"
   ]
  },
  {
   "cell_type": "code",
   "execution_count": 32,
   "metadata": {},
   "outputs": [
    {
     "data": {
      "text/plain": [
       "{1, 2, 3, 7, 8, 9}"
      ]
     },
     "execution_count": 32,
     "metadata": {},
     "output_type": "execute_result"
    }
   ],
   "source": [
    "b"
   ]
  },
  {
   "cell_type": "code",
   "execution_count": 33,
   "metadata": {},
   "outputs": [
    {
     "data": {
      "text/plain": [
       "[1, 2, 3, 4, 5, 6, 10]"
      ]
     },
     "execution_count": 33,
     "metadata": {},
     "output_type": "execute_result"
    }
   ],
   "source": [
    "sorted(a)"
   ]
  },
  {
   "cell_type": "code",
   "execution_count": 34,
   "metadata": {},
   "outputs": [
    {
     "data": {
      "text/plain": [
       "{4, 5, 6, 7, 8, 9, 10}"
      ]
     },
     "execution_count": 34,
     "metadata": {},
     "output_type": "execute_result"
    }
   ],
   "source": [
    "a^b   # Elements either in a or in b  i.e not common i.e not intersectioned elements\n"
   ]
  },
  {
   "cell_type": "code",
   "execution_count": 35,
   "metadata": {},
   "outputs": [
    {
     "data": {
      "text/plain": [
       "[1, 4, 8, 9, 29, 33, 292, 393]"
      ]
     },
     "execution_count": 35,
     "metadata": {},
     "output_type": "execute_result"
    }
   ],
   "source": [
    "t = { 1,4,33,393,292,8,29,9}\n",
    "sorted(t)"
   ]
  },
  {
   "cell_type": "code",
   "execution_count": 36,
   "metadata": {},
   "outputs": [
    {
     "data": {
      "text/plain": [
       "set()"
      ]
     },
     "execution_count": 36,
     "metadata": {},
     "output_type": "execute_result"
    }
   ],
   "source": [
    "# Creating an empty set \n",
    "d = set()\n",
    "d"
   ]
  },
  {
   "cell_type": "code",
   "execution_count": 38,
   "metadata": {},
   "outputs": [
    {
     "data": {
      "text/plain": [
       "{1, 2, 3, 4, 22, 32, 34, 56}"
      ]
     },
     "execution_count": 38,
     "metadata": {},
     "output_type": "execute_result"
    }
   ],
   "source": [
    "li = [32, 34,22,1,2,3,4,1,2,4,56,]\n",
    "u = set(li)\n",
    "u"
   ]
  },
  {
   "cell_type": "markdown",
   "metadata": {},
   "source": [
    "## Functional Programming\n",
    "\n",
    "- C Language is procedural or structural programming\n",
    "- C++,Java are Object oriented languages\n",
    "- Python,JavaScript,PHP are Scrpting Languages\n",
    "\n",
    "#### Procedural : C\n",
    "\n",
    "#### Object Oriented : Java, Python\n",
    "\n",
    "#### Scripting : PHP, Python, Javascripting, Shell, Perl\n",
    "\n",
    "#### Functional : Python, Haskell, Scala\n",
    "\n",
    "#### Logic : Prolog, Lisp\n",
    "\n"
   ]
  },
  {
   "cell_type": "markdown",
   "metadata": {},
   "source": [
    "### Functional Programming\n",
    "- **Def** : In computer science, functional programming is a programming paradigm—a style of building the structure and elements of computer programs—that treats computation as the evaluation of mathematical functions and avoids changing-state and mutable data.\n",
    "- Search in google as \"**Functioanl Programming**\""
   ]
  },
  {
   "cell_type": "markdown",
   "metadata": {},
   "source": [
    "## List Comprehensions"
   ]
  },
  {
   "cell_type": "markdown",
   "metadata": {},
   "source": [
    "- mathematical or sybalic logic into a list"
   ]
  },
  {
   "cell_type": "code",
   "execution_count": 41,
   "metadata": {},
   "outputs": [
    {
     "name": "stdout",
     "output_type": "stream",
     "text": [
      "[1, 2, 3, 4, 5, 6, 7, 8, 9, 10]\n"
     ]
    }
   ],
   "source": [
    "# N natural numbers in a list \n",
    "n = 10\n",
    "li =[]\n",
    "for i in range(1,n+1):\n",
    "    li.append(i)\n",
    "print(li)\n",
    " "
   ]
  },
  {
   "cell_type": "markdown",
   "metadata": {},
   "source": [
    "#### For above programm we need 5 lines by using List Comprehesion we get in single line"
   ]
  },
  {
   "cell_type": "code",
   "execution_count": 42,
   "metadata": {},
   "outputs": [
    {
     "data": {
      "text/plain": [
       "[1, 2, 3, 4, 5, 6, 7, 8, 9, 10]"
      ]
     },
     "execution_count": 42,
     "metadata": {},
     "output_type": "execute_result"
    }
   ],
   "source": [
    "li = [i for i in range(1,11)]\n",
    "li"
   ]
  },
  {
   "cell_type": "code",
   "execution_count": 43,
   "metadata": {},
   "outputs": [
    {
     "data": {
      "text/plain": [
       "[1, 8, 27, 64, 125, 216, 343, 512, 729, 1000]"
      ]
     },
     "execution_count": 43,
     "metadata": {},
     "output_type": "execute_result"
    }
   ],
   "source": [
    "# Apply list comprehension to store the\n",
    "# Cubes on n natural numbers\n",
    "\n",
    "li = [i**3 for i in range(1,11)]\n",
    "li"
   ]
  },
  {
   "cell_type": "code",
   "execution_count": 48,
   "metadata": {},
   "outputs": [],
   "source": [
    "# Function to calculate the factorial \n",
    "def factorial(n):\n",
    "    if n == 0 or n == 1:\n",
    "        return 1\n",
    "    return n * factorial(n-1)\n",
    "# factorial(5)"
   ]
  },
  {
   "cell_type": "code",
   "execution_count": 49,
   "metadata": {},
   "outputs": [
    {
     "data": {
      "text/plain": [
       "[1, 2, 6, 24, 120, 720, 5040, 40320, 362880, 3628800]"
      ]
     },
     "execution_count": 49,
     "metadata": {},
     "output_type": "execute_result"
    }
   ],
   "source": [
    "# Apply list comprehension to calculate\n",
    "# Factorial of n natural numbers\n",
    "\n",
    "n = 10\n",
    "factorialList = [factorial(i) for i in range(1,n+1)]\n",
    "factorialList"
   ]
  },
  {
   "cell_type": "code",
   "execution_count": 63,
   "metadata": {},
   "outputs": [
    {
     "ename": "SyntaxError",
     "evalue": "invalid syntax (<ipython-input-63-c0d7d9b4c166>, line 11)",
     "output_type": "error",
     "traceback": [
      "\u001b[1;36m  File \u001b[1;32m\"<ipython-input-63-c0d7d9b4c166>\"\u001b[1;36m, line \u001b[1;32m11\u001b[0m\n\u001b[1;33m    s=sum(li([:i+1])\u001b[0m\n\u001b[1;37m              ^\u001b[0m\n\u001b[1;31mSyntaxError\u001b[0m\u001b[1;31m:\u001b[0m invalid syntax\n"
     ]
    }
   ],
   "source": [
    "# Store cummulative sum of numbers till n in a list\n",
    "# n = 5  --> [1, 3, 6, 10, 15]\n",
    "\n",
    "def cummsum(n):\n",
    "    li = []\n",
    "    for i in range(1,n+1):\n",
    "        li.append(i)\n",
    "    #return li\n",
    "    s=0\n",
    "    for i in li:\n",
    "        sum(li([:i+1])\n",
    "    return s\n",
    "        \n",
    "cummsum(5)\n",
    "    "
   ]
  },
  {
   "cell_type": "code",
   "execution_count": 62,
   "metadata": {},
   "outputs": [
    {
     "data": {
      "text/plain": [
       "10"
      ]
     },
     "execution_count": 62,
     "metadata": {},
     "output_type": "execute_result"
    }
   ],
   "source": [
    "li = [1,2,3,4,5,6]\n",
    "sum(li[0:4]) # ---> ouput upto 4"
   ]
  },
  {
   "cell_type": "code",
   "execution_count": 65,
   "metadata": {},
   "outputs": [
    {
     "data": {
      "text/plain": [
       "[1, 2, 3, 4, 5]"
      ]
     },
     "execution_count": 65,
     "metadata": {},
     "output_type": "execute_result"
    }
   ],
   "source": [
    "n = 5\n",
    "cummulativeSum = [sum([i]) for i in range(1,n+1)]\n",
    "cummulativeSum"
   ]
  },
  {
   "cell_type": "code",
   "execution_count": 73,
   "metadata": {},
   "outputs": [
    {
     "data": {
      "text/plain": [
       "[1, 3, 6, 10, 15]"
      ]
     },
     "execution_count": 73,
     "metadata": {},
     "output_type": "execute_result"
    }
   ],
   "source": [
    "cummulativeSum = [sum(range(1,i+1)) for i in range(1,n+1)]\n",
    "cummulativeSum"
   ]
  },
  {
   "cell_type": "code",
   "execution_count": 78,
   "metadata": {},
   "outputs": [
    {
     "data": {
      "text/plain": [
       "[1972, 1976, 1980, 1984, 1988, 1992, 1996, 2000, 2004, 2008, 2012, 2016]"
      ]
     },
     "execution_count": 78,
     "metadata": {},
     "output_type": "execute_result"
    }
   ],
   "source": [
    "# List Comprehensions to store\n",
    "# Only Leap Years in a given time period\n",
    "\n",
    "st = 1970\n",
    "et = 2019\n",
    "leapYears = [i for i in range(st,et+1) \n",
    "             if i%400==0 or (i%100!=0 and i%4 == 0) ]\n",
    "leapYears"
   ]
  },
  {
   "cell_type": "code",
   "execution_count": 81,
   "metadata": {},
   "outputs": [
    {
     "data": {
      "text/plain": [
       "[[False, 1970],\n",
       " [False, 1971],\n",
       " [True, 1972],\n",
       " [False, 1973],\n",
       " [False, 1974],\n",
       " [False, 1975],\n",
       " [True, 1976],\n",
       " [False, 1977],\n",
       " [False, 1978],\n",
       " [False, 1979],\n",
       " [True, 1980],\n",
       " [False, 1981],\n",
       " [False, 1982],\n",
       " [False, 1983],\n",
       " [True, 1984],\n",
       " [False, 1985],\n",
       " [False, 1986],\n",
       " [False, 1987],\n",
       " [True, 1988],\n",
       " [False, 1989],\n",
       " [False, 1990],\n",
       " [False, 1991],\n",
       " [True, 1992],\n",
       " [False, 1993],\n",
       " [False, 1994],\n",
       " [False, 1995],\n",
       " [True, 1996],\n",
       " [False, 1997],\n",
       " [False, 1998],\n",
       " [False, 1999],\n",
       " [True, 2000],\n",
       " [False, 2001],\n",
       " [False, 2002],\n",
       " [False, 2003],\n",
       " [True, 2004],\n",
       " [False, 2005],\n",
       " [False, 2006],\n",
       " [False, 2007],\n",
       " [True, 2008],\n",
       " [False, 2009],\n",
       " [False, 2010],\n",
       " [False, 2011],\n",
       " [True, 2012],\n",
       " [False, 2013],\n",
       " [False, 2014],\n",
       " [False, 2015],\n",
       " [True, 2016],\n",
       " [False, 2017],\n",
       " [False, 2018],\n",
       " [False, 2019]]"
      ]
     },
     "execution_count": 81,
     "metadata": {},
     "output_type": "execute_result"
    }
   ],
   "source": [
    "# If we have a if condition then it is after for loop condition\n",
    "st = 1970\n",
    "et = 2019\n",
    "leapYears = [[(i%400==0 or (i%100!=0 and i%4 == 0)),i] for i in range(st,et+1)]\n",
    "leapYears"
   ]
  },
  {
   "cell_type": "code",
   "execution_count": 91,
   "metadata": {},
   "outputs": [
    {
     "data": {
      "text/plain": [
       "[3]"
      ]
     },
     "execution_count": 91,
     "metadata": {},
     "output_type": "execute_result"
    }
   ],
   "source": [
    "li = [1,2,3,2,1]\n",
    "unique = [i for i in range(0,len(li)) if sorted(li.count(i) == 1]\n",
    "unique"
   ]
  },
  {
   "cell_type": "markdown",
   "metadata": {},
   "source": [
    "### Iterators\n",
    "\n",
    "- **Iterable** -  Strings,Lists, Tuples, Sets, Dictionaries\n",
    "- Convert Iterable to Iterator  -> iter()\n",
    "- **For Loop** : goes through every element untill condition reached\n",
    "\n",
    "- **Iterator**: we can stop at anywhere and start at any time"
   ]
  },
  {
   "cell_type": "code",
   "execution_count": 96,
   "metadata": {},
   "outputs": [
    {
     "data": {
      "text/plain": [
       "'y'"
      ]
     },
     "execution_count": 96,
     "metadata": {},
     "output_type": "execute_result"
    }
   ],
   "source": [
    "it = iter('Python')\n",
    "next(it)   # --> 'P'\n",
    "next(it)   # --> 'y'"
   ]
  },
  {
   "cell_type": "code",
   "execution_count": 97,
   "metadata": {},
   "outputs": [
    {
     "name": "stdout",
     "output_type": "stream",
     "text": [
      "P\n",
      "y\n"
     ]
    }
   ],
   "source": [
    "it = iter('Python')\n",
    "print(next(it))   \n",
    "print(next(it))"
   ]
  },
  {
   "cell_type": "code",
   "execution_count": 105,
   "metadata": {},
   "outputs": [
    {
     "name": "stdout",
     "output_type": "stream",
     "text": [
      "y\n",
      "h\n",
      "n\n"
     ]
    }
   ],
   "source": [
    "it = iter('Python')\n",
    "\n",
    "for i in it:\n",
    "    print(next(it))"
   ]
  },
  {
   "cell_type": "code",
   "execution_count": 106,
   "metadata": {},
   "outputs": [
    {
     "name": "stdout",
     "output_type": "stream",
     "text": [
      "1: \n",
      "P\n",
      "\n",
      "\n",
      "2: \n",
      "y\n"
     ]
    }
   ],
   "source": [
    "it = iter('Python')\n",
    "\n",
    "print('1: ')\n",
    "print(next(it))\n",
    "print('\\n')\n",
    "print('2: ')\n",
    "print(next(it))"
   ]
  },
  {
   "cell_type": "markdown",
   "metadata": {},
   "source": [
    "### Generators \n",
    "\n",
    "- Generator is Function\n"
   ]
  },
  {
   "cell_type": "code",
   "execution_count": 117,
   "metadata": {},
   "outputs": [
    {
     "name": "stdout",
     "output_type": "stream",
     "text": [
      "2\n",
      "8\n",
      "512\n"
     ]
    }
   ],
   "source": [
    "\n",
    "def generator():\n",
    "    n = 2\n",
    "    yield n\n",
    "    n = n ** 3\n",
    "    yield n\n",
    "    \n",
    "    n = n ** 3\n",
    "    yield n\n",
    "a = generator()\n",
    "print(next(a))\n",
    "print(next(a))\n",
    "print(next(a))\n"
   ]
  },
  {
   "cell_type": "code",
   "execution_count": 120,
   "metadata": {},
   "outputs": [
    {
     "name": "stdout",
     "output_type": "stream",
     "text": [
      "8\n",
      "512\n"
     ]
    }
   ],
   "source": [
    "def generator1():\n",
    "    n = 2\n",
    "    for i in range(1,5):\n",
    "        n **= 3\n",
    "        yield n\n",
    "a = generator1()\n",
    "\n",
    "print(next(a))\n",
    "print(next(a))"
   ]
  },
  {
   "cell_type": "code",
   "execution_count": 127,
   "metadata": {},
   "outputs": [
    {
     "name": "stdout",
     "output_type": "stream",
     "text": [
      "8\n",
      "\n",
      "\n",
      "\n",
      "\n",
      "2417851639229258349412352\n"
     ]
    }
   ],
   "source": [
    "def generator2():\n",
    "    n = 2\n",
    "    while(True):\n",
    "        n **= 3\n",
    "        yield n\n",
    "        \n",
    "a = generator2()\n",
    "\n",
    "# print(next(a))\n",
    "# b=next(a)**2\n",
    "# b *= next(a)\n",
    "# print(next(a))\n",
    "\n",
    "for i in range()\n",
    "\n",
    "\n"
   ]
  },
  {
   "cell_type": "code",
   "execution_count": null,
   "metadata": {},
   "outputs": [],
   "source": []
  }
 ],
 "metadata": {
  "kernelspec": {
   "display_name": "Python 3",
   "language": "python",
   "name": "python3"
  },
  "language_info": {
   "codemirror_mode": {
    "name": "ipython",
    "version": 3
   },
   "file_extension": ".py",
   "mimetype": "text/x-python",
   "name": "python",
   "nbconvert_exporter": "python",
   "pygments_lexer": "ipython3",
   "version": "3.7.3"
  }
 },
 "nbformat": 4,
 "nbformat_minor": 2
}
