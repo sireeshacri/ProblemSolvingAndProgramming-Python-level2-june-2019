{
 "cells": [
  {
   "cell_type": "markdown",
   "metadata": {},
   "source": [
    "# Frequency of numbers in a string"
   ]
  },
  {
   "cell_type": "code",
   "execution_count": 3,
   "metadata": {},
   "outputs": [
    {
     "name": "stdout",
     "output_type": "stream",
     "text": [
      "sjkls72828273hjsje\n",
      "0 0 3 1 0 0 0 2 2 0 "
     ]
    }
   ],
   "source": [
    "# Frequency of every digit in a string\n",
    "# s = 123andj48739292\n",
    "n=input()\n",
    "for i in range(0,10):\n",
    "    print(n.count(str(i)),end=' ')"
   ]
  },
  {
   "cell_type": "code",
   "execution_count": 1,
   "metadata": {},
   "outputs": [
    {
     "name": "stdout",
     "output_type": "stream",
     "text": [
      "0 4 1 1 1 1 1 0 0 0 "
     ]
    }
   ],
   "source": [
    "def digitFrequency2(s):\n",
    "    for i in range(0,10):\n",
    "        count = s.count(str(i))\n",
    "        print(count, end=' ')\n",
    "    return\n",
    "digitFrequency2('213abc456def111')"
   ]
  },
  {
   "cell_type": "markdown",
   "metadata": {},
   "source": [
    "### Problem Statement\n",
    "- Given a string, s , consisting of alphabets and digits, find the frequency of each digit in the given string.\n",
    "\n",
    "- Input Format\n",
    "\n",
    "    - The first line contains a string, num, which is the given number.\n",
    "\n",
    "- Constraints\n",
    "\n",
    "    - 1<=len(num)<=1000\n",
    "\n",
    "    - All the elements of num are made of english alphabets and digits.\n",
    "\n",
    "- Output Format\n",
    "\n",
    "    - Print ten space-separated integers in a single line denoting the frequency of each digit from 0 to 9"
   ]
  },
  {
   "cell_type": "code",
   "execution_count": 9,
   "metadata": {},
   "outputs": [
    {
     "name": "stdout",
     "output_type": "stream",
     "text": [
      "0 4 5 1 0 0 0 1 6 8 "
     ]
    }
   ],
   "source": [
    "# s = 123abc456def\n",
    "# 0 1 1 1 1 1 1 0 0 0 --> frequency of sorted numbers\n",
    "\n",
    "# s = c\n",
    "# 0 0 0 0 0 0 0 0 0 0\n",
    "\n",
    "# s 1234567890\n",
    "# 1 1 1 1 1 1 1 1 1 1 \n",
    "\n",
    "def uniqueData(allnumbers):\n",
    "    unique = []\n",
    "    for n in allnumbers:\n",
    "        if n not in unique:\n",
    "            unique.append(n)\n",
    "    return unique\n",
    "\n",
    "def digitFrequency1(s):\n",
    "    allnumbers = []\n",
    "    for i in s:\n",
    "        if i.isdigit():\n",
    "            allnumbers.append(i)\n",
    "    unique=uniqueData(allnumbers)\n",
    "    for i in range(0,10):\n",
    "        if str(i) not in unique:\n",
    "            print(0,end=' ')\n",
    "        else:\n",
    "            count = allnumbers.count(str(i))\n",
    "            print(count, end=' ')\n",
    "\n",
    "            \n",
    "digitFrequency1('2938729198281919919288829')\n",
    "        "
   ]
  },
  {
   "cell_type": "code",
   "execution_count": 9,
   "metadata": {},
   "outputs": [
    {
     "name": "stdout",
     "output_type": "stream",
     "text": [
      "30 marks stored in file \n"
     ]
    }
   ],
   "source": [
    "# Generation of marks\n",
    "from random import randint\n",
    "def generatemarks(n,lb,ub):\n",
    "    filepath='DataFiles/marks.txt'\n",
    "    with open(filepath,'w') as f:\n",
    "        for i in range(0,n):\n",
    "            r=randint(lb,ub)\n",
    "            f.write(str(r)+'\\n')\n",
    "    print(n,'marks stored in file ')\n",
    "generatemarks(30,1,100)"
   ]
  },
  {
   "cell_type": "code",
   "execution_count": 10,
   "metadata": {},
   "outputs": [
    {
     "name": "stdout",
     "output_type": "stream",
     "text": [
      "60.1\n"
     ]
    }
   ],
   "source": [
    "# def classAverage(filepath):\n",
    "#     sum=0\n",
    "#     count=0\n",
    "#     with open(filepath,'r') as f:\n",
    "#         for i in f:\n",
    "#             sum=sum+int(i)\n",
    "#             count=count+1\n",
    "#         print(sum/count)\n",
    "        \n",
    "# classAverage('DataFiles/marks.txt')"
   ]
  },
  {
   "cell_type": "code",
   "execution_count": 11,
   "metadata": {},
   "outputs": [
    {
     "name": "stdout",
     "output_type": "stream",
     "text": [
      "71.43478260869566\n"
     ]
    }
   ],
   "source": [
    "# # % passed percentage\n",
    "# def passpercentage(filepath):\n",
    "#     count=0\n",
    "#     sum=0\n",
    "#     with open(filepath,'r') as f:\n",
    "#         for i in f:\n",
    "#             if(int(i)>=35):\n",
    "#                 sum=sum+int(i)\n",
    "#                 count=count+1\n",
    "#         print(sum/count)\n",
    "# passpercentage('DataFiles/marks.txt')"
   ]
  },
  {
   "cell_type": "code",
   "execution_count": 16,
   "metadata": {},
   "outputs": [
    {
     "data": {
      "text/plain": [
       "76.66666666666667"
      ]
     },
     "execution_count": 16,
     "metadata": {},
     "output_type": "execute_result"
    }
   ],
   "source": [
    "# # % Pass\n",
    "# def Passpercentage(filepath):\n",
    "#     count=0\n",
    "#     mc=0\n",
    "#     with open(filepath,'r') as f:\n",
    "#         for i in f:\n",
    "#             mc=mc+1\n",
    "#             if(int(i)>=35):\n",
    "#                 count=count+1\n",
    "#         return ((count/mc)*100)\n",
    "# Passpercentage('DataFiles/marks.txt')   "
   ]
  },
  {
   "cell_type": "code",
   "execution_count": 17,
   "metadata": {},
   "outputs": [
    {
     "name": "stdout",
     "output_type": "stream",
     "text": [
      "23.33333333333333\n"
     ]
    }
   ],
   "source": [
    "# # % Fail Percen\n",
    "# def failper(filepath):\n",
    "#     fcount=100 - Passpercentage(filepath)\n",
    "#     return (fcount)\n",
    "    \n",
    "# failper('DataFiles/marks.txt')"
   ]
  },
  {
   "cell_type": "code",
   "execution_count": 13,
   "metadata": {},
   "outputs": [
    {
     "name": "stdout",
     "output_type": "stream",
     "text": [
      "23.333333333333332\n"
     ]
    }
   ],
   "source": [
    "# def failpercentage(filepath):\n",
    "#     count=0\n",
    "#     mc=0\n",
    "#     with open(filepath,'r') as f:\n",
    "#         for i in f:\n",
    "#             mc=mc+1\n",
    "#             if(int(i)<35):\n",
    "#                 count=count+1\n",
    "#         return ((count/mc)*100)\n",
    "# failpercentage('DataFiles/marks.txt')  "
   ]
  },
  {
   "cell_type": "code",
   "execution_count": 22,
   "metadata": {},
   "outputs": [
    {
     "name": "stdout",
     "output_type": "stream",
     "text": [
      "1\n"
     ]
    }
   ],
   "source": [
    "# # Frequency of highest marks -->\n",
    "# def frequencyHighest(filepath):\n",
    "#     with open(filepath,'r') as f:\n",
    "#         sp=f.read().split()\n",
    "#         sp=list(map(int,sp))\n",
    "#         # sp = list(map(str,sp))  # --> can convert int of list element into string\n",
    "#         #print(sp) # --> printing the list of int values of list\n",
    "#         return (sp.count(max(sp)))\n",
    "#     #return \n",
    "# frequencyHighest('DataFiles/marks.txt')"
   ]
  },
  {
   "cell_type": "code",
   "execution_count": 4,
   "metadata": {},
   "outputs": [],
   "source": [
    "# # #% Pass\n",
    "# def Disctionpercentage(filepath):\n",
    "#     count=0\n",
    "#     mc=0\n",
    "#     with open(filepath,'r') as f:\n",
    "#         for i in f:\n",
    "#             mc=mc+1\n",
    "#             if(int(i)>75):\n",
    "#                 count=count+1\n",
    "#         return ((count/mc)*100)\n",
    "# Disctionpercentage('DataFiles/marks.txt')   "
   ]
  },
  {
   "cell_type": "code",
   "execution_count": 26,
   "metadata": {},
   "outputs": [
    {
     "name": "stdout",
     "output_type": "stream",
     "text": [
      "2\n"
     ]
    }
   ],
   "source": [
    "# # Frequency of lowest marks -->\n",
    "# def frequencyLowest(filepath):\n",
    "#     with open(filepath,'r') as f:\n",
    "#         sp=f.read().split()\n",
    "#         sp=list(map(int,sp))\n",
    "#         # sp = list(map(str,sp))  # --> can convert int of list element into string\n",
    "#         #print(sp) # --> printing the list of int values of list\n",
    "#         return (sp.count(min(sp)))\n",
    "#     return \n",
    "# frequencyLowest('DataFiles/marks.txt')"
   ]
  },
  {
   "cell_type": "code",
   "execution_count": 1,
   "metadata": {},
   "outputs": [],
   "source": [
    "# Generation of marks\n",
    "from random import randint\n",
    "def generatemarks(n,lb,ub):\n",
    "    filepath='DataFiles/marks.txt'\n",
    "    with open(filepath,'w') as f:\n",
    "        for i in range(0,n):\n",
    "            r=randint(lb,ub)\n",
    "            f.write(str(r)+'\\n')\n",
    "    #print(n,'marks stored in file ')\n",
    "#generatemarks(30,1,100)\n",
    "\n",
    "def classAverage(filepath):\n",
    "    sum=0\n",
    "    count=0\n",
    "    with open(filepath,'r') as f:\n",
    "        for i in f:\n",
    "            sum=sum+int(i)\n",
    "            count=count+1\n",
    "        return (sum/count)\n",
    "        \n",
    "#classAverage('DataFiles/marks.txt')\n",
    "\n",
    "\n",
    "# % Pass\n",
    "def Passpercentage(filepath):\n",
    "    count=0\n",
    "    mc=0\n",
    "    with open(filepath,'r') as f:\n",
    "        for i in f:\n",
    "            mc=mc+1\n",
    "            if(int(i)>=35):\n",
    "                count=count+1\n",
    "        return ((count/mc)*100)\n",
    "#Passpercentage('DataFiles/marks.txt')   \n",
    "\n",
    "def failpercentage(filepath):\n",
    "    count=0\n",
    "    mc=0\n",
    "    with open(filepath,'r') as f:\n",
    "        for i in f:\n",
    "            mc=mc+1\n",
    "            if(int(i)<35):\n",
    "                count=count+1\n",
    "        return ((count/mc)*100)\n",
    "#failpercentage('DataFiles/marks.txt')  \n",
    "\n",
    "# Frequency of highest marks -->\n",
    "def frequencyHighest(filepath):\n",
    "    with open(filepath,'r') as f:\n",
    "        sp=f.read().split()\n",
    "        sp=list(map(int,sp))\n",
    "        # sp = list(map(str,sp))  # --> can convert int of list element into string\n",
    "        #print(sp) # --> printing the list of int values of list\n",
    "        return (sp.count(max(sp)))\n",
    "    #return \n",
    "#frequencyHighest('DataFiles/marks.txt')\n",
    "\n",
    "# Frequency of lowest marks -->\n",
    "def frequencyLowest(filepath):\n",
    "    with open(filepath,'r') as f:\n",
    "        sp=f.read().split()\n",
    "        sp=list(map(int,sp))\n",
    "        # sp = list(map(str,sp))  # --> can convert int of list element into string\n",
    "        #print(sp) # --> printing the list of int values of list\n",
    "        return (sp.count(min(sp)))\n",
    "    #return \n",
    "#frequencyLowest('DataFiles/marks.txt')\n",
    "\n",
    "# #% disction\n",
    "def Disctionpercentage(filepath):\n",
    "    count=0\n",
    "    mc=0\n",
    "    with open(filepath,'r') as f:\n",
    "        for i in f:\n",
    "            mc=mc+1\n",
    "            if(int(i)>75):\n",
    "                count=count+1\n",
    "        return ((count/mc)*100)\n",
    "#Disctionpercentage('DataFiles/marks.txt')   "
   ]
  },
  {
   "cell_type": "code",
   "execution_count": 3,
   "metadata": {},
   "outputs": [
    {
     "name": "stdout",
     "output_type": "stream",
     "text": [
      "Choose option :\n",
      "1).Generation of Marks\n",
      "2).Class Average\n",
      "3). % of pass\n",
      " 4). % of fail\n",
      "5).% Disction\n",
      " 6).Highest Frequency\n",
      "7). Lowest Frequency\n",
      "1\n",
      "50\n",
      "Choose option :\n",
      "1).Generation of Marks\n",
      "2).Class Average\n",
      "3). % of pass\n",
      " 4). % of fail\n",
      "5).% Disction\n",
      " 6).Highest Frequency\n",
      "7). Lowest Frequency\n",
      "5\n",
      "24.0\n",
      "Choose option :\n",
      "1).Generation of Marks\n",
      "2).Class Average\n",
      "3). % of pass\n",
      " 4). % of fail\n",
      "5).% Disction\n",
      " 6).Highest Frequency\n",
      "7). Lowest Frequency\n",
      "8\n"
     ]
    }
   ],
   "source": [
    "def marksAnalysis(filepath):\n",
    "    while True:\n",
    "        n=int(input(\"Choose option :\\n1).Generation of Marks\\n2).Class Average\\n3). % of pass\\n 4). % of fail\\n5).% Disction\\n 6).Highest Frequency\\n7). Lowest Frequency\\n\"))\n",
    "        if(n==1):\n",
    "            st=int(input())\n",
    "            generatemarks(st,1,100)\n",
    "        elif(n==2):\n",
    "            print(classAverage(filepath))\n",
    "        elif(n==3):\n",
    "            print(Passpercentage(filepath))\n",
    "        elif(n==4):\n",
    "            print(failpercentage(filepath))\n",
    "        elif(n==5):\n",
    "            print(Disctionpercentage(filepath))\n",
    "        elif(n==6):\n",
    "            print(frequencyHighest(filepath))\n",
    "        elif(n==7):\n",
    "            print(frequencyLowest(filepath))\n",
    "        else:\n",
    "            break\n",
    "    return\n",
    "marksAnalysis('DataFiles/marks.txt')"
   ]
  },
  {
   "cell_type": "code",
   "execution_count": 7,
   "metadata": {},
   "outputs": [
    {
     "data": {
      "text/plain": [
       "False"
      ]
     },
     "execution_count": 7,
     "metadata": {},
     "output_type": "execute_result"
    }
   ],
   "source": [
    "# Function to check if two strings are anagrams\n",
    "# abc cbc --> True\n",
    "# {'ea':1,'b':1,'c':1} {'c':1, 'a':1, 'b':1}   --> both dictionaries are same there is no order following in dict both are \n",
    "# aabbcc ccbbaaa --> False\n",
    "# By Sorting the strings we will get as --> aabbcc  aaabbcc\n",
    "def checkAnagrams(s1,s2): \n",
    "    if len(s1) != len(s2):\n",
    "        return False\n",
    "    if sorted(s1) == sorted(s2):\n",
    "        return True\n",
    "    return False\n",
    "checkAnagrams('abc','bcc')\n"
   ]
  },
  {
   "cell_type": "code",
   "execution_count": 9,
   "metadata": {},
   "outputs": [
    {
     "name": "stdout",
     "output_type": "stream",
     "text": [
      "2\n",
      "cde\n",
      "abc\n",
      "4\n",
      "dfdskc\n",
      "acjdd\n",
      "5\n"
     ]
    }
   ],
   "source": [
    "t=int(input())\n",
    "for i in range(0,t):\n",
    "    s1=sorted(input())\n",
    "    s2=sorted(input())\n",
    "    \n",
    "    count=0\n",
    "    for i in s1:\n",
    "        if i not in s2:\n",
    "            count+=1\n",
    "    for i in s2:\n",
    "        if i not in s1:\n",
    "            count+=1\n",
    "    print(count)"
   ]
  },
  {
   "cell_type": "code",
   "execution_count": 15,
   "metadata": {},
   "outputs": [
    {
     "name": "stdout",
     "output_type": "stream",
     "text": [
      "2\n",
      "cde\n",
      "abd\n",
      "4\n",
      "jskjdksaa\n",
      "aajdjskjx\n",
      "4\n"
     ]
    }
   ],
   "source": [
    "def CharDeletionsAnagrams(s1,s2):\n",
    "    # characters occuring  only  string\n",
    "    uncommon = [] # to collect all uncommon characters i.e., characters occuring only in a single string\n",
    "    for i in s1:\n",
    "        if i not in s2:\n",
    "            uncommon.append(i)\n",
    "    for i in s2:\n",
    "        if i not in s1:\n",
    "            uncommon.append(i)\n",
    "    count = len(uncommon)\n",
    "    # freqs1 -> Freqency of common charactes which are only in s1\n",
    "    # freqs2 -> Freqency of common charactes which are only in s2\n",
    "    freqs1 = {}\n",
    "    freqs2 = {}\n",
    "    # uniqs1 ,uniqs2 --> Unique characters in s1 and s2 \n",
    "    uniqs1 = []\n",
    "    uniqs2 = []\n",
    "    # Frequency of common unique characters in s1\n",
    "    for i in s1:\n",
    "        if i not in uncommon and i not in uniqs1:\n",
    "            freqs1[i] = s1.count(i)\n",
    "            uniqs1.append(i)\n",
    "    # Frequency ofcommon unique characters in s2\n",
    "    for i in s2:\n",
    "        if i not in uncommon and i not in uniqs2:\n",
    "            freqs2[i] = s2.count(i)\n",
    "            uniqs2.append(i)\n",
    "    # Diffence in frequencies for common characters\n",
    "    for key in freqs1.keys():\n",
    "        count +=abs(freqs1[key] - freqs2[key])\n",
    "    return count\n",
    "t=int(input())\n",
    "for i in range(0,t):\n",
    "    s1=input()\n",
    "    s2=input()\n",
    "    print(CharDeletionsAnagrams(s1,s2))"
   ]
  },
  {
   "cell_type": "code",
   "execution_count": 2,
   "metadata": {},
   "outputs": [
    {
     "name": "stdout",
     "output_type": "stream",
     "text": [
      "2\n",
      "cde \n",
      "abc\n",
      "4\n",
      "abc\n",
      "cds\n",
      "4\n"
     ]
    }
   ],
   "source": [
    "n= int(input())\n",
    "for i in range(n):\n",
    "    s1=input()\n",
    "    s2=input()\n",
    "    x1=[]\n",
    "    x2=[]\n",
    "    x=[]\n",
    "    temp= ord('a')\n",
    "    for i in range(0,26):\n",
    "        x1.append(s1.count(chr(temp)))\n",
    "        x2.append(s2.count(chr(temp)))\n",
    "        temp = temp+1\n",
    "    for j in range(0,26):\n",
    "        x.append(abs(x2[j]-x1[j]))\n",
    "    print(sum(x))\n",
    "                  "
   ]
  },
  {
   "cell_type": "code",
   "execution_count": 9,
   "metadata": {},
   "outputs": [
    {
     "data": {
      "text/plain": [
       "3"
      ]
     },
     "execution_count": 9,
     "metadata": {},
     "output_type": "execute_result"
    }
   ],
   "source": [
    "# Function to kLarest Frequency\n",
    "# {a:4, g:9, i:6, p:213, c:6}\n",
    "# [4,6,6,9,213]\n",
    "# [213,9,6,6,4]\n",
    "# [a,c,g,i,p]\n",
    "# k = 3\n",
    "# li = []\n",
    "# for item in d.items():\n",
    "#     if item[1] == 6\n",
    "#         li.append(item[0])\n",
    "# li = [i, c]\n",
    "\n",
    "def KLargestFrequency(s, k):\n",
    "    # Consturct the frequency dictionary\n",
    "    unique = []\n",
    "    freq = {}\n",
    "    for i in s:\n",
    "        if i not in freq.keys():\n",
    "            freq[i] = s.count(i)\n",
    "            values = sorted(freq.values(), reverse=True)\n",
    "            uniqueValues = list(set(values))\n",
    "            uniqueValues = sorted(uniqueValues, reverse = True)\n",
    "    kvalue = uniqueValues[k-1]\n",
    "    return kvalue\n",
    "            \n",
    "KLargestFrequency([2,3,4,3,2,4,2,4,9,6,5,4],2)"
   ]
  },
  {
   "cell_type": "code",
   "execution_count": null,
   "metadata": {},
   "outputs": [],
   "source": []
  }
 ],
 "metadata": {
  "kernelspec": {
   "display_name": "Python 3",
   "language": "python",
   "name": "python3"
  },
  "language_info": {
   "codemirror_mode": {
    "name": "ipython",
    "version": 3
   },
   "file_extension": ".py",
   "mimetype": "text/x-python",
   "name": "python",
   "nbconvert_exporter": "python",
   "pygments_lexer": "ipython3",
   "version": "3.7.3"
  }
 },
 "nbformat": 4,
 "nbformat_minor": 2
}
