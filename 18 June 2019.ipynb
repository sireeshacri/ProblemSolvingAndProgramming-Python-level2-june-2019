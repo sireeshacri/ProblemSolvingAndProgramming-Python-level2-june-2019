{
 "cells": [
  {
   "cell_type": "markdown",
   "metadata": {},
   "source": [
    "### Problem Statements\n",
    "### Special Number\n",
    "- A special number is defined as a number which has at least P disctinct prime factors \n",
    "- Write a program to determine whether a number N is a special number \n",
    "- Input Format \n",
    "    - First line: P\n",
    "    - Second line: T(number of test cases)\n",
    "    - Next T lines: N\n",
    "- output Format\n",
    " - for each test case ,print YES or NO depending on the result\n",
    "- Constraints\n",
    " - 1<=T<=20\n",
    " - 1<=P<=10**7\n",
    " - 1<=P<=N\n",
    " \n",
    "- Sample Input                        - Sample Output\n",
    "    - 2                                \n",
    "    - 6                                \n",
    "    - 1                                  - NO                                \n",
    "    - 6                                  - YES\n",
    "    - 7                                  - NO\n",
    "    - 8                                  - NO\n",
    "    - 9                                  - NO\n",
    "    - 10                                 - YES"
   ]
  },
  {
   "cell_type": "code",
   "execution_count": 1,
   "metadata": {},
   "outputs": [
    {
     "name": "stdout",
     "output_type": "stream",
     "text": [
      "2\n",
      "6\n",
      "34\n",
      "NO\n",
      "6\n",
      "YES\n",
      "28\n",
      "NO\n",
      "45\n",
      "YES\n",
      "67\n",
      "NO\n",
      "10\n",
      "YES\n"
     ]
    }
   ],
   "source": [
    "def isPrime(n):\n",
    "    c=0\n",
    "    for i in range(1,n+1):\n",
    "        if n%i==0:\n",
    "            c+=1\n",
    "    if(c==2):\n",
    "        return True\n",
    "    else:\n",
    "        return False\n",
    "\n",
    "def SpecialNum(num):\n",
    "    count = 0\n",
    "    \n",
    "    for i in range(1,T+1):\n",
    "        #count = 0\n",
    "        if num%i==0:\n",
    "           \n",
    "            if isPrime(i):\n",
    "                count=count+1\n",
    "    if(count>=pcount):\n",
    "        return \"YES\"\n",
    "    else:\n",
    "        return \"NO\"\n",
    "            \n",
    "            \n",
    "\n",
    "            \n",
    "pcount=int(input())\n",
    "T=int(input())\n",
    "for i in range(1,T+1):\n",
    "    num = int(input()) \n",
    "    print(SpecialNum(num))\n",
    "                "
   ]
  },
  {
   "cell_type": "code",
   "execution_count": 3,
   "metadata": {},
   "outputs": [
    {
     "name": "stdout",
     "output_type": "stream",
     "text": [
      "5\n"
     ]
    },
    {
     "data": {
      "text/plain": [
       "True"
      ]
     },
     "execution_count": 3,
     "metadata": {},
     "output_type": "execute_result"
    }
   ],
   "source": [
    "def PrimeorNot(n):\n",
    "    flag = 1\n",
    "    if n == 2:\n",
    "        return True\n",
    "    for i in range(2,n//2 + 1):\n",
    "        if n % i == 0:\n",
    "            flag = 0\n",
    "            return False\n",
    "    if flag == 1:\n",
    "        return True\n",
    "    \n",
    "n = int(input())\n",
    "PrimeorNot(n)"
   ]
  },
  {
   "cell_type": "markdown",
   "metadata": {},
   "source": [
    "## Problem Statement\n",
    "### Play with Numbers"
   ]
  },
  {
   "cell_type": "code",
   "execution_count": null,
   "metadata": {},
   "outputs": [],
   "source": [
    "# Read no of array elements  and no of queries\n",
    "n = input().split()\n",
    "n[0],n[1]= int(n[0]), int(n[1])\n",
    "\n",
    "# Read array elements\n",
    "\n",
    "a= input().split()\n",
    "\n",
    "sum = [] # initialize cummulative sum array\n",
    "\n",
    "# Cummulative Sum\n",
    "for i in range(0,n[0]):\n",
    "    if i == 0:\n",
    "        sum.append(int(a[i]))\n",
    "    else:\n",
    "        sum.append(int(sum[i-1])+ int(a[i]))\n",
    "del a\n",
    "        \n",
    "        \n",
    "        \n",
    "# Read each query and calculate the average\n",
    "for i in range(0,):\n",
    "    inq = input.split()     # input query\n",
    "    i = int(inq[0])\n",
    "    j = int(inq[1])\n",
    "    print()\n",
    "    "
   ]
  },
  {
   "cell_type": "markdown",
   "metadata": {},
   "source": [
    "### Problem Statememt\n",
    "\n",
    "- Consider All lowercase Alphabets of the English language. Here we consider each alphabet from a to z to have a certain weight. The weight of the alphabet a is considered to be 1, b to be 2, c to be 3 and so on until z has a weight of 26. In short, the weight of the alphabet a is 1, and the weight of all other alphabets is the weight of its previous alphabet + 1.\n",
    "\n",
    "- Now, you have been given a String S consisting of lowercase English characters. You need to find the summation of weight of each character in this String.\n",
    "\n",
    "- For example, Consider the String aba\n",
    "\n",
    "- Here, the first character a has a weight of 1, the second character b has 2 and the third character a again has a weight of            - 1. So the summation here is equal to : 1+2+1=4\n",
    "\n",
    "- Input Format:\n",
    "\n",
    "    - The first and only line of input contains the String S.\n",
    "\n",
    "- Output Format:\n",
    "\n",
    "    - Print the required answer on a single line\n",
    "\n",
    "- Constraints:\n",
    "    - 1≤|S|≤100\n",
    "- Sample Input  - Sample Output\n",
    "    - aba            -4"
   ]
  },
  {
   "cell_type": "code",
   "execution_count": 1,
   "metadata": {},
   "outputs": [
    {
     "name": "stdout",
     "output_type": "stream",
     "text": [
      "abcd\n",
      "10\n"
     ]
    }
   ],
   "source": [
    "# Char Sum\n",
    "def charsum(s):\n",
    "    sum = 0\n",
    "    for i in range(0,len(s)):\n",
    "        e = ord(s[i]) - 96\n",
    "        sum = sum + e\n",
    "    return sum\n",
    "        \n",
    "\n",
    "\n",
    "s=input()\n",
    "print(charsum(s))"
   ]
  },
  {
   "cell_type": "markdown",
   "metadata": {},
   "source": [
    "### Problem : Highest Remainder\n",
    "- Write a program to find a natural number that is smaller  than n such that N gives the highest remainder when divided by that number, If there is more than one such number,print the smallest one.\n",
    "\n",
    "- input format\n",
    "    - First line: T (number of test cases)\n",
    "    - Next T line : N\n",
    "- Output farmat\n",
    "    - for each test case,print a natural number that is smaller than N such that N gives the hightest remainder when divided by that number\n",
    "- Constraints\n",
    "    - 1<=T<=10**5\n",
    "    - 2<=N<= 10**9\n",
    "- Sample Input - Sample Output\n",
    " - 2\n",
    " - 5   - 3\n",
    " - 4   - 3\n",
    "- Explanation \n",
    "    - 4 % 3 = 1 & 5 % 3 = 2\n",
    "    - These are the maximum possible remainders for 4 and 5"
   ]
  },
  {
   "cell_type": "code",
   "execution_count": 7,
   "metadata": {},
   "outputs": [
    {
     "name": "stdout",
     "output_type": "stream",
     "text": [
      "16\n"
     ]
    }
   ],
   "source": [
    "def highestRemainder(n):\n",
    "    hr = 0\n",
    "    v = n\n",
    "    for i in range(n-1, n // 2 , -1):\n",
    "        r = n % i\n",
    "        if r > hr:\n",
    "            hr = r\n",
    "            v = i\n",
    "    print(v)\n",
    "    return \n",
    "highestRemainder(30)"
   ]
  },
  {
   "cell_type": "code",
   "execution_count": 12,
   "metadata": {},
   "outputs": [
    {
     "name": "stdout",
     "output_type": "stream",
     "text": [
      "22 3 4 5 6 77 6 \n"
     ]
    }
   ],
   "source": [
    "#li[]\n",
    "s = input()\n",
    "li = [s.split()]\n",
    "#li"
   ]
  },
  {
   "cell_type": "markdown",
   "metadata": {},
   "source": [
    "### Tuples\n",
    "\n",
    "Difference between Lists and  Tuples\n",
    "\n",
    "- t1 = ( )      --> Tuple\n",
    "- li = [ ]      --> List\n",
    "\n",
    "lists are mutable  - can be changed / modified-\n",
    "- Used to Access, Modify,Add,Delete data \n",
    "\n",
    "\n",
    "Tuples are immutable - Cannot be changed once initialised\n",
    "- Used to access data only \n",
    "- All Slicing  operations work"
   ]
  },
  {
   "cell_type": "code",
   "execution_count": 19,
   "metadata": {},
   "outputs": [
    {
     "data": {
      "text/plain": [
       "(8, 6, 0)"
      ]
     },
     "execution_count": 19,
     "metadata": {},
     "output_type": "execute_result"
    }
   ],
   "source": [
    "t1 = (1, 2, 8, 6, 0)\n",
    "\n",
    "t1[3]    # Accessing the fourth element\n",
    "\n",
    "# Accessing all elements from middle to last\n",
    "t1[len(t1)//2:]  "
   ]
  },
  {
   "cell_type": "code",
   "execution_count": 20,
   "metadata": {},
   "outputs": [
    {
     "data": {
      "text/plain": [
       "tuple"
      ]
     },
     "execution_count": 20,
     "metadata": {},
     "output_type": "execute_result"
    }
   ],
   "source": [
    "type(t1)"
   ]
  },
  {
   "cell_type": "code",
   "execution_count": null,
   "metadata": {},
   "outputs": [],
   "source": []
  },
  {
   "cell_type": "markdown",
   "metadata": {},
   "source": [
    "### Dictionaries\n",
    "\n",
    "It works on the concept of Set \n",
    "- Dictionaries has Unique Data\n",
    "\n",
    "It has two  parameters\n",
    "\n",
    "Keys, Values\n",
    "- Key is the unique identifier for a value \n",
    "- Value is data that can be accessed with a key\n",
    "\n",
    "- Dictionaries are like list we can add delete an element"
   ]
  },
  {
   "cell_type": "code",
   "execution_count": 21,
   "metadata": {},
   "outputs": [
    {
     "data": {
      "text/plain": [
       "'value2'"
      ]
     },
     "execution_count": 21,
     "metadata": {},
     "output_type": "execute_result"
    }
   ],
   "source": [
    "d1 = {\"k1\":\"Value1\", \"k2\":\"value2\" }\n",
    "d1[\"k2\"]   # Accessing the value with key \"k2\"\n"
   ]
  },
  {
   "cell_type": "code",
   "execution_count": 22,
   "metadata": {},
   "outputs": [
    {
     "data": {
      "text/plain": [
       "dict_keys(['k1', 'k2'])"
      ]
     },
     "execution_count": 22,
     "metadata": {},
     "output_type": "execute_result"
    }
   ],
   "source": [
    "d1.keys() # return list of all keys"
   ]
  },
  {
   "cell_type": "code",
   "execution_count": 23,
   "metadata": {},
   "outputs": [
    {
     "data": {
      "text/plain": [
       "dict_values(['Value1', 'value2'])"
      ]
     },
     "execution_count": 23,
     "metadata": {},
     "output_type": "execute_result"
    }
   ],
   "source": [
    "d1.values() # returns list of all values"
   ]
  },
  {
   "cell_type": "code",
   "execution_count": 24,
   "metadata": {},
   "outputs": [
    {
     "data": {
      "text/plain": [
       "dict_items([('k1', 'Value1'), ('k2', 'value2')])"
      ]
     },
     "execution_count": 24,
     "metadata": {},
     "output_type": "execute_result"
    }
   ],
   "source": [
    "d1.items() # returns list of tuples of keys and values"
   ]
  },
  {
   "cell_type": "code",
   "execution_count": 26,
   "metadata": {},
   "outputs": [
    {
     "data": {
      "text/plain": [
       "{'k1': 'Value1', 'k2': 'value2', 'k3': 'value3'}"
      ]
     },
     "execution_count": 26,
     "metadata": {},
     "output_type": "execute_result"
    }
   ],
   "source": [
    "d1[\"k3\"] = \"value3\"    # Adding a key and value to d1\n",
    "d1"
   ]
  },
  {
   "cell_type": "code",
   "execution_count": 39,
   "metadata": {},
   "outputs": [
    {
     "data": {
      "text/plain": [
       "False"
      ]
     },
     "execution_count": 39,
     "metadata": {},
     "output_type": "execute_result"
    }
   ],
   "source": [
    "# Updating an element\n",
    "d1[\"k3\"] = \"value4\"   # Value of key 3 i.e k3 has updated,But we cannot obtain key \n",
    "d1\n",
    "d1.pop(\"k3\")  # Removing an element\n",
    "\"k3\" in d1    # --> False\n",
    "\"k1\" in d1   # --> True\n",
    "\"value1\" in d1  # --> False   since it only searching for keys\n",
    "\n",
    "\n"
   ]
  },
  {
   "cell_type": "markdown",
   "metadata": {},
   "source": [
    "### Contacts Application\n",
    "- Add Contact\n",
    "- Search for contact\n",
    "- List all contacts\n",
    "    - name1 : phone1\n",
    "    - name2 : phone2\n",
    "- Modify contact\n",
    "- Remove contact\n",
    "- Import contacts"
   ]
  },
  {
   "cell_type": "code",
   "execution_count": 64,
   "metadata": {},
   "outputs": [
    {
     "name": "stdout",
     "output_type": "stream",
     "text": [
      "Contact name1 added\n"
     ]
    }
   ],
   "source": [
    "contacts = {}\n",
    "\n",
    "def addContact(name,phone):\n",
    "    # verify that the caontact already exit in contacts\n",
    "    if name not in contacts:\n",
    "        contacts[name] = phone\n",
    "        print(\"Contact %s added\"  % name)\n",
    "    else:\n",
    "        print(\"Contact %s already exits\"  % name)\n",
    "    return\n",
    "\n",
    "addContact(\"name1\",\"1234567890\")\n",
    "#addContact()"
   ]
  },
  {
   "cell_type": "code",
   "execution_count": 65,
   "metadata": {},
   "outputs": [
    {
     "name": "stdout",
     "output_type": "stream",
     "text": [
      "name1 : 1234567890\n"
     ]
    }
   ],
   "source": [
    "def searchContacts(name):\n",
    "    if name in contacts:\n",
    "        print(name, \":\", contacts[name])\n",
    "    else:\n",
    "        print(\"%s does not exists\" % name)\n",
    "    return \n",
    "searchContacts(\"name1\")"
   ]
  },
  {
   "cell_type": "code",
   "execution_count": 62,
   "metadata": {},
   "outputs": [
    {
     "name": "stdout",
     "output_type": "stream",
     "text": [
      "2  contacts added successfully\n"
     ]
    }
   ],
   "source": [
    "# New contacts is given as a dictionary\n",
    "# Merge new contacts with existing contacts\n",
    "def importContacts(newContacts):\n",
    "    contacts.update(newContacts)\n",
    "    print(len(newContacts.keys()),\" contacts added successfully\")\n",
    "    return\n",
    "newContacts = {\"name2\":9876543210,\"name3\":6537837637}\n",
    "\n",
    "importContacts(newContacts)\n",
    "    "
   ]
  },
  {
   "cell_type": "code",
   "execution_count": 63,
   "metadata": {},
   "outputs": [
    {
     "data": {
      "text/plain": [
       "{'name1': '1234567890', 'name2': 9876543210, 'name3': 6537837637}"
      ]
     },
     "execution_count": 63,
     "metadata": {},
     "output_type": "execute_result"
    }
   ],
   "source": [
    "contacts"
   ]
  },
  {
   "cell_type": "code",
   "execution_count": null,
   "metadata": {},
   "outputs": [],
   "source": [
    "def modifyContacts():\n",
    "    "
   ]
  },
  {
   "cell_type": "code",
   "execution_count": null,
   "metadata": {},
   "outputs": [],
   "source": []
  },
  {
   "cell_type": "code",
   "execution_count": null,
   "metadata": {},
   "outputs": [],
   "source": []
  },
  {
   "cell_type": "code",
   "execution_count": null,
   "metadata": {},
   "outputs": [],
   "source": []
  },
  {
   "cell_type": "code",
   "execution_count": null,
   "metadata": {},
   "outputs": [],
   "source": []
  },
  {
   "cell_type": "markdown",
   "metadata": {},
   "source": [
    "### Packages and Modules\n",
    "\n",
    "- **Packages** -->  Collection of Modules(Python File.py) and subpackage\n",
    "- **Module**  -->   A single python file containing functions\n",
    "- Package --> Subpackages  --> Modules  --> Function"
   ]
  },
  {
   "cell_type": "code",
   "execution_count": 69,
   "metadata": {},
   "outputs": [
    {
     "data": {
      "text/plain": [
       "3.141592653589793"
      ]
     },
     "execution_count": 69,
     "metadata": {},
     "output_type": "execute_result"
    }
   ],
   "source": [
    "import math\n",
    "\n",
    "math.floor(123.456)\n",
    "\n",
    "math.pi"
   ]
  },
  {
   "cell_type": "code",
   "execution_count": 74,
   "metadata": {},
   "outputs": [
    {
     "data": {
      "text/plain": [
       "3.141592653589793"
      ]
     },
     "execution_count": 74,
     "metadata": {},
     "output_type": "execute_result"
    }
   ],
   "source": [
    "from math import floor,pi\n",
    "floor(12888.980993993)   # output -->1288\n",
    "pi\n"
   ]
  },
  {
   "cell_type": "code",
   "execution_count": 75,
   "metadata": {},
   "outputs": [
    {
     "data": {
      "text/plain": [
       "23444"
      ]
     },
     "execution_count": 75,
     "metadata": {},
     "output_type": "execute_result"
    }
   ],
   "source": [
    "from math import floor as fl\n",
    "fl(23444.99494949)"
   ]
  },
  {
   "cell_type": "code",
   "execution_count": 85,
   "metadata": {},
   "outputs": [
    {
     "name": "stdout",
     "output_type": "stream",
     "text": [
      "90 48 25 51 51 8 47 4 46 70 "
     ]
    }
   ],
   "source": [
    "# Function to generate N random numbers\n",
    "\n",
    "import random\n",
    "\n",
    "def generateNRandomNumbers(n, lb, ub):\n",
    "    for i in range(0,n):\n",
    "        print(random.randint(lb,ub),end=\" \")\n",
    "        \n",
    "        \n",
    "generateNRandomNumbers(10, 0, 100)\n",
    "    "
   ]
  },
  {
   "cell_type": "code",
   "execution_count": 4,
   "metadata": {},
   "outputs": [
    {
     "data": {
      "text/plain": [
       "True"
      ]
     },
     "execution_count": 4,
     "metadata": {},
     "output_type": "execute_result"
    }
   ],
   "source": [
    "from Packages import numerical\n",
    "\n",
    "numerical.isPrime(5)"
   ]
  },
  {
   "cell_type": "code",
   "execution_count": 5,
   "metadata": {},
   "outputs": [],
   "source": [
    "from Packages.numerical import isPrime"
   ]
  },
  {
   "cell_type": "markdown",
   "metadata": {},
   "source": [
    "### Problem Statement \n",
    "**Goki and his breakup**\n",
    "- Goki recently had a breakup, so he wants to have some more friends in his life. Goki has N people who he can be friends with, so he decides to choose among them according to their skills set Yi(1<=i<=n). He wants atleast X skills in his friends.\n",
    "- Help Goki find his friends.\n",
    "-  INPUT\n",
    "    - First line of the input contains an integer N denoting the number of people.\n",
    "\n",
    "    - Next line contains a single integer X - denoting the minimum skill required to be Goki's friend. \n",
    "\n",
    "    - Next n lines contain one integer Y - denoting the skill of ith person.\n",
    "- OUTPUT\n",
    "    - For each person print if he can be friend with Goki. 'YES' (without quotes) if he can be friends with Goki else 'NO' (without quotes).\n",
    "\n",
    "- CONSTRAINTS\n",
    "\n",
    "    - 1<=N<=1000000\n",
    "    - 1<=X,Y<=1000000\n",
    "- SAMPLE INPUT  - SAMPLE OUTPUT\n",
    "   - 5\n",
    "   - 100\n",
    "   - 110   --> YES\n",
    "   - 130   ---> YES\n",
    "   - 90    ---> NO\n",
    "   - 100   ---> YES\n",
    "   - 45    ---> NO\n"
   ]
  },
  {
   "cell_type": "code",
   "execution_count": 6,
   "metadata": {},
   "outputs": [
    {
     "name": "stdout",
     "output_type": "stream",
     "text": [
      "5\n",
      "100\n",
      "110\n",
      "YES\n",
      "23\n",
      "NO\n",
      "555\n",
      "YES\n",
      "456\n",
      "YES\n",
      "23\n",
      "NO\n"
     ]
    }
   ],
   "source": [
    "# GOKI AND HIS BREAKUP\n",
    "def GokiFrnd(Y):\n",
    "    if Y>=X:\n",
    "        print(\"YES\")\n",
    "    else:\n",
    "        print(\"NO\")\n",
    "\n",
    "N = int(input())\n",
    "X = int(input())\n",
    "for i in range(1,N+1):\n",
    "    Y = int(input())\n",
    "    GokiFrnd(Y)"
   ]
  },
  {
   "cell_type": "code",
   "execution_count": 1,
   "metadata": {},
   "outputs": [
    {
     "name": "stdout",
     "output_type": "stream",
     "text": [
      "5 3\n",
      "1 2 3 4 5\n",
      "1 3 \n",
      "2\n",
      "3 5\n",
      "4\n",
      "1 5\n",
      "3\n"
     ]
    }
   ],
   "source": [
    "# Play with numbers\n",
    "\n",
    "n = input().split()\n",
    "n[0],n[1] = int(n[0]),int(n[1])\n",
    "\n",
    "a = input().split()\n",
    "sum = []\n",
    "\n",
    "# Cummualative Sum\n",
    "for i in range(0,n[0]):\n",
    "    if i == 0:\n",
    "        sum.append(int(a[i]))\n",
    "    else:\n",
    "        sum.append(int(sum[i-1])+int(a[i]))\n",
    "del a\n",
    "   # sum[0] = # first element\n",
    "    #sum[1] = #first + second\n",
    "    #sum[2] = # sum[1]+ third element\n",
    "for k in range(0,n[1]):\n",
    "    l,r = map(int,input().split())\n",
    "    if l>1:\n",
    "        print((sum[r-1] - sum[l-2]) // (r -l +1))\n",
    "    else:\n",
    "        print(sum[r-1] // (r - l+1))"
   ]
  },
  {
   "cell_type": "code",
   "execution_count": null,
   "metadata": {},
   "outputs": [],
   "source": []
  }
 ],
 "metadata": {
  "kernelspec": {
   "display_name": "Python 3",
   "language": "python",
   "name": "python3"
  },
  "language_info": {
   "codemirror_mode": {
    "name": "ipython",
    "version": 3
   },
   "file_extension": ".py",
   "mimetype": "text/x-python",
   "name": "python",
   "nbconvert_exporter": "python",
   "pygments_lexer": "ipython3",
   "version": "3.7.3"
  }
 },
 "nbformat": 4,
 "nbformat_minor": 2
}
