{
 "cells": [
  {
   "cell_type": "markdown",
   "metadata": {},
   "source": [
    "### Problem statement- Ali and helping innocent\n",
    "\n",
    "- Arpasland has surrounded by attackers. A truck enters the city. The driver claims the load is food and medicine from Iranians. Ali is one of the soldiers in Arpasland. He doubts about the truck, maybe it's from the siege. He knows that a tag is valid if the sum of every two consecutive digits of it is even and its letter is not a vowel. Determine if the tag of the truck is valid or not.\n",
    "\n",
    "- We consider the letters \"A\",\"E\",\"I\",\"O\",\"U\",\"Y\" to be vowels for this problem.\n",
    "\n",
    "- Input Format\n",
    "\n",
    "    - The first line contains a string of length 9. The format is \"DDXDDD-DD\", where D stands for a digit (non zero) and X is an uppercase english letter.\n",
    "\n",
    "- Output Format\n",
    "\n",
    "    - Print \"valid\" (without quotes) if the tag is valid, print \"invalid\" otherwise (without quotes)\n",
    "\n",
    "- SAMPLE INPUT \n",
    "    - 12X345-67\n",
    "- SAMPLE OUTPUT \n",
    "    - invalid\n",
    "- Explanation\n",
    "    - The tag is invalid because the sum of first and second digit of it is odd (also the sum of 4'th and 5'th, 5'th and 6'th and 8'th and 9'th are odd)."
   ]
  },
  {
   "cell_type": "code",
   "execution_count": 1,
   "metadata": {},
   "outputs": [
    {
     "name": "stdout",
     "output_type": "stream",
     "text": [
      "15S464-73\n",
      "valid\n"
     ]
    }
   ],
   "source": [
    "# Ali and helping innocent people\n",
    "n=input()\n",
    "if len(str(n))==9:\n",
    "    if ((int(n[0])+int(n[1]))%2 == 0 and (n[2]!='A' and n[2]!='E' and n[2]!='I' and n[2]!='O' and n[2]!='U' and n[2]!='Y') and (int(n[3])+int(n[4]))%2==0 and (int(n[3])+int(n[4]))%2==0 and (int(n[4])+int(n[5]))%2==0 and (n[6]=='-') and (int(n[7])+int(n[8]))%2 == 0):\n",
    "        print(\"valid\")\n",
    "    else:\n",
    "        print(\"invalid\")"
   ]
  },
  {
   "cell_type": "code",
   "execution_count": 7,
   "metadata": {},
   "outputs": [
    {
     "name": "stdout",
     "output_type": "stream",
     "text": [
      "1\n",
      "3\n",
      "1 2\n",
      "2 1\n",
      "2 9\n",
      "22\n"
     ]
    }
   ],
   "source": [
    "t = int(input())\n",
    "for i in range(1,t+1):\n",
    "    m = int(input())\n",
    "    total = 0\n",
    "    for i in range(1,m+1):\n",
    "        ld=input().split()\n",
    "        l=int(ld[0])\n",
    "        d=int(ld[1])\n",
    "        sum = 0\n",
    "        for j in range(1,l+1):\n",
    "            sum = sum + d\n",
    "        total = total + sum\n",
    "    print(total)\n",
    "if total>9:\n",
    "    sum1 = 0\n",
    "    def sume()\n",
    "    while(n>9):\n",
    "        r = total % 10\n",
    "        total = total / 10\n",
    "        sum1 = sum1 + r\n",
    "    if sum1<=9:\n",
    "        print(sum1)\n",
    "    \n",
    "        "
   ]
  },
  {
   "cell_type": "markdown",
   "metadata": {},
   "source": []
  },
  {
   "cell_type": "code",
   "execution_count": 32,
   "metadata": {},
   "outputs": [
    {
     "name": "stdout",
     "output_type": "stream",
     "text": [
      "Invalid Phone number and Email\n"
     ]
    }
   ],
   "source": [
    "# Function to add contact to contacts text file\n",
    "#from Packages import validators as v\n",
    "from Packages.validators import phoneNumberValidator as pnv, emailValidation as ev\n",
    "#from Packages.validators import emailValidation as ev\n",
    "def addContact(name,phone,email):\n",
    "    # store data as name,phone,email in the contacts file\n",
    "    filename = 'DataFiles/contacts.txt'\n",
    "    if not checkContactExists(name):\n",
    "        if pnv(phone) and ev(email):\n",
    "            with open(filename, 'a') as f:\n",
    "                line = name + ',' + str(phone) + ',' + email + '\\n'\n",
    "                f.write(line)\n",
    "            print(name, 'adeed to contacts')\n",
    "        else:\n",
    "            print(\"Invalid Phone number and Email\")\n",
    "            return\n",
    "    else:\n",
    "        print(name, 'already exist')\n",
    "    return\n",
    "#addContact(\"name1\",98765543221,\"name1_123@gmail.com\")\n",
    "\n",
    "import re\n",
    "# Function to check if contact already exists \n",
    "def checkContactExists(name):\n",
    "    filename = 'DataFiles/contacts.txt'\n",
    "    with open(filename,'r') as f:\n",
    "        filedata = f.read()  # f.read take all data as string\n",
    "        pattern = name+','\n",
    "    return re.search(pattern, filedata)\n",
    "\n",
    "    #if checkContactExists(name):\n",
    "      #  return True\n",
    "   # else:\n",
    "    #    return False\n",
    "    \n",
    "#addContact('name4',123444,'addd')\n",
    "addContact('name4',8976543210,'name4_123@gmail.com')\n"
   ]
  },
  {
   "cell_type": "code",
   "execution_count": 35,
   "metadata": {},
   "outputs": [
    {
     "data": {
      "text/plain": [
       "'name1,9876554320,name1_234@gmail.com\\nname2,8765432109,name2_345@gmail.comname1,98765543221,name1_123@gmail.com\\n'"
      ]
     },
     "execution_count": 35,
     "metadata": {},
     "output_type": "execute_result"
    }
   ],
   "source": [
    "filename = 'DataFiles/contacts.txt'\n",
    "def csvToList(filename):\n",
    "    li = []\n",
    "    with open(filename, 'r') as f:\n",
    "        for line in f:\n",
    "            li.append(line.split(','))\n",
    "        return li\n",
    "#csvToList(filename)\n",
    "    \n",
    "def listToFile(li):\n",
    "    s = ''\n",
    "    for i in li:\n",
    "        s += ','.join(i)\n",
    "    return s\n",
    "li = csvToList(filename)\n",
    "listToFile(li)       "
   ]
  },
  {
   "cell_type": "code",
   "execution_count": null,
   "metadata": {},
   "outputs": [],
   "source": []
  }
 ],
 "metadata": {
  "kernelspec": {
   "display_name": "Python 3",
   "language": "python",
   "name": "python3"
  },
  "language_info": {
   "codemirror_mode": {
    "name": "ipython",
    "version": 3
   },
   "file_extension": ".py",
   "mimetype": "text/x-python",
   "name": "python",
   "nbconvert_exporter": "python",
   "pygments_lexer": "ipython3",
   "version": "3.7.3"
  }
 },
 "nbformat": 4,
 "nbformat_minor": 2
}
