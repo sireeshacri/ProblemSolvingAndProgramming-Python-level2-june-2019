{
 "cells": [
  {
   "cell_type": "markdown",
   "metadata": {},
   "source": [
    "### Magical Word"
   ]
  },
  {
   "cell_type": "code",
   "execution_count": 1,
   "metadata": {},
   "outputs": [],
   "source": [
    "def isprime(n):\n",
    "    flag=0\n",
    "    if n==1:\n",
    "        return False\n",
    "    for i in range(2,n):\n",
    "        if n%i==0:\n",
    "            flag+=1\n",
    "    if flag==0:\n",
    "        return True\n",
    "    return False\n",
    "    \n",
    "# n=int(input())\n",
    "# print(isprime(n))"
   ]
  },
  {
   "cell_type": "code",
   "execution_count": 2,
   "metadata": {},
   "outputs": [
    {
     "name": "stdout",
     "output_type": "stream",
     "text": [
      "{'C': 67, 'G': 71, 'I': 73, 'O': 79, 'S': 83, 'Y': 89, 'a': 97, 'e': 101, 'g': 103, 'k': 107, 'm': 109, 'q': 113}\n"
     ]
    }
   ],
   "source": [
    "def primeCharacters():\n",
    "    dic={}\n",
    "    for i in range(65,91):\n",
    "        if isprime(i):\n",
    "            dic[chr(i)]=ord(chr(i))\n",
    "    for j in range(97,123):\n",
    "        if isprime(j):\n",
    "            dic[chr(j)]=ord(chr(j))\n",
    "    return dic\n",
    "\n",
    "print(primeCharacters())"
   ]
  },
  {
   "cell_type": "code",
   "execution_count": 7,
   "metadata": {},
   "outputs": [
    {
     "name": "stdout",
     "output_type": "stream",
     "text": [
      "rOMNgC0bBUgJnz9RacOL\n",
      "{'C': 67, 'G': 71, 'I': 73, 'O': 79, 'S': 83, 'Y': 89, 'a': 97, 'e': 101, 'g': 103, 'k': 107, 'm': 109, 'q': 113}\n",
      "[['r', 1], ['O', 0], ['M', 2], ['N', 1], ['g', 0], ['C', 0], ['0', 19], ['b', 1], ['B', 1], ['U', 2], ['g', 0], ['J', 1], ['n', 1], ['z', 9], ['9', 10], ['R', 1], ['a', 0], ['c', 2], ['O', 0], ['L', 3]]\n",
      "qOOOgCCaCSgImqCSaaOI\n"
     ]
    }
   ],
   "source": [
    "def magicWord(s):\n",
    "    li=[]\n",
    "    pm=primeCharacters()\n",
    "    print(pm)\n",
    "    for i in s:\n",
    "        l=[]\n",
    "        for item in pm.items():\n",
    "            l.append(abs(ord(i)-item[1]))\n",
    "        li.append([i,min(l)])\n",
    "    print(li)\n",
    "    u=''\n",
    "    for i in li:\n",
    "        for item in pm.items():\n",
    "            if i[1]==abs(ord(i[0])-item[1]):\n",
    "                u+=item[0]\n",
    "                break\n",
    "    print(u)\n",
    "\n",
    "s=input()\n",
    "magicWord(s)"
   ]
  },
  {
   "cell_type": "code",
   "execution_count": 31,
   "metadata": {},
   "outputs": [
    {
     "data": {
      "text/plain": [
       "70"
      ]
     },
     "execution_count": 31,
     "metadata": {},
     "output_type": "execute_result"
    }
   ],
   "source": [
    "ord('F')   CGSCCO"
   ]
  },
  {
   "cell_type": "code",
   "execution_count": 6,
   "metadata": {},
   "outputs": [
    {
     "data": {
      "text/plain": [
       "'a'"
      ]
     },
     "execution_count": 6,
     "metadata": {},
     "output_type": "execute_result"
    }
   ],
   "source": [
    "chr(97)"
   ]
  },
  {
   "cell_type": "code",
   "execution_count": 7,
   "metadata": {},
   "outputs": [
    {
     "ename": "TypeError",
     "evalue": "ord() expected string of length 1, but int found",
     "output_type": "error",
     "traceback": [
      "\u001b[1;31m---------------------------------------------------------------------------\u001b[0m",
      "\u001b[1;31mTypeError\u001b[0m                                 Traceback (most recent call last)",
      "\u001b[1;32m<ipython-input-7-71f3b923abce>\u001b[0m in \u001b[0;36m<module>\u001b[1;34m\u001b[0m\n\u001b[1;32m----> 1\u001b[1;33m \u001b[0mord\u001b[0m\u001b[1;33m(\u001b[0m\u001b[1;36m97\u001b[0m\u001b[1;33m)\u001b[0m\u001b[1;33m\u001b[0m\u001b[1;33m\u001b[0m\u001b[0m\n\u001b[0m",
      "\u001b[1;31mTypeError\u001b[0m: ord() expected string of length 1, but int found"
     ]
    }
   ],
   "source": [
    "ord(97)"
   ]
  },
  {
   "cell_type": "code",
   "execution_count": 53,
   "metadata": {},
   "outputs": [
    {
     "data": {
      "text/plain": [
       "[65, 70, 82, 69, 78]"
      ]
     },
     "execution_count": 53,
     "metadata": {},
     "output_type": "execute_result"
    }
   ],
   "source": [
    "s=list(\"AFREEN\")\n",
    "d={}\n",
    "for i in s:\n",
    "    d[i]=ord(i)\n",
    "d\n",
    "\n",
    "l=list(d.values())\n",
    "c1=\n",
    "for i in range(65,10,-1):\n",
    "    if(isprime(i)):\n",
    "        pr"
   ]
  },
  {
   "cell_type": "code",
   "execution_count": 54,
   "metadata": {},
   "outputs": [
    {
     "data": {
      "text/plain": [
       "True"
      ]
     },
     "execution_count": 54,
     "metadata": {},
     "output_type": "execute_result"
    }
   ],
   "source": [
    "isprime(5)"
   ]
  },
  {
   "cell_type": "code",
   "execution_count": 75,
   "metadata": {},
   "outputs": [
    {
     "data": {
      "text/plain": [
       "49"
      ]
     },
     "execution_count": 75,
     "metadata": {},
     "output_type": "execute_result"
    }
   ],
   "source": [
    "ord('1')"
   ]
  },
  {
   "cell_type": "code",
   "execution_count": 1,
   "metadata": {},
   "outputs": [
    {
     "data": {
      "text/plain": [
       "90"
      ]
     },
     "execution_count": 1,
     "metadata": {},
     "output_type": "execute_result"
    }
   ],
   "source": [
    "ord('Z')"
   ]
  },
  {
   "cell_type": "code",
   "execution_count": null,
   "metadata": {},
   "outputs": [],
   "source": []
  }
 ],
 "metadata": {
  "kernelspec": {
   "display_name": "Python 3",
   "language": "python",
   "name": "python3"
  },
  "language_info": {
   "codemirror_mode": {
    "name": "ipython",
    "version": 3
   },
   "file_extension": ".py",
   "mimetype": "text/x-python",
   "name": "python",
   "nbconvert_exporter": "python",
   "pygments_lexer": "ipython3",
   "version": "3.7.3"
  }
 },
 "nbformat": 4,
 "nbformat_minor": 2
}
