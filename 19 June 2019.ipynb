{
 "cells": [
  {
   "cell_type": "code",
   "execution_count": 2,
   "metadata": {},
   "outputs": [
    {
     "name": "stdout",
     "output_type": "stream",
     "text": [
      "5 6\n"
     ]
    }
   ],
   "source": [
    "n = input().split()\n",
    "n[0],n[1] = int(n[0]),int(n[1])"
   ]
  },
  {
   "cell_type": "code",
   "execution_count": 12,
   "metadata": {},
   "outputs": [
    {
     "name": "stdout",
     "output_type": "stream",
     "text": [
      "4 6 7 8 4 63\n"
     ]
    }
   ],
   "source": [
    "a = input().split()\n",
    "sum = [] \n",
    "for i in range(0,n[0]):\n",
    "    if i == 0:\n",
    "        sum.append(int(a[i]))\n",
    "    else:\n",
    "        sum.append(int(sum[i-1])+int(a[i]))"
   ]
  },
  {
   "cell_type": "code",
   "execution_count": null,
   "metadata": {},
   "outputs": [],
   "source": [
    "# Recursivie Sum"
   ]
  },
  {
   "cell_type": "code",
   "execution_count": 9,
   "metadata": {},
   "outputs": [
    {
     "name": "stdout",
     "output_type": "stream",
     "text": [
      "1\n",
      "cde\n",
      "abc\n",
      "4\n",
      "[0, 0, 1, 1, 1, 0, 0, 0, 0, 0, 0, 0, 0, 0, 0, 0, 0, 0, 0, 0, 0, 0, 0, 0, 0, 0]\n",
      "[1, 1, 1, 0, 0, 0, 0, 0, 0, 0, 0, 0, 0, 0, 0, 0, 0, 0, 0, 0, 0, 0, 0, 0, 0, 0]\n"
     ]
    }
   ],
   "source": [
    "# ANAGRAM\n",
    "n=int(input())\n",
    "for i in range(n):\n",
    "    s1=input()#aab\n",
    "    s2=input()\n",
    "    s3=[0]*26\n",
    "    s4=[0]*26\n",
    "    for j in range(0,len(s1)):\n",
    "        s3[ord(s1[j])-97] =s3[ord(s1[j])-97]+1\n",
    "    for j in range(0,len(s2)):\n",
    "        s4[ord(s2[j])-97] =s4[ord(s2[j])-97]+1\n",
    "    c=0\n",
    "    for k in range(26):\n",
    "        c=c+abs((s3[k]-s4[k]))\n",
    "    \n",
    "    "
   ]
  },
  {
   "cell_type": "code",
   "execution_count": null,
   "metadata": {},
   "outputs": [],
   "source": []
  },
  {
   "cell_type": "code",
   "execution_count": 16,
   "metadata": {},
   "outputs": [
    {
     "data": {
      "text/plain": [
       "'a'"
      ]
     },
     "execution_count": 16,
     "metadata": {},
     "output_type": "execute_result"
    }
   ],
   "source": [
    "chr(97)"
   ]
  },
  {
   "cell_type": "code",
   "execution_count": 11,
   "metadata": {},
   "outputs": [
    {
     "data": {
      "text/plain": [
       "97"
      ]
     },
     "execution_count": 11,
     "metadata": {},
     "output_type": "execute_result"
    }
   ],
   "source": [
    "ord('a')"
   ]
  },
  {
   "cell_type": "code",
   "execution_count": 19,
   "metadata": {},
   "outputs": [
    {
     "name": "stdout",
     "output_type": "stream",
     "text": [
      "2\n",
      "abcd\n",
      "jdhfuabd\n",
      "6\n",
      "jdkjfk\n",
      "jdkjfu\n",
      "2\n"
     ]
    }
   ],
   "source": [
    "#  Anagram \n",
    "def anagram(s1,s2):\n",
    "    s3=[0]*26\n",
    "    s4=[0]*26\n",
    "    for j in range(0,len(s1)):\n",
    "        s3[ord(s1[j])-97] =s3[ord(s1[j])-97]+1\n",
    "    for j in range(0,len(s2)):\n",
    "        s4[ord(s2[j])-97] =s4[ord(s2[j])-97]+1\n",
    "    c=0\n",
    "    for k in range(26):\n",
    "        c=c+abs((s3[k]-s4[k]))\n",
    "    return c\n",
    "\n",
    "\n",
    "n=int(input())\n",
    "for i in range(n):\n",
    "    s1=input()\n",
    "    s2=input()\n",
    "    print(anagram(s1,s2))\n",
    "    "
   ]
  },
  {
   "cell_type": "code",
   "execution_count": 29,
   "metadata": {},
   "outputs": [
    {
     "name": "stdout",
     "output_type": "stream",
     "text": [
      "2\n",
      "9\n",
      "6\n",
      "1\n",
      "1 0\n",
      "1\n",
      "6\n",
      "9\n",
      "2\n",
      "1 9\n",
      "1 0\n",
      "1\n"
     ]
    }
   ],
   "source": [
    "t=int(input())\n",
    "for i in range(1,t+1):\n",
    "    g=int(input())\n",
    "    p=int(input())\n",
    "    n=int(input())\n",
    "    for i in range(1,n+1):\n",
    "        probs=input().split()\n",
    "        p1=probs[0]\n",
    "        p2=probs[1]\n",
    "    print(p1)"
   ]
  },
  {
   "cell_type": "markdown",
   "metadata": {},
   "source": []
  }
 ],
 "metadata": {
  "kernelspec": {
   "display_name": "Python 3",
   "language": "python",
   "name": "python3"
  },
  "language_info": {
   "codemirror_mode": {
    "name": "ipython",
    "version": 3
   },
   "file_extension": ".py",
   "mimetype": "text/x-python",
   "name": "python",
   "nbconvert_exporter": "python",
   "pygments_lexer": "ipython3",
   "version": "3.7.3"
  }
 },
 "nbformat": 4,
 "nbformat_minor": 2
}
