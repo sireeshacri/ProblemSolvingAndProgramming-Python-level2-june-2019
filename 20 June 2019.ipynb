{
 "cells": [
  {
   "cell_type": "markdown",
   "metadata": {},
   "source": [
    "### Cost of Ballons\n",
    "- You are conducting a contest at your college. This contest consists of two problems and  participants. You know the problem that a candidate will solve during the contest.\n",
    "\n",
    "- You provide a balloon to a participant after he or she solves a problem. There are only green and purple-colored balloons available in a market. Each problem must have a balloon associated with it as a prize for solving that specific problem. You can distribute balloons to each participant by performing the following operation:\n",
    "\n",
    "- 1.Use green-colored balloons for the first problem and purple-colored balloons for the second problem\n",
    "- 2.Use purple-colored balloons for the first problem and green-colored balloons for the second problem\n",
    "- You are given the cost of each balloon and problems that each participant solve. Your task is to print the minimum price that you have to pay while purchasing balloons.\n",
    "\n",
    "- Input format\n",
    "- First line: T that denotes the number of test cases (1<=T<=10)\n",
    "- For each test case: \n",
    "    - First line: Cost of green and purple-colored balloons \n",
    "    - Second line: n that denotes the number of participants (1<=n<=10)\n",
    "    - Next n lines: Contain the status of users. For example, if the value of the jth integer in the ith row is 0 , then it depicts that the ith participant has not solved the jth problem. Similarly, if the value of the jth integer in the ith row is 1 , then it depicts that the ith participant has solved the jth problem.\n",
    "    \n",
    "- Output format\n",
    "    - For each test case, print the minimum cost that you have to pay to purchase balloons.\n",
    "    \n",
    "- SAMPLE INPUT   - SAMPLE OUTPUT\n",
    "    - t= 2          \n",
    "    - g = 9 p = 6 or g = 6 p = 9       --> 69\n",
    "    - 10\n",
    "    - 1 1\n",
    "    - 1 1\n",
    "    - 0 1\n",
    "    - 0 0\n",
    "    - 0 1\n",
    "    - 0 0\n",
    "    - 0 1\n",
    "    - 0 1\n",
    "    - 1 1\n",
    "    - 0 0\n",
    "    ------\n",
    "    - g=1 p=9 or g=9 p = 1      ---> 14\n",
    "    - 10\n",
    "    - 0 1\n",
    "    - 0 0\n",
    "    - 0 0\n",
    "    - 0 1\n",
    "    - 1 0\n",
    "    - 0 1\n",
    "    - 0 1\n",
    "    - 0 0\n",
    "    - 0 1\n",
    "    - 0 0"
   ]
  },
  {
   "cell_type": "code",
   "execution_count": 11,
   "metadata": {},
   "outputs": [
    {
     "name": "stdout",
     "output_type": "stream",
     "text": [
      "1 \n",
      "2 3\n",
      "5\n",
      "1 1\n",
      "1 0\n",
      "1 0\n",
      "0 1\n",
      "1 0\n",
      "14\n"
     ]
    }
   ],
   "source": [
    "# Cost of ballons\n",
    "t= int(input())\n",
    "for i in range(1,t+1):\n",
    "    ballon=input().split()\n",
    "    g=int(ballon[0])\n",
    "    p = int(ballon[1])\n",
    "    n=int(input())\n",
    "    sum1 = 0\n",
    "    sum2 = 0\n",
    "    for i in range(1,n+1):\n",
    "        probs=input().split()\n",
    "        p1=int(probs[0])\n",
    "        p2=int(probs[1])\n",
    "        t1=g\n",
    "        t2=p\n",
    "        if p1==1 and p2 ==1:\n",
    "            sum1 = sum1 +(t1+t2)\n",
    "        elif p1==1 and p2 == 0:\n",
    "            sum1 = sum1 + t1\n",
    "        elif p1==0 and p2 == 1:\n",
    "            sum1 = sum1 + t2\n",
    "        t3=p\n",
    "        t4=g\n",
    "        if p1==1 and p2 ==1:\n",
    "            sum2 = sum2 +(t3+t4)\n",
    "        elif p1==1 and p2 == 0:\n",
    "            sum2 = sum2 + t3\n",
    "        elif p1==0 and p2 == 1:\n",
    "            sum2 = sum2 + t4\n",
    "    if(sum1>sum2):\n",
    "        print(sum2)\n",
    "    else:\n",
    "        print(sum1)\n",
    "        \n",
    "    #print(sum1)\n",
    "    #print(sum2)\n",
    "        "
   ]
  },
  {
   "cell_type": "markdown",
   "metadata": {},
   "source": [
    "### Date: 20 June 2019\n",
    "\n",
    "### Day Objectives\n",
    "\n",
    "- Regular Expressions\n",
    "    - Constructing Regular Expressions for various use cases\n",
    "    - Regular Expressions Module and related in Python\n",
    "    - Improving the Contacts applications with name and phone number validation using regular expressions\n",
    "- File Handling\n",
    "    - Text Files\n",
    "    - Upgrading the Contacts Applications to store contact information in a text file "
   ]
  },
  {
   "cell_type": "markdown",
   "metadata": {},
   "source": [
    "#### Regular Expression\n",
    "\n",
    "- Pattern Matching\n",
    "- Symbolic Notation of a pattern\n",
    "    - Pattern : Format which repeats\n",
    "    - Pattern(RE) represents The set of all values that  matches that pattern\n",
    "- [0-9] -> Any digit\n",
    "- [a-z] -> Any lower case alphabet\n",
    "- [2468] -> All single digit multiples of 2-->\n",
    "     [8624]\n",
    "     [6824]\n",
    "     [2864]\n",
    "     [6842]  -> so many ways we can define the above expression\n",
    "- ^[0-9]{1}$ -> Only single digit number\n",
    "\n",
    "\n",
    "- ^[0-9]{3}$ -> Only 3 digits  numbers\n",
    "\n",
    "\n",
    "- [0-9]*0$    -> All multiples of 10\n",
    "\n",
    "- ^[1-9][0-9]*0$   -->start with any number b/w 1 to 9 ends with 0\n",
    "\n",
    "\n",
    "- ^([1-9][0-9]*[05])$|^([5])$   ---> All multiples of 5\n",
    "\n",
    "- [w][o][r][d] ---> Searching for 'word'\n",
    "\n",
    "- ^[1-9][0-9]{9}$ ---> All 10 digit numbers\n",
    "\n",
    "-   (^[6-9][0-9]{9}$)|(^[0][6-9][0-9]{9}$)|[+][9][1][6-9][0-9]{9}$   ---> Validating Phone number(India)(start with 9876 followed by)\n",
    "\n",
    "- ^[0-9a-z][a-z0-9_.]{4,13}[a-z0-9][@][0-9a-z]{3,18}[.][a-z]{2,4}$      --->  Email Validation(username@domain.extension\n",
    "- ^[0-9a-z][0-9a-z_.]{4,13}[0-9a-z]$   - username\n",
    "        - Length of username : [6 , 15] \n",
    "        - No special character other than _ and .\n",
    "        - Should not begin and end with _ and .\n",
    "        - Character Set : all digits and lower case alphabet _ and .\n",
    "     - domain\n",
    "         - Length of domain : [3, 18]\n",
    "         - No Special characters\n",
    "         - Character Set : all digits and alphabet\n",
    "    - extension\n",
    "        - Length of extention : [2, 4]  (india is .in , .com , .info )\n",
    "        - No special characters\n",
    "        - Character Set : alphabet\n",
    "\n",
    "- ^[a]...[z]$ -> Any string of length 5 that starts with 'a' and ends with 'z'\n",
    "\n",
    "\n",
    "- ^[a].*[z]$  --> Any string of any length starting with 'a' and ending with 'z'"
   ]
  },
  {
   "cell_type": "code",
   "execution_count": null,
   "metadata": {},
   "outputs": [],
   "source": []
  },
  {
   "cell_type": "code",
   "execution_count": 65,
   "metadata": {},
   "outputs": [
    {
     "data": {
      "text/plain": [
       "False"
      ]
     },
     "execution_count": 65,
     "metadata": {},
     "output_type": "execute_result"
    }
   ],
   "source": [
    "# Function to validate a phone number in python\n",
    "import re      # re is a regular expression\n",
    "\n",
    "def phoneNumberValidator(number):\n",
    "    pattern = '(^[6-9][0-9]{9}$)|(^[0][6-9][0-9]{9}$)|[+][9][1][6-9][0-9]{9}$'\n",
    "    if re.match(pattern, str(number)):\n",
    "        return True\n",
    "    return False\n",
    "phoneNumberValidator(7997753627)\n",
    "\n",
    "def emailValidation(email):\n",
    "    pattern = \" ^[0-9a-z][a-z0-9_.]{4,13}[a-z0-9][@][0-9a-z]{3,18}[.][a-z]{2,4}$ \"\n",
    "    if re.match(pattern, email):\n",
    "        return True\n",
    "    return False\n",
    "emailValidation(\"sireesha7997@gmail.com\")\n"
   ]
  },
  {
   "cell_type": "code",
   "execution_count": 19,
   "metadata": {},
   "outputs": [
    {
     "name": "stdout",
     "output_type": "stream",
     "text": [
      "Contact name1 added\n",
      "name1 : 1234567890\n",
      "2  contacts added successfully\n"
     ]
    }
   ],
   "source": [
    "contacts = {}\n",
    "\n",
    "def addContact(name,phone):\n",
    "    # verify that the caontact already exit in contacts\n",
    "    if name not in contacts:\n",
    "        contacts[name] = phone\n",
    "        print(\"Contact %s added\"  % name)\n",
    "    else:\n",
    "        print(\"Contact %s already exits\"  % name)\n",
    "    return\n",
    "\n",
    "addContact(\"name1\",\"1234567890\")\n",
    "#addContact()\n",
    "\n",
    "def searchContacts(name):\n",
    "    if name in contacts:\n",
    "        print(name, \":\", contacts[name])\n",
    "    else:\n",
    "        print(\"%s does not exists\" % name)\n",
    "    return \n",
    "searchContacts(\"name1\")\n",
    "\n",
    "# New contacts is given as a dictionary\n",
    "# Merge new contacts with existing contacts\n",
    "def importContacts(newContacts):\n",
    "    contacts.update(newContacts)\n",
    "    print(len(newContacts.keys()),\" contacts added successfully\")\n",
    "    return\n",
    "newContacts = {\"name2\":9876543210,\"name3\":6537837637}\n",
    "\n",
    "importContacts(newContacts)\n",
    "    "
   ]
  },
  {
   "cell_type": "code",
   "execution_count": 24,
   "metadata": {},
   "outputs": [
    {
     "data": {
      "text/plain": [
       "True"
      ]
     },
     "execution_count": 24,
     "metadata": {},
     "output_type": "execute_result"
    }
   ],
   "source": [
    "contacts = {\"name1\":[7997753627, 'name1@domain.ext'], \"name2\":[7868787654, 'name2@domain.ext']}\n",
    "\n",
    "def addContact(name,phone):\n",
    "    # verify that the caontact already exit in contacts\n",
    "    if name not in contacts and phoneNumberValidator(phone):\n",
    "        contacts[name] = phone\n",
    "        print(\"Contact %s added\"  % name)\n",
    "    if not phoneNumberValidator(phone):\n",
    "        print(\"phone number is invalid\")\n",
    "    return True\n",
    "\n",
    "addContact(\"name1\",\"9234567890\")"
   ]
  },
  {
   "cell_type": "code",
   "execution_count": 30,
   "metadata": {},
   "outputs": [
    {
     "name": "stdout",
     "output_type": "stream",
     "text": [
      "Invalid Email address\n"
     ]
    }
   ],
   "source": [
    "contacts = {\"name1\":[7997753627, 'name1@domain.ext'], \"name2\":[7868787654, 'name2@domain.ext']}\n",
    "\n",
    "def addContact(name,phone,email):\n",
    "    # verify that the caontact already exit in contacts\n",
    "    if name in contacts:\n",
    "        print(\"Name already exists\")\n",
    "    else:\n",
    "        if phoneNumberValidator(phone):\n",
    "            print(\"Invalid Phone Number\")\n",
    "            return\n",
    "        if not emailValidation(email):\n",
    "            print(\"Invalid Email address\")\n",
    "            return\n",
    "        newContact = []\n",
    "        newContact.append(phone)\n",
    "        newContact.append(email)\n",
    "        contacts[name] = newContact \n",
    "    return True\n",
    "\n",
    "addContact(\"name3\",799727,\"siri3s@gmailcom\")"
   ]
  },
  {
   "cell_type": "code",
   "execution_count": 32,
   "metadata": {},
   "outputs": [
    {
     "name": "stdout",
     "output_type": "stream",
     "text": [
      "name1\n",
      "Phone : 7997753627\n",
      "Email : name1@domain.ext\n"
     ]
    }
   ],
   "source": [
    "def searchContacts(name):\n",
    "    if name in contacts:\n",
    "        print(name)\n",
    "        print(\"Phone :\",contacts[name][0])\n",
    "        print(\"Email :\", contacts[name][1])\n",
    "    else:\n",
    "        print(\"%s does not exists\" % name)\n",
    "    return \n",
    "searchContacts(\"name1\")"
   ]
  },
  {
   "cell_type": "code",
   "execution_count": 34,
   "metadata": {},
   "outputs": [
    {
     "name": "stdout",
     "output_type": "stream",
     "text": [
      "2  contacts added successfully\n"
     ]
    },
    {
     "data": {
      "text/plain": [
       "dict_items([('name1', [7997753627, 'name1@domain.ext']), ('name2', [7868787654, 'name2@domain.ext']), ('name4', [9876543210, 'name41@domain.ext']), ('name5', [6537837637, 'name5@domain.ext'])])"
      ]
     },
     "execution_count": 34,
     "metadata": {},
     "output_type": "execute_result"
    }
   ],
   "source": [
    "# New contacts is given as a dictionary\n",
    "# Merge new contacts with existing contacts\n",
    "def importContacts(newContacts):\n",
    "    contacts.update(newContacts)\n",
    "    print(len(newContacts.keys()),\" contacts added successfully\")\n",
    "    return\n",
    "newContacts = {\"name4\":[9876543210,\"name41@domain.ext\"],\"name5\":[6537837637,\"name5@domain.ext\"]}\n",
    "\n",
    "importContacts(newContacts)\n",
    "#contacts\n",
    "contacts.items()"
   ]
  },
  {
   "cell_type": "code",
   "execution_count": 35,
   "metadata": {},
   "outputs": [
    {
     "name": "stdout",
     "output_type": "stream",
     "text": [
      "name1 \n",
      " Phone : 7997753627 \n",
      " Email : name1@domain.ext\n",
      "name2 \n",
      " Phone : 7868787654 \n",
      " Email : name2@domain.ext\n",
      "name4 \n",
      " Phone : 9876543210 \n",
      " Email : name41@domain.ext\n",
      "name5 \n",
      " Phone : 6537837637 \n",
      " Email : name5@domain.ext\n"
     ]
    }
   ],
   "source": [
    "# Function to list all contacts\n",
    "\n",
    "def listAllContacts():\n",
    "    for contact, info in contacts.items():      # info is values\n",
    "        print(contact, \"\\n\", \"Phone :\", info[0], \"\\n\", \"Email :\", info[1])\n",
    "    return \n",
    "listAllContacts()"
   ]
  },
  {
   "cell_type": "code",
   "execution_count": null,
   "metadata": {},
   "outputs": [],
   "source": [
    "#  Function to edit (Modify) contact information\n",
    "\n",
    "def editContact(name, phone, email):\n",
    "    "
   ]
  },
  {
   "cell_type": "markdown",
   "metadata": {},
   "source": [
    "- We came to file handling because whenever we are stored a appication like contacts in programming they will gone if our program is reseted or permenatly gone...but in file we can store them  permenentaly\n",
    "\n",
    "### File Handling in Python\n",
    "\n",
    "File - Document containing information residing\n",
    "Types - Text, PDF, CSV etc \n",
    "\n",
    "File I/O - Channelling  I/O data to files\n",
    "Default I/O channels - Keyboard / Screen\n",
    "\n",
    "Change I/O channel to files for Reading and writing into files\n",
    "\n",
    "Read a file - Input from a file\n",
    "Write to a file - Output to a file\n",
    "\n",
    "Read / write a file - open(filename, mode)\n",
    "\n",
    "\n",
    "\n"
   ]
  },
  {
   "cell_type": "code",
   "execution_count": 40,
   "metadata": {},
   "outputs": [
    {
     "name": "stdout",
     "output_type": "stream",
     "text": [
      "Line1\n",
      "Line2\n",
      "Line3\n",
      "sireesha\n"
     ]
    }
   ],
   "source": [
    "# Function to read a file\n",
    "\n",
    "def readFile(filename):\n",
    "    f = open(filename, 'r')\n",
    "    filedata = f.read()\n",
    "    f.close()\n",
    "    return filedata\n",
    "filename = 'DataFiles/data.txt'\n",
    "#filedata = readFilele(filename)\n",
    "# readFile(filename).split('\\n')\n",
    "for line in readFile(filename).split('\\n'):\n",
    "#for line in filedata.split('\\n'):\n",
    "    print(line)"
   ]
  },
  {
   "cell_type": "code",
   "execution_count": 48,
   "metadata": {},
   "outputs": [
    {
     "name": "stdout",
     "output_type": "stream",
     "text": [
      "Line1\n",
      "Line2\n",
      "Line3\n",
      "sireesha\n"
     ]
    }
   ],
   "source": [
    "def readFile(filename):\n",
    "    f = open(filename, 'r')\n",
    "    filedata = f.read()\n",
    "    f.close()\n",
    "    return filedata\n",
    "filename = 'DataFiles/data.txt'\n",
    "filedata = readFile(filename)\n",
    "#readFile(filename).split('\\n')\n",
    "#for line in readFile(filename).split('\\n'):\n",
    "for line in filedata.split('\\n'):\n",
    "    print(line)"
   ]
  },
  {
   "cell_type": "code",
   "execution_count": 50,
   "metadata": {},
   "outputs": [
    {
     "name": "stdout",
     "output_type": "stream",
     "text": [
      "Line1\n",
      "\n",
      "Line2\n",
      "\n",
      "Line3\n",
      "\n",
      "sireesha\n",
      "Line1\n",
      "Line2\n",
      "Line3\n",
      "sireesha\n"
     ]
    }
   ],
   "source": [
    "def readFile(filename):\n",
    "    f = open(filename, 'r')\n",
    "    filedata = f.read()\n",
    "    f.close()\n",
    "    return filedata\n",
    "filename = 'DataFiles/data.txt'\n",
    "filedata = readFile(filename)\n",
    "#readFile(filename).split('\\n')\n",
    "#for line in readFile(filename).split('\\n'):\n",
    "#for line in filedata.split('\\n'):\n",
    "   # print(line)\n",
    "\n",
    "    \n",
    "def printFileDataLines(filename):\n",
    "    f = open(filename, 'r')\n",
    "    for line in f:\n",
    "        print(line)\n",
    "    return\n",
    "printFileDataLines(filename)\n",
    "print(readFile(filename))"
   ]
  },
  {
   "cell_type": "code",
   "execution_count": 56,
   "metadata": {},
   "outputs": [],
   "source": [
    "# Function to write data into a file\n",
    "\n",
    "def writeIntoFile(filename, filedata):\n",
    "    with open(filename, 'w') as f:\n",
    "        f.write(filedata)\n",
    "    return \n",
    "\n",
    "filename = 'DataFiles/data.txt'\n",
    "\n",
    "writeIntoFile(filename, \"new data\\n\")\n",
    "\n",
    "\n"
   ]
  },
  {
   "cell_type": "code",
   "execution_count": 64,
   "metadata": {},
   "outputs": [],
   "source": [
    "# Function to append data to a file\n",
    "\n",
    "def appendDataToFile(filename, filedata):\n",
    "    with open(filename, 'a') as f:\n",
    "        for line in filedata:\n",
    "            f.write('\\n'+line)\n",
    "    return \n",
    "\n",
    "filename = 'DataFiles/data.txt'\n",
    "filedata = [\"Line4\",\"Line5\"]\n",
    "\n",
    "appendDataToFile(filename,filedata)\n",
    "A\",\"E\",\"I\",\"O\",\"U\",\"Y\" \n"
   ]
  },
  {
   "cell_type": "code",
   "execution_count": 68,
   "metadata": {},
   "outputs": [
    {
     "name": "stdout",
     "output_type": "stream",
     "text": [
      "12d34-4522\n",
      "Invalid\n"
     ]
    }
   ],
   "source": [
    "n=input()\n",
    "if len(str(n))==9:\n",
    "    for i in range(1,10):\n",
    "        if((int(n[0])+int(n[1]))%2==0 and (n[2]!='A' or n[2]!='E' or n[2]!='I' or n[2]='O' or n[2]!='U' or n[2]='Y') and ((int(n[3]+int(n[4]))%2 ==0) )"
   ]
  },
  {
   "cell_type": "code",
   "execution_count": null,
   "metadata": {},
   "outputs": [],
   "source": []
  }
 ],
 "metadata": {
  "kernelspec": {
   "display_name": "Python 3",
   "language": "python",
   "name": "python3"
  },
  "language_info": {
   "codemirror_mode": {
    "name": "ipython",
    "version": 3
   },
   "file_extension": ".py",
   "mimetype": "text/x-python",
   "name": "python",
   "nbconvert_exporter": "python",
   "pygments_lexer": "ipython3",
   "version": "3.7.3"
  }
 },
 "nbformat": 4,
 "nbformat_minor": 2
}
