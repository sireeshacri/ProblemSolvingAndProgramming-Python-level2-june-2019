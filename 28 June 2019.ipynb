{
 "cells": [
  {
   "cell_type": "markdown",
   "metadata": {},
   "source": [
    "## Day Objectives\n",
    "- Maps\n",
    "- Lambda\n",
    "- Filter\n",
    "- Use cases - File/Data Encryption"
   ]
  },
  {
   "cell_type": "markdown",
   "metadata": {},
   "source": [
    "###   List Comprehesion is used for both Map and Filter\n",
    "\n",
    "### Map\n",
    "\n",
    "- Map generate a mathematical outcome from our program\n",
    "- Map Doesn't use for conditional computation\n",
    "- Map fails because it doesn't apply for conditional checking\n",
    "\n",
    "- Mapping - Mapping between Entity  with Function\n",
    "\n",
    "- f **:** x^2  + 3x + 9\n",
    "- [x belongs to 1,10]\n",
    "- f(x)\n",
    "- f(1) --> 13\n",
    "- f(2) --> 19\n",
    "....\n",
    "..\n",
    "\n",
    "y = f(x)\n",
    "\n",
    "x              ---  y\n",
    "1 ----13\n",
    "2 ----- \n",
    "3\n",
    "4\n",
    "5\n",
    "6\n",
    "7\n",
    "8\n",
    "9\n",
    "10"
   ]
  },
  {
   "cell_type": "code",
   "execution_count": null,
   "metadata": {},
   "outputs": [],
   "source": [
    "\n",
    "y = f(x)\n",
    "\n",
    "y = x^2\n",
    "\n",
    "x         y\n",
    "1         1\n",
    "2         4\n",
    "3         9\n",
    "4         16\n",
    "\n",
    "\n",
    "map( function, Iterable)\n",
    "\n",
    "map will not print anything it will just return"
   ]
  },
  {
   "cell_type": "code",
   "execution_count": 4,
   "metadata": {},
   "outputs": [
    {
     "data": {
      "text/plain": [
       "1024"
      ]
     },
     "execution_count": 4,
     "metadata": {},
     "output_type": "execute_result"
    }
   ],
   "source": [
    "def powerN(a,n):\n",
    "    #return a**n\n",
    "    r = 1\n",
    "    for i in range(0,n):\n",
    "        r *= a\n",
    "    return r\n",
    "powerN(2,10)\n",
    "\n",
    "def recursivePowerN(a,n):\n",
    "    if n == 0:\n",
    "        return 1\n",
    "    else:\n",
    "        return a * recursivePowerN(a,n-1)\n",
    "recursivePowerN(2,10)"
   ]
  },
  {
   "cell_type": "code",
   "execution_count": 7,
   "metadata": {},
   "outputs": [
    {
     "data": {
      "text/plain": [
       "{1, 8, 27, 64, 125}"
      ]
     },
     "execution_count": 7,
     "metadata": {},
     "output_type": "execute_result"
    }
   ],
   "source": [
    "def cube(n):\n",
    "    return n ** 3\n",
    "li = [1,2,3,4,5]\n",
    "\n",
    "# print(map(cube,li))   #-->  print won't work here  --> we got output as -->  <map object at 0x000001AEE294C7F0>\n",
    "set(map(cube,li))"
   ]
  },
  {
   "cell_type": "code",
   "execution_count": 8,
   "metadata": {},
   "outputs": [
    {
     "ename": "TypeError",
     "evalue": "'int' object is not iterable",
     "output_type": "error",
     "traceback": [
      "\u001b[1;31m---------------------------------------------------------------------------\u001b[0m",
      "\u001b[1;31mTypeError\u001b[0m                                 Traceback (most recent call last)",
      "\u001b[1;32m<ipython-input-8-bb654475ff89>\u001b[0m in \u001b[0;36m<module>\u001b[1;34m\u001b[0m\n\u001b[0;32m      3\u001b[0m \u001b[0mli\u001b[0m \u001b[1;33m=\u001b[0m \u001b[1;33m[\u001b[0m\u001b[1;36m1\u001b[0m\u001b[1;33m,\u001b[0m\u001b[1;36m2\u001b[0m\u001b[1;33m,\u001b[0m\u001b[1;36m3\u001b[0m\u001b[1;33m,\u001b[0m\u001b[1;36m4\u001b[0m\u001b[1;33m,\u001b[0m\u001b[1;36m5\u001b[0m\u001b[1;33m]\u001b[0m\u001b[1;33m\u001b[0m\u001b[1;33m\u001b[0m\u001b[0m\n\u001b[0;32m      4\u001b[0m \u001b[1;33m\u001b[0m\u001b[0m\n\u001b[1;32m----> 5\u001b[1;33m \u001b[0mset\u001b[0m\u001b[1;33m(\u001b[0m\u001b[0mmap\u001b[0m\u001b[1;33m(\u001b[0m\u001b[0mcube\u001b[0m\u001b[1;33m,\u001b[0m\u001b[1;36m123\u001b[0m\u001b[1;33m)\u001b[0m\u001b[1;33m)\u001b[0m\u001b[1;33m\u001b[0m\u001b[1;33m\u001b[0m\u001b[0m\n\u001b[0m",
      "\u001b[1;31mTypeError\u001b[0m: 'int' object is not iterable"
     ]
    }
   ],
   "source": [
    "def cube(n):\n",
    "    return n ** 3\n",
    "li = [1,2,3,4,5]\n",
    "\n",
    "set(map(cube,123)) #--> we got error here because we haven't take a list or any iterable one only we have taken is a integer\n"
   ]
  },
  {
   "cell_type": "code",
   "execution_count": 9,
   "metadata": {},
   "outputs": [
    {
     "data": {
      "text/plain": [
       "{1, 27}"
      ]
     },
     "execution_count": 9,
     "metadata": {},
     "output_type": "execute_result"
    }
   ],
   "source": [
    "def cube(n):\n",
    "    return n ** 3\n",
    "li = [1,2,3,4,5]\n",
    "\n",
    "set(map(cube,[1,3])) "
   ]
  },
  {
   "cell_type": "code",
   "execution_count": 10,
   "metadata": {},
   "outputs": [
    {
     "data": {
      "text/plain": [
       "[1, 27]"
      ]
     },
     "execution_count": 10,
     "metadata": {},
     "output_type": "execute_result"
    }
   ],
   "source": [
    "def cube(n):\n",
    "    return n ** 3\n",
    "li = [1,2,3,4,5]\n",
    "\n",
    "list(map(cube,[1,3])) "
   ]
  },
  {
   "cell_type": "code",
   "execution_count": 50,
   "metadata": {},
   "outputs": [
    {
     "data": {
      "text/plain": [
       "[1, 2, 3, 4, 5]"
      ]
     },
     "execution_count": 50,
     "metadata": {},
     "output_type": "execute_result"
    }
   ],
   "source": [
    "def cube(n):\n",
    "    return n ** 3\n",
    "li = ['1','2','3','4','5']\n",
    "li2 = list(map(int,li))\n",
    "li2"
   ]
  },
  {
   "cell_type": "code",
   "execution_count": 51,
   "metadata": {},
   "outputs": [
    {
     "data": {
      "text/plain": [
       "(1.0, 2.0, 3.0, 4.0, 5.0)"
      ]
     },
     "execution_count": 51,
     "metadata": {},
     "output_type": "execute_result"
    }
   ],
   "source": [
    "li3 = list(map(str,li))\n",
    "li3\n",
    "map(float,li2)\n",
    "li2\n",
    "tuple(map(float, li2))\n",
    "\n",
    "\n"
   ]
  },
  {
   "cell_type": "code",
   "execution_count": 52,
   "metadata": {},
   "outputs": [
    {
     "data": {
      "text/plain": [
       "[1, 8, 27, 64, 125]"
      ]
     },
     "execution_count": 52,
     "metadata": {},
     "output_type": "execute_result"
    }
   ],
   "source": [
    "numbers = [int(i) for i in li]\n",
    "\n",
    "[cube(i) for i in numbers]"
   ]
  },
  {
   "cell_type": "markdown",
   "metadata": {},
   "source": [
    "### Filter \n",
    "\n",
    "- Used to check boolean values\n"
   ]
  },
  {
   "cell_type": "code",
   "execution_count": null,
   "metadata": {},
   "outputs": [],
   "source": [
    "### Filter\n",
    "- Used to check boolean values\n",
    "    - f : x  -> {T,F}\n",
    "    \n",
    "- y is a subset of x\n",
    "\n",
    "#### Identify the prime number\n",
    " x          y\n",
    " 1\n",
    " 2          2\n",
    " 3          3\n",
    " 4\n",
    " 5          5\n",
    "\n",
    "    "
   ]
  },
  {
   "cell_type": "code",
   "execution_count": 31,
   "metadata": {},
   "outputs": [
    {
     "data": {
      "text/plain": [
       "[1, 2, 3]"
      ]
     },
     "execution_count": 31,
     "metadata": {},
     "output_type": "execute_result"
    }
   ],
   "source": [
    "li =[1, 2,'a','b','c',3]\n",
    "\n",
    "def isDigit(c):\n",
    "    c = str(c)\n",
    "    if c.isdigit():\n",
    "        return 100\n",
    "    return 0\n",
    "#isDigit('a')    # o/p --> False\n",
    "list(filter(isDigit,li))"
   ]
  },
  {
   "cell_type": "code",
   "execution_count": 32,
   "metadata": {},
   "outputs": [
    {
     "data": {
      "text/plain": [
       "['a', 'b', 'c']"
      ]
     },
     "execution_count": 32,
     "metadata": {},
     "output_type": "execute_result"
    }
   ],
   "source": [
    "## \n",
    "li =[1, 2,'a','b','c',3]\n",
    "\n",
    "def isDigit(c):\n",
    "    c = str(c)\n",
    "    if c.isdigit():\n",
    "        return 0\n",
    "    return 100\n",
    "#isDigit('a')    # o/p --> False\n",
    "list(filter(isDigit,li))"
   ]
  },
  {
   "cell_type": "code",
   "execution_count": 33,
   "metadata": {},
   "outputs": [
    {
     "data": {
      "text/plain": [
       "[1, 2, 'a', 'b', 'c', 3]"
      ]
     },
     "execution_count": 33,
     "metadata": {},
     "output_type": "execute_result"
    }
   ],
   "source": [
    "li =[1, 2,'a','b','c',3]\n",
    "\n",
    "def isDigit(c):\n",
    "    c = str(c)\n",
    "    if c.isdigit():\n",
    "        return 100\n",
    "    return -1\n",
    "#isDigit('a')    # o/p --> False\n",
    "list(filter(isDigit,li))"
   ]
  },
  {
   "cell_type": "code",
   "execution_count": 36,
   "metadata": {},
   "outputs": [
    {
     "data": {
      "text/plain": [
       "[1, 2, 'a', 'b', 'c', 3]"
      ]
     },
     "execution_count": 36,
     "metadata": {},
     "output_type": "execute_result"
    }
   ],
   "source": [
    "### OTHERTHAN 0 IT WILL TAKE ALL NUMBERS AS TRUE\n",
    "li =[1, 2,'a','b','c',3]\n",
    "\n",
    "def isDigit(c):\n",
    "    c = str(c)\n",
    "    if c.isdigit():\n",
    "        return 100\n",
    "    return 10292\n",
    "#isDigit('a')    # o/p --> False\n",
    "list(filter(isDigit,li))"
   ]
  },
  {
   "cell_type": "code",
   "execution_count": 47,
   "metadata": {},
   "outputs": [
    {
     "data": {
      "text/plain": [
       "[503, 509, 521, 523, 541, 547, 557, 563, 569, 571, 577, 587, 593, 599]"
      ]
     },
     "execution_count": 47,
     "metadata": {},
     "output_type": "execute_result"
    }
   ],
   "source": [
    "# Identity all Primes in a range\n",
    "def checkPrime(n):\n",
    "    if n < 2:\n",
    "        return False\n",
    "    for i in range(2,n//2+1):\n",
    "        if n%i == 0:\n",
    "            return False\n",
    "    return True\n",
    "\n",
    "# n = int(input())\n",
    "# checkPrime(n)\n",
    "lb,ub = 500,601\n",
    "primeList=list(filter(checkPrime,range(lb,ub)))\n",
    "primeList\n",
    "    \n",
    "        "
   ]
  },
  {
   "cell_type": "code",
   "execution_count": 48,
   "metadata": {},
   "outputs": [
    {
     "data": {
      "text/plain": [
       "[503, 509, 521, 523, 541, 547, 557, 563, 569, 571, 577, 587, 593, 599, 601]"
      ]
     },
     "execution_count": 48,
     "metadata": {},
     "output_type": "execute_result"
    }
   ],
   "source": [
    "primelist2 = [i for i in range(lb,ub+1) if checkPrime(i) ]\n",
    "primelist2"
   ]
  },
  {
   "cell_type": "markdown",
   "metadata": {},
   "source": []
  },
  {
   "cell_type": "markdown",
   "metadata": {},
   "source": [
    "###  Lambda\n",
    "- Lambda is a key word in python\n",
    "\n",
    "- Anonymous Functions  ---> function which don't have a name\n",
    "\n",
    "- Can be embedded into List Comprehensions, Maps, Filters\n",
    "\n"
   ]
  },
  {
   "cell_type": "markdown",
   "metadata": {},
   "source": [
    "####  Keywords in Python programming language\n",
    "- False  \tclass\t  finally  \tis\t       return\n",
    "- None\t    continue  for\t    lambda\t   try\n",
    "- True\t    def\t      from      nonlocal    while\n",
    "- and\t    del\t      global\tnot\t        with\n",
    "- as\t    elif\t  if\t    or\t        yield\n",
    "- assert\telse\t  import\tpass\t \n",
    "- break\t    except\t in\t        raise\t "
   ]
  },
  {
   "cell_type": "code",
   "execution_count": 53,
   "metadata": {},
   "outputs": [
    {
     "data": {
      "text/plain": [
       "[<function __main__.<listcomp>.<lambda>(x)>,\n",
       " <function __main__.<listcomp>.<lambda>(x)>,\n",
       " <function __main__.<listcomp>.<lambda>(x)>,\n",
       " <function __main__.<listcomp>.<lambda>(x)>,\n",
       " <function __main__.<listcomp>.<lambda>(x)>,\n",
       " <function __main__.<listcomp>.<lambda>(x)>,\n",
       " <function __main__.<listcomp>.<lambda>(x)>,\n",
       " <function __main__.<listcomp>.<lambda>(x)>,\n",
       " <function __main__.<listcomp>.<lambda>(x)>,\n",
       " <function __main__.<listcomp>.<lambda>(x)>]"
      ]
     },
     "execution_count": 53,
     "metadata": {},
     "output_type": "execute_result"
    }
   ],
   "source": [
    "a = [lambda x: x%2 == 0 for x in range(1,11)]\n",
    "a"
   ]
  },
  {
   "cell_type": "code",
   "execution_count": 55,
   "metadata": {},
   "outputs": [
    {
     "name": "stdout",
     "output_type": "stream",
     "text": [
      "27\n"
     ]
    },
    {
     "data": {
      "text/plain": [
       "[1, 8, 27, 64, 125, 216]"
      ]
     },
     "execution_count": 55,
     "metadata": {},
     "output_type": "execute_result"
    }
   ],
   "source": [
    "a = lambda x: x**3\n",
    "print(a(3))\n",
    "\n",
    "list(map(lambda x:x**3, [1,2,3,4,5,6]))"
   ]
  },
  {
   "cell_type": "code",
   "execution_count": 58,
   "metadata": {},
   "outputs": [
    {
     "data": {
      "text/plain": [
       "[2, 4, 6]"
      ]
     },
     "execution_count": 58,
     "metadata": {},
     "output_type": "execute_result"
    }
   ],
   "source": [
    "# here we have used filter because it boolean expression because saying even or odd true or false\n",
    "list(filter(lambda x:(x%2 == 0),[1,2,3,4,5,6]))"
   ]
  },
  {
   "cell_type": "code",
   "execution_count": 59,
   "metadata": {},
   "outputs": [
    {
     "data": {
      "text/plain": [
       "[1, 3, 5]"
      ]
     },
     "execution_count": 59,
     "metadata": {},
     "output_type": "execute_result"
    }
   ],
   "source": [
    "# here we have used filter because it boolean expression because saying even or odd true or false\n",
    "list(filter(lambda x:(x%2 != 0),[1,2,3,4,5,6]))"
   ]
  },
  {
   "cell_type": "code",
   "execution_count": 64,
   "metadata": {},
   "outputs": [
    {
     "data": {
      "text/plain": [
       "[24.0, 12.0, 10.0, 21.5, 16.5, 20.5, 7.5, 10.0, 5.0, 9.5]"
      ]
     },
     "execution_count": 64,
     "metadata": {},
     "output_type": "execute_result"
    }
   ],
   "source": [
    "from random import randint\n",
    "\n",
    "internal1 = [randint(0,25) for i in range(10)]\n",
    "internal2 = [randint(0,25) for i in range(10)]\n",
    "\n",
    "averageInternal = list(map(lambda x,y: (x+y)/2, internal1,internal2))\n",
    "averageInternal"
   ]
  },
  {
   "cell_type": "code",
   "execution_count": 65,
   "metadata": {},
   "outputs": [
    {
     "data": {
      "text/plain": [
       "[15, 18, 6, 13, 10, 14, 2, 15, 14, 17]"
      ]
     },
     "execution_count": 65,
     "metadata": {},
     "output_type": "execute_result"
    }
   ],
   "source": [
    "from random import randint\n",
    "\n",
    "internal1 = [randint(0,25) for i in range(10)]\n",
    "internal2 = [randint(0,25) for i in range(10)]\n",
    "internal3 = [randint(0,25) for i in range(10)]\n",
    "\n",
    "averageInternal = list(map(lambda x,y,z: (x+y+z)//3, internal1,internal2,internal3))\n",
    "averageInternal"
   ]
  },
  {
   "cell_type": "code",
   "execution_count": 67,
   "metadata": {},
   "outputs": [
    {
     "data": {
      "text/plain": [
       "[14, 11, 14, 13, 14, 13, 8, 6, 7]"
      ]
     },
     "execution_count": 67,
     "metadata": {},
     "output_type": "execute_result"
    }
   ],
   "source": [
    "from random import randint\n",
    "\n",
    "internal1 = [randint(0,25) for i in range(10)]\n",
    "internal2 = [randint(0,25) for i in range(10)]\n",
    "internal3 = [randint(0,25) for i in range(10)]\n",
    "\n",
    "averageInternal = list(map(lambda x,y,z: (x+y+z)//3, internal1,internal2,internal3))\n",
    "\n",
    "failedmarks = list(filter(lambda x: x<15,averageInternal))\n",
    "failedmarks"
   ]
  },
  {
   "cell_type": "code",
   "execution_count": 1,
   "metadata": {},
   "outputs": [],
   "source": [
    "# Generate Marks data\n",
    "from random import randint\n",
    "\n",
    "def generateMarks(n,lb,ub):\n",
    "    filename = 'DataFiles/marks.txt'\n",
    "    with open(filename,'w') as f:\n",
    "        for i in range(n):\n",
    "            marks = randint(lb,ub)\n",
    "            f.write(str(marks)+'\\n')\n",
    "        return\n",
    "        \n",
    "generateMarks(100,0,100)\n",
    "        "
   ]
  },
  {
   "cell_type": "code",
   "execution_count": 8,
   "metadata": {},
   "outputs": [
    {
     "data": {
      "text/plain": [
       "[9,\n",
       " 5,\n",
       " 91,\n",
       " 62,\n",
       " 100,\n",
       " 60,\n",
       " 85,\n",
       " 46,\n",
       " 29,\n",
       " 94,\n",
       " 42,\n",
       " 19,\n",
       " 17,\n",
       " 29,\n",
       " 29,\n",
       " 12,\n",
       " 38,\n",
       " 1,\n",
       " 71,\n",
       " 58,\n",
       " 43,\n",
       " 84,\n",
       " 41,\n",
       " 44,\n",
       " 74,\n",
       " 62,\n",
       " 42,\n",
       " 68,\n",
       " 23,\n",
       " 28,\n",
       " 88,\n",
       " 34,\n",
       " 78,\n",
       " 95,\n",
       " 60,\n",
       " 21,\n",
       " 23,\n",
       " 50,\n",
       " 10,\n",
       " 21,\n",
       " 35,\n",
       " 12,\n",
       " 67,\n",
       " 71,\n",
       " 58,\n",
       " 65,\n",
       " 36,\n",
       " 54,\n",
       " 43,\n",
       " 41,\n",
       " 78,\n",
       " 97,\n",
       " 68,\n",
       " 85,\n",
       " 83,\n",
       " 88,\n",
       " 77,\n",
       " 40,\n",
       " 73,\n",
       " 34,\n",
       " 67,\n",
       " 98,\n",
       " 90,\n",
       " 67,\n",
       " 80,\n",
       " 48,\n",
       " 75,\n",
       " 43,\n",
       " 66,\n",
       " 11,\n",
       " 55,\n",
       " 14,\n",
       " 23,\n",
       " 58,\n",
       " 100,\n",
       " 15,\n",
       " 57,\n",
       " 80,\n",
       " 69,\n",
       " 89,\n",
       " 34,\n",
       " 21,\n",
       " 79,\n",
       " 75,\n",
       " 23,\n",
       " 76,\n",
       " 22,\n",
       " 36,\n",
       " 16,\n",
       " 55,\n",
       " 94,\n",
       " 93,\n",
       " 45,\n",
       " 28,\n",
       " 73,\n",
       " 22,\n",
       " 60,\n",
       " 31,\n",
       " 29,\n",
       " 18]"
      ]
     },
     "execution_count": 8,
     "metadata": {},
     "output_type": "execute_result"
    }
   ],
   "source": [
    "# Reading MarksList\n",
    "def readMarksList(filepath):\n",
    "    with open(filepath,'r') as f:\n",
    "        filedata = f.read().split()\n",
    "    return list(map(int,filedata))\n",
    "readMarksList('DataFiles/marks.txt')"
   ]
  },
  {
   "cell_type": "code",
   "execution_count": 9,
   "metadata": {},
   "outputs": [
    {
     "data": {
      "text/plain": [
       "52"
      ]
     },
     "execution_count": 9,
     "metadata": {},
     "output_type": "execute_result"
    }
   ],
   "source": [
    "# Marks Analysis\n",
    "# Class Average\n",
    "# % of Passed, Failed and Distinction\n",
    "# Frequency of Highest and Lowest Marks.\n",
    "\n",
    "import re\n",
    "def classAverage(filepath):\n",
    "    \n",
    "    with open(filepath,'r') as f:\n",
    "        filedata = f.read()\n",
    "        markslist = re.split('\\n',filedata)\n",
    "        markslist = list(map(int,markslist))\n",
    "        return sum(markslist)//len(markslist)\n",
    "    \n",
    "filepath = 'DataFiles/marks.txt'\n",
    "classAverage(filepath)\n",
    "\n",
    "\n",
    "\n",
    "# # % of Failed\n",
    "# def percentageFailed(filepath):\n",
    "#     markslist = readMarksList(filepath)\n",
    "#     failedcount = len(list(filter(lambda x:x<30,markslist)))\n",
    "#     return failedcount\n",
    "\n",
    "# falepath='DataFiles/marks.txt'\n",
    "# percentageFailed(filepath)"
   ]
  },
  {
   "cell_type": "code",
   "execution_count": 10,
   "metadata": {},
   "outputs": [
    {
     "data": {
      "text/plain": [
       "28"
      ]
     },
     "execution_count": 10,
     "metadata": {},
     "output_type": "execute_result"
    }
   ],
   "source": [
    "# %  of Failed \n",
    "def percentageFailed(filepath):\n",
    "    markslist = readMarksList(filepath)\n",
    "    failedcount = len(list(filter(lambda x:x<30,markslist)))\n",
    "    return failedcount\n",
    "\n",
    "filepath='DataFiles/marks.txt'\n",
    "percentageFailed(filepath)"
   ]
  },
  {
   "cell_type": "code",
   "execution_count": 15,
   "metadata": {},
   "outputs": [
    {
     "data": {
      "text/plain": [
       "72"
      ]
     },
     "execution_count": 15,
     "metadata": {},
     "output_type": "execute_result"
    }
   ],
   "source": [
    "# % of Pass\n",
    "def percentagePassed(filepath):\n",
    "    markslist = readMarksList(filepath)\n",
    "    passedcount = len(list(filter(lambda x:x>=30,markslist)))\n",
    "    return passedcount\n",
    "filepath = 'DataFiles/marks.txt'\n",
    "percentagePassed(filepath)"
   ]
  },
  {
   "cell_type": "code",
   "execution_count": 16,
   "metadata": {},
   "outputs": [
    {
     "data": {
      "text/plain": [
       "26"
      ]
     },
     "execution_count": 16,
     "metadata": {},
     "output_type": "execute_result"
    }
   ],
   "source": [
    "# % of disction\n",
    "def percentagedistinction(filepath):\n",
    "    markslist = readMarksList(filepath)\n",
    "    distinctioncount = len(list(filter(lambda x:x>=75,markslist)))\n",
    "    return distinctioncount\n",
    "filepath = 'DataFiles/marks.txt'\n",
    "percentagedistinction(filepath)"
   ]
  },
  {
   "cell_type": "code",
   "execution_count": 14,
   "metadata": {},
   "outputs": [
    {
     "data": {
      "text/plain": [
       "[2, 100]"
      ]
     },
     "execution_count": 14,
     "metadata": {},
     "output_type": "execute_result"
    }
   ],
   "source": [
    "# Highest Mark Frequency \n",
    "def highestMarkFrequency(filepath):\n",
    "    markslist=readMarksList(filepath)\n",
    "    return [markslist.count(max(markslist)),max(markslist)]\n",
    "\n",
    "highestMarkFrequency(filepath)"
   ]
  },
  {
   "cell_type": "code",
   "execution_count": 17,
   "metadata": {},
   "outputs": [
    {
     "data": {
      "text/plain": [
       "[1, 1]"
      ]
     },
     "execution_count": 17,
     "metadata": {},
     "output_type": "execute_result"
    }
   ],
   "source": [
    "# Lowest Mark Frequency\n",
    "def lowestMarkFrequency(filepath):\n",
    "    markslist=readMarksList(filepath)\n",
    "    return [markslist.count(min(markslist)),min(markslist)]\n",
    "lowestMarkFrequency(filepath)"
   ]
  },
  {
   "cell_type": "markdown",
   "metadata": {},
   "source": [
    "### Data Encryption\n",
    "\n",
    "- **Key** - Mapping of characters with replaced characters\n",
    "\n",
    "- assigning a key to each number here i have used 4 for each number\n",
    "\n",
    "- 0 --> 4\n",
    "\n",
    "- 1 --> 5\n",
    "\n",
    "- 2 --> 6\n",
    "\n",
    "- 3 --> 7\n",
    "\n",
    "- 4 --> 8\n",
    "\n",
    "- 5 --> 9\n",
    "\n",
    "- 6 --> 0\n",
    "\n",
    "- 7 --> 1\n",
    "\n",
    "- 8 --> 2\n",
    "\n",
    "- 9 --> 3\n",
    "\n",
    "0 4\n",
    "\n",
    "1 5\n",
    "\n",
    "2 6\n",
    "...\n",
    "...\n",
    "...\n",
    "\n",
    "\n"
   ]
  },
  {
   "cell_type": "code",
   "execution_count": 19,
   "metadata": {},
   "outputs": [],
   "source": [
    "# Function to generate key for encryption\n",
    "keypath = 'DataFiles/key.txt'\n",
    "def generateKey(keypath):\n",
    "    with open(keypath,'w') as f:\n",
    "        for i in range(10):\n",
    "            if i < 6:\n",
    "                f.write(str(i)+ ' ' + str(i+4)+'\\n')\n",
    "            else:\n",
    "                f.write(str(i) + ' ' + str(i-6)+'\\n')\n",
    "    return\n",
    "generateKey(keypath)"
   ]
  },
  {
   "cell_type": "code",
   "execution_count": 23,
   "metadata": {},
   "outputs": [
    {
     "data": {
      "text/plain": [
       "{'0': '4'}"
      ]
     },
     "execution_count": 23,
     "metadata": {},
     "output_type": "execute_result"
    }
   ],
   "source": [
    "# Function to encrypt a data file\n",
    "\n",
    "keyfile ='DataFiles/key.txt'\n",
    "def dictionaryKeyFile(keyfile):\n",
    "    keyDic = {}\n",
    "    with open(keyfile,'r') as f:\n",
    "        line = f.readline().split()    # For first line reading\n",
    "        keyDic[line[0]] = line[1]\n",
    "    return keyDic\n",
    "dictionaryKeyFile(keyfile)\n",
    "        \n",
    "\n",
    "# def encryptMarksData(datafile,keyfile):\n",
    "#     # consturct a dictionary for key data\n",
    "    "
   ]
  },
  {
   "cell_type": "code",
   "execution_count": 27,
   "metadata": {},
   "outputs": [
    {
     "data": {
      "text/plain": [
       "{'0': '4',\n",
       " '1': '5',\n",
       " '2': '6',\n",
       " '3': '7',\n",
       " '4': '8',\n",
       " '5': '9',\n",
       " '6': '0',\n",
       " '7': '1',\n",
       " '8': '2',\n",
       " '9': '3'}"
      ]
     },
     "execution_count": 27,
     "metadata": {},
     "output_type": "execute_result"
    }
   ],
   "source": [
    "keyfile ='DataFiles/key.txt'\n",
    "def dictionaryKeyFile1(keyfile):\n",
    "    keyDic = {}\n",
    "    with open(keyfile,'r') as f:\n",
    "        for line in f:\n",
    "            line = line.split()    \n",
    "            keyDic[line[0]] = line[1]\n",
    "    return keyDic\n",
    "dictionaryKeyFile1(keyfile)\n",
    "        "
   ]
  },
  {
   "cell_type": "code",
   "execution_count": null,
   "metadata": {},
   "outputs": [],
   "source": []
  }
 ],
 "metadata": {
  "kernelspec": {
   "display_name": "Python 3",
   "language": "python",
   "name": "python3"
  },
  "language_info": {
   "codemirror_mode": {
    "name": "ipython",
    "version": 3
   },
   "file_extension": ".py",
   "mimetype": "text/x-python",
   "name": "python",
   "nbconvert_exporter": "python",
   "pygments_lexer": "ipython3",
   "version": "3.7.3"
  }
 },
 "nbformat": 4,
 "nbformat_minor": 2
}
