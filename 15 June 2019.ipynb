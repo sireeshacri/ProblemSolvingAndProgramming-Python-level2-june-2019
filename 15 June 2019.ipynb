{
 "cells": [
  {
   "cell_type": "markdown",
   "metadata": {},
   "source": [
    "### 15 June 2019"
   ]
  },
  {
   "cell_type": "code",
   "execution_count": 1,
   "metadata": {},
   "outputs": [
    {
     "data": {
      "text/plain": [
       "['__add__',\n",
       " '__class__',\n",
       " '__contains__',\n",
       " '__delattr__',\n",
       " '__delitem__',\n",
       " '__dir__',\n",
       " '__doc__',\n",
       " '__eq__',\n",
       " '__format__',\n",
       " '__ge__',\n",
       " '__getattribute__',\n",
       " '__getitem__',\n",
       " '__gt__',\n",
       " '__hash__',\n",
       " '__iadd__',\n",
       " '__imul__',\n",
       " '__init__',\n",
       " '__init_subclass__',\n",
       " '__iter__',\n",
       " '__le__',\n",
       " '__len__',\n",
       " '__lt__',\n",
       " '__mul__',\n",
       " '__ne__',\n",
       " '__new__',\n",
       " '__reduce__',\n",
       " '__reduce_ex__',\n",
       " '__repr__',\n",
       " '__reversed__',\n",
       " '__rmul__',\n",
       " '__setattr__',\n",
       " '__setitem__',\n",
       " '__sizeof__',\n",
       " '__str__',\n",
       " '__subclasshook__',\n",
       " 'append',\n",
       " 'clear',\n",
       " 'copy',\n",
       " 'count',\n",
       " 'extend',\n",
       " 'index',\n",
       " 'insert',\n",
       " 'pop',\n",
       " 'remove',\n",
       " 'reverse',\n",
       " 'sort']"
      ]
     },
     "execution_count": 1,
     "metadata": {},
     "output_type": "execute_result"
    }
   ],
   "source": [
    "dir(list())"
   ]
  },
  {
   "cell_type": "code",
   "execution_count": 2,
   "metadata": {},
   "outputs": [],
   "source": [
    "lis = [ 1, 2, 3, 4]\n",
    "lis.append(22)"
   ]
  },
  {
   "cell_type": "code",
   "execution_count": 7,
   "metadata": {},
   "outputs": [],
   "source": [
    "l = [ 1, 2, 3, 4, 5]\n",
    "l.append([1, 2, 3])\n",
    "l\n",
    "[1,2,3,4,5,[1,2,3],1,2]\n",
    "l.extend([1,2])"
   ]
  },
  {
   "cell_type": "markdown",
   "metadata": {},
   "source": [
    "###  Problem Statement - ClosestZero\n",
    "\n",
    "#### **Explanation**\n",
    "\n",
    "- li =  [3, 3, -1, -2, -3]\n",
    "- sort the data \n",
    "- li = [-3, -2, -1, 2, 3] (Sorted List)\n",
    "- pl = [1, 2, 2, 3, 3] (Positive Sorted List)\n",
    "- pl[0] --> Check if this number is -ve or +ve in the original list\n",
    "- if pl[0] in li:\n",
    "    - return pl[0]\n",
    "- else\n",
    "    - return -pl[0]\n",
    "\n",
    "\n"
   ]
  },
  {
   "cell_type": "code",
   "execution_count": 41,
   "metadata": {},
   "outputs": [
    {
     "name": "stdout",
     "output_type": "stream",
     "text": [
      "1\n"
     ]
    }
   ],
   "source": [
    "li = [-1, -2, 2, 3, 1]\n",
    "\n",
    "li.sort()\n",
    "\n",
    "pl = []\n",
    "\n",
    "for i in li:\n",
    "    pl.append(abs(i))\n",
    "    \n",
    "#pl   positive list\n",
    "pl.sort()\n",
    "if pl[0] in li:\n",
    "    print(pl[0])\n",
    "else:\n",
    "    print(-pl[0])\n",
    "    "
   ]
  },
  {
   "cell_type": "code",
   "execution_count": 23,
   "metadata": {},
   "outputs": [
    {
     "name": "stdout",
     "output_type": "stream",
     "text": [
      "-10\n"
     ]
    }
   ],
   "source": [
    "# FarthestFromZero  \n",
    "\n",
    "li = [-1, -2, 1, -10, 9]\n",
    "\n",
    "#li = [-1, -2, 2, 3, 1]\n",
    "\n",
    "li.sort()\n",
    "\n",
    "pl = []\n",
    "\n",
    "for i in li:\n",
    "    pl.append(abs(i))\n",
    "    \n",
    "#pl   positive list\n",
    "pl.sort()\n",
    "if pl[-1] in li:\n",
    "    print(pl[-1])\n",
    "else:\n",
    "    print(-pl[-1])"
   ]
  },
  {
   "cell_type": "markdown",
   "metadata": {},
   "source": [
    "### Problem - 3\n",
    "- You are given three numbers a, b and c\n",
    "- Write a program to find the largest nuber\n",
    "- which is less than or equal to c and leaves\n",
    "- remainder b when divided by a."
   ]
  },
  {
   "cell_type": "code",
   "execution_count": 38,
   "metadata": {},
   "outputs": [
    {
     "data": {
      "text/plain": [
       "-1"
      ]
     },
     "execution_count": 38,
     "metadata": {},
     "output_type": "execute_result"
    }
   ],
   "source": [
    "def largestNumber(a,b,c):\n",
    "    for i in range (c, b-1,-1): # c, c-1, c-2, ....... b or a-1 will also be there i.e upto a\n",
    "        if(i<=c and i%a==b):\n",
    "            return i\n",
    "    else:\n",
    "        return -1\n",
    "        \n",
    "largestNumber(1,2,4)"
   ]
  },
  {
   "cell_type": "code",
   "execution_count": 40,
   "metadata": {},
   "outputs": [
    {
     "data": {
      "text/plain": [
       "98"
      ]
     },
     "execution_count": 40,
     "metadata": {},
     "output_type": "execute_result"
    }
   ],
   "source": [
    "def cal(a,b,c):\n",
    "    for i in range(c,a-1,-1):   # c, c-1, c-2, ....... a\n",
    "        if i % a == b:\n",
    "            return i\n",
    "    return -1\n",
    "cal(3, 2, 100)"
   ]
  },
  {
   "cell_type": "code",
   "execution_count": 2,
   "metadata": {},
   "outputs": [
    {
     "name": "stdout",
     "output_type": "stream",
     "text": [
      "2\n",
      "1 2 3\n"
     ]
    },
    {
     "data": {
      "text/plain": [
       "['1', '2']"
      ]
     },
     "execution_count": 2,
     "metadata": {},
     "output_type": "execute_result"
    }
   ],
   "source": [
    "# Function to generate data list \n",
    "# in data list even position contains prime number\n",
    "# Odd positions fibano series\n",
    "n = int(input())\n",
    "s = input().split()[:n]\n",
    "li = s\n",
    "li"
   ]
  },
  {
   "cell_type": "code",
   "execution_count": 46,
   "metadata": {},
   "outputs": [
    {
     "data": {
      "text/plain": [
       "[1, 2, 3, 4, 5, 6]"
      ]
     },
     "execution_count": 46,
     "metadata": {},
     "output_type": "execute_result"
    }
   ],
   "source": [
    "s = \" 1 2 3 4 5 6\"\n",
    "li = s.split()\n",
    "numberlist = []\n",
    "for i in li:\n",
    "    numberlist.append(int(i))\n",
    "numberlist"
   ]
  },
  {
   "cell_type": "code",
   "execution_count": 5,
   "metadata": {},
   "outputs": [
    {
     "name": "stdout",
     "output_type": "stream",
     "text": [
      "5\n",
      "1 2 3 4 5 6 7 8 9\n"
     ]
    },
    {
     "data": {
      "text/plain": [
       "[1, 2, 3, 4, 5]"
      ]
     },
     "execution_count": 5,
     "metadata": {},
     "output_type": "execute_result"
    }
   ],
   "source": [
    "n = int(input())\n",
    "lis = [int(i) for i  in input().split()][:n]\n",
    "lis"
   ]
  },
  {
   "cell_type": "markdown",
   "metadata": {},
   "source": [
    "###\n",
    "You have been given 3 integers - l, r and k. Find how many numbers between l and r (both inclusive) are divisible by k. You do not need to print these numbers, you just have to find their count.\n",
    "\n",
    "Input Format\n",
    "The first and only line of input contains 3 space separated integers l, r and k.\n",
    "\n",
    "Output Format\n",
    "Print the required answer on a single line.\n",
    "\n",
    "Constraints"
   ]
  },
  {
   "cell_type": "code",
   "execution_count": 6,
   "metadata": {},
   "outputs": [
    {
     "name": "stdout",
     "output_type": "stream",
     "text": [
      "1 10 1\n",
      "10\n"
     ]
    }
   ],
   "source": [
    "# Count the \n",
    "def countDivisors(i,j,k):\n",
    "    count = 0\n",
    "    for n in range(i,j+1):\n",
    "        if n% k == 0:\n",
    "            count = count+1\n",
    "    return count\n",
    "\n",
    "s = input()\n",
    "\n",
    "s=s.split()\n",
    "i = int(s[0])\n",
    "\n",
    "j = int(s[1])\n",
    "\n",
    "k = int(s[2])\n",
    "\n",
    "print(countDivisors(i,j,k))\n",
    "\n"
   ]
  },
  {
   "cell_type": "code",
   "execution_count": 9,
   "metadata": {},
   "outputs": [
    {
     "name": "stdout",
     "output_type": "stream",
     "text": [
      "1 10 1\n",
      "10\n"
     ]
    }
   ],
   "source": [
    "# same above solved by me\n",
    "def countDivisors(l,r,k):\n",
    "    count = 0\n",
    "    for i in range(l,r+1):\n",
    "        if(i%k==0):\n",
    "            count = count+1\n",
    "    return count\n",
    "\n",
    "li=input().split()\n",
    "l=int(li[0])\n",
    "r=int(li[1])\n",
    "k=int(li[2])\n",
    "print(countDivisors(l,r,k))\n"
   ]
  },
  {
   "cell_type": "markdown",
   "metadata": {},
   "source": [
    " ### Problem Statement\n",
    " You have been given a positive integer N. You need to find and print the Factorial of this number. The Factorial of a positive integer N refers to the product of all number in the range from 1 to N. You can read more about the factorial of a number here.\n",
    "\n",
    "Input Format:\n",
    "The first and only line of the input contains a single integer N denoting the number whose factorial you need to find.\n",
    "\n",
    "Output Format\n",
    "Output a single line denoting the factorial of the number N.\n",
    "\n",
    "Constraints\n",
    "1<=N<=10"
   ]
  },
  {
   "cell_type": "code",
   "execution_count": 10,
   "metadata": {},
   "outputs": [
    {
     "name": "stdout",
     "output_type": "stream",
     "text": [
      "5\n",
      "120\n"
     ]
    }
   ],
   "source": [
    "def factorial(N):\n",
    "    f = 1\n",
    "    for i in range(1,N+1):\n",
    "        f = f*i\n",
    "    return f\n",
    "    \n",
    "    \n",
    "N=int(input())    \n",
    "print(factorial(N))"
   ]
  },
  {
   "cell_type": "code",
   "execution_count": 20,
   "metadata": {},
   "outputs": [
    {
     "name": "stdout",
     "output_type": "stream",
     "text": [
      "90\n"
     ]
    }
   ],
   "source": [
    "print(ord('Z'))"
   ]
  },
  {
   "cell_type": "code",
   "execution_count": 12,
   "metadata": {},
   "outputs": [
    {
     "name": "stdout",
     "output_type": "stream",
     "text": [
      "c\n"
     ]
    }
   ],
   "source": [
    "print(chr(99))"
   ]
  },
  {
   "cell_type": "markdown",
   "metadata": {},
   "source": [
    "### Problem Statement\n",
    "You have been given a String S consisting of uppercase and lowercase English alphabets. You need to change the case of each alphabet in this String. That is, all the uppercase letters should be converted to lowercase and all the lowercase letters should be converted to uppercase. You need to then print the resultant String to output.\n",
    "\n",
    "Input Format\n",
    "The first and only line of input contains the String S\n",
    "\n",
    "Output Format\n",
    "Print the resultant String on a single line.\n",
    "\n",
    "Constraints\n",
    " 1<=|S|<=100   where S denotes the length of string S."
   ]
  },
  {
   "cell_type": "code",
   "execution_count": 21,
   "metadata": {},
   "outputs": [
    {
     "name": "stdout",
     "output_type": "stream",
     "text": [
      "SiResHa\n",
      "sIrEShA\n"
     ]
    }
   ],
   "source": [
    "# ToggleString i.e changing Case\n",
    "def ToggleString(s):\n",
    "    a=''\n",
    "    for i in s:\n",
    "        if (i>='A' and i<='Z'):\n",
    "            a = a+chr(ord(i)+32)\n",
    "        elif (i>='a' and i<='z'):\n",
    "            a = a+chr(ord(i)-32)\n",
    "    print(a)\n",
    "\n",
    "s = input()           \n",
    "ToggleString(s)\n",
    "        \n",
    "    "
   ]
  },
  {
   "cell_type": "markdown",
   "metadata": {},
   "source": [
    "### Problem Statement\n",
    "You have been given a String S. You need to find and print whether this string is a palindrome or not. If yes, print \"YES\" (without quotes), else print \"NO\" (without quotes).\n",
    "\n",
    "Input Format\n",
    "The first and only line of input contains the String S. The String shall consist of lowercase English alphabets only.\n",
    "\n",
    "Output Format\n",
    "Print the required answer on a single line.\n",
    "\n",
    "Constraints \n",
    "\n",
    "Note\n",
    "String S consists of lowercase English Alphabets only."
   ]
  },
  {
   "cell_type": "code",
   "execution_count": 16,
   "metadata": {},
   "outputs": [
    {
     "name": "stdout",
     "output_type": "stream",
     "text": [
      "Madam\n",
      "NO\n"
     ]
    }
   ],
   "source": [
    "# isPolindromem or not\n",
    "def palindrome(s):\n",
    "    if(s==s[::-1]):\n",
    "        return 'YES'\n",
    "    else:\n",
    "        return 'NO'\n",
    "\n",
    "s=input()\n",
    "print(palindrome(s))"
   ]
  },
  {
   "cell_type": "code",
   "execution_count": 22,
   "metadata": {},
   "outputs": [
    {
     "name": "stdout",
     "output_type": "stream",
     "text": [
      "9\n",
      "2 3 5 7 "
     ]
    }
   ],
   "source": [
    "# Prime Number upto N\n",
    "\n",
    "def NisPrime(n):\n",
    "    #count = 0\n",
    "    for i in range(1,n+1):\n",
    "        count =0\n",
    "        for j in range(1,i+1):\n",
    "            if i%j==0:\n",
    "                count= count+1\n",
    "        if(count==2):\n",
    "            print(i,end=\" \")\n",
    "    \n",
    "n=int(input())\n",
    "NisPrime(n)"
   ]
  },
  {
   "cell_type": "code",
   "execution_count": 6,
   "metadata": {},
   "outputs": [
    {
     "name": "stdout",
     "output_type": "stream",
     "text": [
      "4\n",
      "jckljd dkjfkd jdkfj\n",
      "kdjf jdkfj jdkfj\n",
      "jkdjf jdkjf jkdjf\n",
      "jkdj iudij jdid\n"
     ]
    }
   ],
   "source": [
    "n= int(input())\n",
    "for i in range(n):\n",
    "    st=input().split()\n",
    "    s=st[0]\n",
    "    t=st[1]\n",
    "\n"
   ]
  },
  {
   "cell_type": "code",
   "execution_count": null,
   "metadata": {},
   "outputs": [],
   "source": []
  },
  {
   "cell_type": "markdown",
   "metadata": {},
   "source": [
    "### Problem Statement\n",
    "Given two strings of equal length, you have to tell whether they both strings are identical.\n",
    "\n",
    "Two strings S1 and S2 are said to be identical, if any of the permutation of string S1 is equal to the string S2. See Sample explanation for more details.\n",
    "\n",
    "Input :\n",
    "\n",
    "First line, contains an intger 'T' denoting no. of test cases.\n",
    "Each test consists of a single line, containing two space separated strings S1 and S2 of equal length.\n",
    "Output:\n",
    "\n",
    "For each test case, if any of the permutation of string S1 is equal to the string S2 print YES else print NO.\n",
    "Constraints:\n",
    "\n",
    "1<= T <=100\n",
    "1<= |S1| = |S2| <= 10^5\n",
    "String is made up of lower case letters only.\n",
    "Note : Use Hashing Concept Only . Try to do it in O(string length) .\n",
    "\n",
    "SAMPLE INPUT \n",
    "3\n",
    "sumit mitsu\n",
    "ambuj jumba\n",
    "abhi hibb\n",
    "\n",
    "SAMPLE OUTPUT \n",
    "YES\n",
    "YES\n",
    "NO\n",
    "\n",
    "Explanation\n",
    "For first test case,\n",
    "\n",
    "mitsu can be rearranged to form sumit .\n",
    "\n",
    "For second test case,\n",
    "\n",
    "jumba can be rearranged to form ambuj .\n",
    "\n",
    "For third test case,\n",
    "\n",
    "hibb can not be arranged to form abhi."
   ]
  },
  {
   "cell_type": "code",
   "execution_count": 8,
   "metadata": {},
   "outputs": [
    {
     "name": "stdout",
     "output_type": "stream",
     "text": [
      "3\n",
      "siri irsi\n",
      "YES\n",
      "satya tyaas\n",
      "YES\n",
      "jhsk jkdjd\n",
      "NO\n"
     ]
    }
   ],
   "source": [
    "# Two Strings   All test cases not satisfied \n",
    "T = int(input())\n",
    "def twoStrings(S1,S2):\n",
    "    X = 0\n",
    "    if len(S1)!=len(S2):\n",
    "        return \"NO\"\n",
    "    else:\n",
    "        for i in range(len(S1)):\n",
    "            if(S1.count(S1[i])==S2.count(S1[i])):\n",
    "                X+=1\n",
    "        if(X==len(S1)):\n",
    "            return \"YES\"\n",
    "        else:\n",
    "            return \"NO\"\n",
    "    \n",
    "\n",
    "#T = int(input())\n",
    "for i in range(T):\n",
    "    string =input().split()\n",
    "    S1=string[0]\n",
    "    S2=string[1]\n",
    "    print(twoStrings(S1,S2))\n"
   ]
  },
  {
   "cell_type": "code",
   "execution_count": 9,
   "metadata": {
    "scrolled": true
   },
   "outputs": [
    {
     "name": "stdout",
     "output_type": "stream",
     "text": [
      "3\n",
      "syaman djjdu\n",
      "NO\n",
      "shd djksj\n",
      "NO\n",
      "syamala syamala\n",
      "YES\n"
     ]
    }
   ],
   "source": [
    "T = int(input())\n",
    "def twoStrings(S1,S2):\n",
    "    flag = 0\n",
    "    if len(S1)!=len(S2):\n",
    "        return \"NO\"\n",
    "    else:\n",
    "        for i in range(len(S1)):\n",
    "            if(S1.count(S1[i])!=S2.count(S1[i])):\n",
    "                return \"NO\"\n",
    "        if(flag==0):\n",
    "            return \"YES\"\n",
    "#T = int(input())\n",
    "for i in range(T):\n",
    "    string =input().split()\n",
    "    S1=string[0]\n",
    "    S2=string[1]\n",
    "    print(twoStrings(S1,S2))\n"
   ]
  },
  {
   "cell_type": "code",
   "execution_count": 7,
   "metadata": {},
   "outputs": [
    {
     "data": {
      "text/plain": [
       "97"
      ]
     },
     "execution_count": 7,
     "metadata": {},
     "output_type": "execute_result"
    }
   ],
   "source": [
    " ord('a')\n"
   ]
  },
  {
   "cell_type": "code",
   "execution_count": 10,
   "metadata": {},
   "outputs": [
    {
     "data": {
      "text/plain": [
       "1"
      ]
     },
     "execution_count": 10,
     "metadata": {},
     "output_type": "execute_result"
    }
   ],
   "source": [
    "a = ord('a') - 96\n",
    "a\n"
   ]
  },
  {
   "cell_type": "code",
   "execution_count": null,
   "metadata": {},
   "outputs": [],
   "source": []
  }
 ],
 "metadata": {
  "kernelspec": {
   "display_name": "Python 3",
   "language": "python",
   "name": "python3"
  },
  "language_info": {
   "codemirror_mode": {
    "name": "ipython",
    "version": 3
   },
   "file_extension": ".py",
   "mimetype": "text/x-python",
   "name": "python",
   "nbconvert_exporter": "python",
   "pygments_lexer": "ipython3",
   "version": "3.7.3"
  }
 },
 "nbformat": 4,
 "nbformat_minor": 2
}
