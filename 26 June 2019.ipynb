{
 "cells": [
  {
   "cell_type": "code",
   "execution_count": null,
   "metadata": {},
   "outputs": [],
   "source": [
    "from packages.validators import phoneNumberValidator as phv, emailValidation as ev\n"
   ]
  },
  {
   "cell_type": "code",
   "execution_count": null,
   "metadata": {},
   "outputs": [],
   "source": [
    "def contact_exists(name):\n",
    "    filename='DataFiles/contacts.txt'\n",
    "    with open(filename,'r') as f:\n",
    "        p=name+','\n",
    "        fd=f.read()\n",
    "        return re.search(p,fd)"
   ]
  },
  {
   "cell_type": "code",
   "execution_count": null,
   "metadata": {},
   "outputs": [],
   "source": [
    "def addContact(name,phone,email):\n",
    "    if not contact_exists():\n",
    "        if emailValidation(email) and phoneNumberValidator(phone):\n",
    "            with open(filepath,'a') as f:\n",
    "                line=name+','+tr(phone)\n",
    "                "
   ]
  },
  {
   "cell_type": "code",
   "execution_count": null,
   "metadata": {},
   "outputs": [],
   "source": [
    "# Search contacts\n",
    "def searchContact(name):\n",
    "    filepath='DataFiles/contacts.txt'\n",
    "    if contact_exists(name):\n",
    "        with open(filepath,'r') as f:\n",
    "            fd=f.readline()\n",
    "            p='[\\n]'\n",
    "            lis=re.spilt(p,fd)\n",
    "            print(lis)\n",
    "            for i in lis:\n",
    "                for j in range(len(lis)):\n",
    "                    if name in lis:\n",
    "                        print(i)\n",
    "            return\n",
    "print(searchContact('abc'))\n",
    "            "
   ]
  },
  {
   "cell_type": "code",
   "execution_count": null,
   "metadata": {},
   "outputs": [],
   "source": [
    "def CreateingFile()"
   ]
  }
 ],
 "metadata": {
  "kernelspec": {
   "display_name": "Python 3",
   "language": "python",
   "name": "python3"
  },
  "language_info": {
   "codemirror_mode": {
    "name": "ipython",
    "version": 3
   },
   "file_extension": ".py",
   "mimetype": "text/x-python",
   "name": "python",
   "nbconvert_exporter": "python",
   "pygments_lexer": "ipython3",
   "version": "3.7.3"
  }
 },
 "nbformat": 4,
 "nbformat_minor": 2
}
