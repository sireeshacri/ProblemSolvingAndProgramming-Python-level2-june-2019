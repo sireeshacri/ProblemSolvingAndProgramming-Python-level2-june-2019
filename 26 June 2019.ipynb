{
 "cells": [
  {
   "cell_type": "code",
   "execution_count": null,
   "metadata": {},
   "outputs": [],
   "source": [
    "from packages.validators import phoneNumberValidator as phv, emailValidation as ev\n"
   ]
  },
  {
   "cell_type": "code",
   "execution_count": null,
   "metadata": {},
   "outputs": [],
   "source": [
    "def contact_exists(name):\n",
    "    filename='DataFiles/contacts.txt'\n",
    "    with open(filename,'r') as f:\n",
    "        p=name+','\n",
    "        fd=f.read()\n",
    "        return re.search(p,fd)"
   ]
  },
  {
   "cell_type": "code",
   "execution_count": null,
   "metadata": {},
   "outputs": [],
   "source": [
    "def addContact(name,phone,email):\n",
    "    if not contact_exists():\n",
    "        if emailValidation(email) and phoneNumberValidator(phone):\n",
    "            with open(filepath,'a') as f:\n",
    "                line=name+','+tr(phone)\n",
    "                "
   ]
  },
  {
   "cell_type": "code",
   "execution_count": null,
   "metadata": {},
   "outputs": [],
   "source": [
    "# Search contacts\n",
    "def searchContact(name):\n",
    "    filepath='DataFiles/contacts.txt'\n",
    "    if contact_exists(name):\n",
    "        with open(filepath,'r') as f:\n",
    "            fd=f.readline()\n",
    "            p='[\\n]'\n",
    "            lis=re.spilt(p,fd)\n",
    "            print(lis)\n",
    "            for i in lis:\n",
    "                for j in range(len(lis)):\n",
    "                    if name in lis:\n",
    "                        print(i)\n",
    "            return\n",
    "print(searchContact('abc'))\n",
    "            "
   ]
  },
  {
   "cell_type": "code",
   "execution_count": null,
   "metadata": {},
   "outputs": [],
   "source": [
    "# Largest number in a list\n",
    "# Second Largest in a list\n",
    "# Kth Largest in a list\n",
    "\n",
    "# Element with highest frequency\n",
    "# Second Highest frequency\n",
    "# Kth Highest frequency\n"
   ]
  },
  {
   "cell_type": "code",
   "execution_count": 3,
   "metadata": {},
   "outputs": [
    {
     "name": "stdout",
     "output_type": "stream",
     "text": [
      "2 3 4 2 4 3 5 3 5 3 32\n",
      "['2', '3', '4', '5', '32']\n"
     ]
    }
   ],
   "source": [
    "# Function to find the second largest number in list\n",
    "def secondLargest(li):\n",
    "    # Convert th list into a unique list\n",
    "    unique = []\n",
    "    for n in li:\n",
    "        if n not in unique:\n",
    "            unique.append(n)\n",
    "    print(unique)\n",
    "    \n",
    "s=input().split()\n",
    "li=[]\n",
    "for i in s:\n",
    "    li.append(i)\n",
    "secondLargest(li)"
   ]
  },
  {
   "cell_type": "code",
   "execution_count": 1,
   "metadata": {},
   "outputs": [
    {
     "data": {
      "text/plain": [
       "4"
      ]
     },
     "execution_count": 1,
     "metadata": {},
     "output_type": "execute_result"
    }
   ],
   "source": [
    "# Function to find the second largest number in list\n",
    "def secondLargest(li):\n",
    "    # Convert th list into a unique list\n",
    "    unique = []\n",
    "    for n in li:\n",
    "        if n not in unique:\n",
    "            unique.append(n)\n",
    "    unique=sorted(unique,reverse=True)\n",
    "    # return unique[1]\n",
    "    if len(unique)>1:\n",
    "        return unique[1]\n",
    "    return -1\n",
    "secondLargest([1,2,3,4,5,2,2,2])"
   ]
  },
  {
   "cell_type": "code",
   "execution_count": 2,
   "metadata": {},
   "outputs": [
    {
     "name": "stdout",
     "output_type": "stream",
     "text": [
      "[1, 2, 3, 4, 5, 33, 44, 54, 66, 76]\n"
     ]
    },
    {
     "data": {
      "text/plain": [
       "5"
      ]
     },
     "execution_count": 2,
     "metadata": {},
     "output_type": "execute_result"
    }
   ],
   "source": [
    "# def fifthLeast(li)\n",
    "def fifthLeast(li):\n",
    "    # Convert th list into a unique list\n",
    "    unique = []\n",
    "    for n in li:\n",
    "        if n not in unique:\n",
    "            unique.append(n)\n",
    "    unique=sorted(unique)\n",
    "    print(unique)\n",
    "    if len(unique)>1:\n",
    "        return unique[4]\n",
    "    return -1\n",
    "fifthLeast([1,1,2,3,4,5,66,76,44,54,33])\n"
   ]
  },
  {
   "cell_type": "code",
   "execution_count": 4,
   "metadata": {},
   "outputs": [
    {
     "name": "stdout",
     "output_type": "stream",
     "text": [
      "3\n",
      "22 33 11 4 2 343\n",
      "[343, 33, 22, 11, 4, 2]\n"
     ]
    },
    {
     "data": {
      "text/plain": [
       "22"
      ]
     },
     "execution_count": 4,
     "metadata": {},
     "output_type": "execute_result"
    }
   ],
   "source": [
    "# def kLargest(li)\n",
    "def kLargest(li,k):\n",
    "    unique = []\n",
    "    for i in li:\n",
    "        if i not in unique:\n",
    "            unique.append(i)\n",
    "    unique=sorted(unique,reverse=True)\n",
    "    print(unique)\n",
    "    if len(unique)>=k:\n",
    "        return unique[k-1]\n",
    "    return -1\n",
    "\n",
    "k=int(input())\n",
    "l=input().split()\n",
    "li = []\n",
    "for i in l:\n",
    "    li.append(int(i))\n",
    "kLargest(li,k)\n",
    "    \n",
    "    \n",
    "    \n"
   ]
  },
  {
   "cell_type": "code",
   "execution_count": 6,
   "metadata": {},
   "outputs": [
    {
     "name": "stdout",
     "output_type": "stream",
     "text": [
      "[2, 3, 4, 5, 9]\n"
     ]
    },
    {
     "data": {
      "text/plain": [
       "3"
      ]
     },
     "execution_count": 6,
     "metadata": {},
     "output_type": "execute_result"
    }
   ],
   "source": [
    "# Kth smallest of a list\n",
    "def kSmallest(li,k):\n",
    "    # Extract Uniqque elements in the list\n",
    "    unique = []\n",
    "    for i in li:\n",
    "        if i not in unique:\n",
    "            unique.append(i)\n",
    "    # Sort the Unique list in order\n",
    "    unique=sorted(unique)\n",
    "    print(unique)\n",
    "    \n",
    "    # Check if length  of unique list is greater than or equal to k\n",
    "    if len(unique) >= k:\n",
    "            return unique[k-1]\n",
    "    return -1\n",
    "\n",
    "kSmallest([3,3,9,5,3,4,2,2,4,3],2)\n",
    "    "
   ]
  },
  {
   "cell_type": "code",
   "execution_count": 1,
   "metadata": {},
   "outputs": [
    {
     "name": "stdout",
     "output_type": "stream",
     "text": [
      "1 2 \n"
     ]
    }
   ],
   "source": [
    "# READING TWO NUMBERS IN SAME LINE\n",
    "# s=input()\n",
    "# a=int(input())\n",
    "# b=int(input())\n",
    "a,b = map(int,input().split())"
   ]
  },
  {
   "cell_type": "code",
   "execution_count": 2,
   "metadata": {},
   "outputs": [
    {
     "name": "stdout",
     "output_type": "stream",
     "text": [
      "23 43\n"
     ]
    }
   ],
   "source": [
    "s=input().split()\n",
    "a=int(s[0])\n",
    "b=int(s[1])"
   ]
  },
  {
   "cell_type": "code",
   "execution_count": 27,
   "metadata": {},
   "outputs": [
    {
     "name": "stdout",
     "output_type": "stream",
     "text": [
      "[1, 2, 3, 4, 5, 6, 22, 47, 393]\n",
      "[2, 1, 3, 1, 3, 1, 1, 1, 1]\n",
      "[3, 2, 1]\n",
      "3\n",
      "[3, 5]\n",
      "3\n"
     ]
    }
   ],
   "source": [
    "# Fuction to identify the element with Highest frequency in a list\n",
    "# If many elements have the have the highest frequency, return the smallest \n",
    "# highestFrequency([1,2,3,9,8,7,3,4,2,1]) --> 1\n",
    "def highestFrequencyElement(li):\n",
    "    unique = []\n",
    "    # Getting all elements in a list with sorted order\n",
    "    for i in li:\n",
    "        if i not in unique:\n",
    "            unique.append(i)\n",
    "    unique=sorted(unique)\n",
    "    print(unique)\n",
    "    # Getting the frequencies of elements in unique list\n",
    "    c = []\n",
    "    for i in unique:\n",
    "        c.append(li.count(i))\n",
    "    print(c) \n",
    "    # Getting the unique frequencies in a list in sorted order\n",
    "    unique1=[]\n",
    "    for i in c:\n",
    "        if i not in unique1:\n",
    "            unique1.append(i)\n",
    "    unique1=sorted(unique1,reverse=True)\n",
    "    print(unique1)\n",
    "    maxfreq=unique1[0]\n",
    "    print(maxfreq)\n",
    "    # Printing the smallest element with highest frequency\n",
    "    freqE=[]\n",
    "    for i in unique:\n",
    "        if maxfreq == (li.count(i)):\n",
    "            freqE.append(i)\n",
    "    print(freqE)\n",
    "    print(min(freqE))\n",
    "    \n",
    "\n",
    "highestFrequencyElement([1,3,3,1,5,4,5,6,5,47,393,22,3,2])\n",
    "        \n",
    "    "
   ]
  },
  {
   "cell_type": "code",
   "execution_count": 35,
   "metadata": {},
   "outputs": [
    {
     "name": "stdout",
     "output_type": "stream",
     "text": [
      "{1: 2, 2: 2, 3: 2, 9: 1, 8: 1, 7: 1, 4: 1}\n",
      "dict_values([2, 2, 2, 1, 1, 1, 1])\n"
     ]
    },
    {
     "data": {
      "text/plain": [
       "1"
      ]
     },
     "execution_count": 35,
     "metadata": {},
     "output_type": "execute_result"
    }
   ],
   "source": [
    "# Fuction to identify the element with Highest frequency in a list\n",
    "# If many elements have the have the highest frequency, return the smallest \n",
    "# highestFrequency([1,2,3,9,8,7,3,4,2,1]) --> 1\n",
    "def highestFrequencyElement1(li):\n",
    "    # Extracting unique elements with fr\n",
    "    unique = {}\n",
    "    for n in li:\n",
    "        if n not in unique:\n",
    "            unique[n] = 1\n",
    "        else:\n",
    "            unique[n] +=1\n",
    "    print(unique)\n",
    "    # unique = {1:2,2:2,3:2,9:1,8:1,7:1,4:1}\n",
    "    # Getting all frequencies into a list\n",
    "    freq = unique.values()\n",
    "    print(freq)\n",
    "    maxfreq = max(freq)\n",
    "    maxfreqE = []\n",
    "    # Identify the smallest numnber with maximum frequency\n",
    "    for item in unique.items():\n",
    "        if item[1] == maxfreq:\n",
    "            maxfreqE.append(item[0])\n",
    "    # Select the mininum from the keys with maximum frequency\n",
    "    freqE = sorted(maxfreqE,reverse = True)\n",
    "    #return maxfreqE[0]\n",
    "    return min(maxfreqE)\n",
    "        \n",
    "\n",
    "highestFrequencyElement1([1,2,3,9,8,7,3,4,2,1])"
   ]
  },
  {
   "cell_type": "code",
   "execution_count": 38,
   "metadata": {},
   "outputs": [
    {
     "name": "stdout",
     "output_type": "stream",
     "text": [
      "{1: 2, 2: 3, 3: 3, 9: 1, 8: 1, 7: 1, 4: 1}\n",
      "3\n",
      "[2, 3]\n"
     ]
    },
    {
     "data": {
      "text/plain": [
       "2"
      ]
     },
     "execution_count": 38,
     "metadata": {},
     "output_type": "execute_result"
    }
   ],
   "source": [
    "# Fuction to identify the element with Highest frequency in a list\n",
    "# If many elements have highest frequency, return the smallest \n",
    "# highestFrequency([1,2,3,9,8,7,3,4,2,1]) --> 1\n",
    "def highestFrequencyElement(li):\n",
    "    # Extracting unique elements with frequencies\n",
    "    unique = {}\n",
    "    for n in li:\n",
    "        if n not in unique:\n",
    "            unique[n] = 1\n",
    "        else:\n",
    "            unique[n] +=1\n",
    "    print(unique)\n",
    "    # unique = {1:2,2:2,3:2,9:1,8:1,7:1,4:1}\n",
    "    # Getting the max frequency value\n",
    "    maxfreq = max(unique.values())\n",
    "    print(maxfreq)\n",
    "     \n",
    "    # Extract all keys with maxfreq in a list\n",
    "    maxfreqkeys=[]\n",
    "    \n",
    "    # Identify the smallest numnber with maximum frequency\n",
    "    \n",
    "    for item in unique.items():\n",
    "        # item -> (key, values)   --> key is item[0] and value is item[1]\n",
    "        # item[1]\n",
    "        if item[1] == maxfreq:\n",
    "            maxfreqkeys.append(item[0])\n",
    "    print(maxfreqkeys)\n",
    "    return min(maxfreqkeys)\n",
    "            \n",
    "    # Select the mininum from the keys with maximum frequency\n",
    "    \n",
    "#     freqE = sorted(maxfreqE,reverse = True)\n",
    "#     return maxfreqE[2-1]\n",
    "#     #return min(maxfreqE)\n",
    "        \n",
    "\n",
    "highestFrequencyElement([1,2,2,3,3,9,8,7,3,4,2,1])"
   ]
  },
  {
   "cell_type": "code",
   "execution_count": 72,
   "metadata": {},
   "outputs": [
    {
     "name": "stdout",
     "output_type": "stream",
     "text": [
      "{1: 4, 2: 4, 4: 4, 9: 2, 3: 2, 5: 1, 6: 1}\n",
      "[4, 2, 1]\n",
      "[4, 2, 1]\n",
      "3\n"
     ]
    }
   ],
   "source": [
    "#  Function to identify second highest frequency elements.\n",
    "# If there are many such elements, return the smallest\n",
    "# [1, 2, 3, 2, 1, 4, 4, 9]  --> 3\n",
    "\n",
    "def secondHighestFreq(li):\n",
    "    unique = {}\n",
    "    for i in li:\n",
    "        if i not in unique:\n",
    "            unique[i] = 1\n",
    "        else:\n",
    "            unique[i] +=1\n",
    "    print(unique)\n",
    "     # getting all values into a list\n",
    "    values=unique.values()\n",
    "    uniqVal=[]\n",
    "    for i in values:\n",
    "        if i not in uniqVal:\n",
    "            uniqVal.append(i)\n",
    "    print(uniqVal)\n",
    "    uniqVal=sorted(uniqVal,reverse=True)\n",
    "    print(uniqVal)\n",
    "    items = []\n",
    "    for item in unique.items():\n",
    "        if item[1] == uniqVal[1]:\n",
    "            items.append(item[0])\n",
    "    items=sorted(items)\n",
    "    print(items[0])\n",
    "            \n",
    "secondHighestFreq([1, 1, 2, 2, 1, 4, 4, 9, 2, 4, 9, 1, 2, 3, 3, 4, 5 ,6])\n",
    "\n"
   ]
  },
  {
   "cell_type": "code",
   "execution_count": 69,
   "metadata": {},
   "outputs": [
    {
     "name": "stdout",
     "output_type": "stream",
     "text": [
      "{9: 2, 8: 1, 7: 5, 6: 4, 5: 1, 2: 1, 3: 1, 4: 1}\n",
      "[2, 1, 5, 4]\n",
      "[5, 4, 2, 1]\n",
      "[2, 3, 4, 5, 8]\n"
     ]
    },
    {
     "data": {
      "text/plain": [
       "2"
      ]
     },
     "execution_count": 69,
     "metadata": {},
     "output_type": "execute_result"
    }
   ],
   "source": [
    "#  Function to identify kth highest frequency elements.\n",
    "# If there are many such elements, return the smallest\n",
    "# [9,8,7,6,5,2,3,4,9,6,7,7,7,6,7,6]  --> {9:2, 8:1, 7:5, 6:4, 5:1, 2:1, 3:1, 4:1}\n",
    "# 4th highest keys are {8, 5, 2, 3, 4}\n",
    "\n",
    "\n",
    "def kthHighestFreq(li,k):\n",
    "    unique = {}\n",
    "    for i in li:\n",
    "        if i not in unique:\n",
    "            unique[i] = 1\n",
    "        else:\n",
    "            unique[i] +=1\n",
    "    #unique=sorted(unique,reverse=True)\n",
    "    print(unique)\n",
    "     # getting all values into a list\n",
    "    values=unique.values()\n",
    "    uniqVal=[]\n",
    "    for i in values:\n",
    "        if i not in uniqVal:\n",
    "            uniqVal.append(i)\n",
    "    print(uniqVal)\n",
    "    uniqVal=sorted(uniqVal,reverse=True)\n",
    "    print(uniqVal)\n",
    "    items = []\n",
    "    if len(uniqVal)>=k:\n",
    "        for item in unique.items():\n",
    "            if item[1] == uniqVal[k-1]:\n",
    "                items.append(item[0])\n",
    "        items=sorted(items)\n",
    "        print(items)\n",
    "        return min(items)\n",
    "    else:\n",
    "        return -1\n",
    "    \n",
    "            \n",
    "kthHighestFreq([9,8,7,6,5,2,3,4,9,6,7,7,7,6,7,6],4)\n",
    "\n"
   ]
  },
  {
   "cell_type": "code",
   "execution_count": 39,
   "metadata": {},
   "outputs": [
    {
     "name": "stdout",
     "output_type": "stream",
     "text": [
      "s\n",
      "g\n",
      "h\n",
      "e\n",
      "w\n",
      "r\n",
      "n\n",
      "k\n",
      "-1\n",
      "-1\n"
     ]
    }
   ],
   "source": [
    "def kHighestFrequency(s,k):\n",
    "    unique = {}\n",
    "    for c in s:\n",
    "        if c not in unique:\n",
    "            unique[c]= 1\n",
    "        else:\n",
    "            unique[c] +=1\n",
    "    #return unique --> {'s': 5, 'i': 4, 'r': 1, 'e': 2, 'm': 1, 'd': 3, 'j': 1, 'k': 1}\n",
    "    \n",
    "    # Extract all unique frequencies in a lsit\n",
    "    # uniquefreq = [2,1,5,4]\n",
    "    uniqfreq = []\n",
    "    for value in unique.values():\n",
    "        if value not in uniqfreq:\n",
    "            uniqfreq.append(value)\n",
    "    #return uniqfreq   --> [5, 4, 1, 2, 3]\n",
    "    \n",
    "    uniqfreq = sorted(uniqfreq,reverse=True)\n",
    "    \n",
    "    #return uniqfreq   --> [5, 4, 3, 2, 1]\n",
    "    \n",
    "    #kfreq = uniqfreq[k-1]   # k=3\n",
    "    \n",
    "    #return kfreq    ---> 3\n",
    "    kfreqchar = []\n",
    "    if len(uniqfreq)>k:\n",
    "        for item in  unique.items():\n",
    "            if item[1] == uniqfreq[k-1]:\n",
    "                kfreqchar.append(item[0])\n",
    "        #return kfreqchar  # --> if k=5 here o/p --> ['r', 'm', 'j', 'k']\n",
    "        return min(kfreqchar)  # --> j\n",
    "    else:\n",
    "        return -1\n",
    "\n",
    "with open ('DataFiles/k-largest-frequency-input.txt','r') as f:\n",
    "    t=int(f.readline())\n",
    "    for i in range(t):\n",
    "        s=f.readline()\n",
    "        k=int(f.readline())\n",
    "        print(kHighestFrequency(s,k))"
   ]
  },
  {
   "cell_type": "code",
   "execution_count": null,
   "metadata": {},
   "outputs": [],
   "source": []
  }
 ],
 "metadata": {
  "kernelspec": {
   "display_name": "Python 3",
   "language": "python",
   "name": "python3"
  },
  "language_info": {
   "codemirror_mode": {
    "name": "ipython",
    "version": 3
   },
   "file_extension": ".py",
   "mimetype": "text/x-python",
   "name": "python",
   "nbconvert_exporter": "python",
   "pygments_lexer": "ipython3",
   "version": "3.7.3"
  }
 },
 "nbformat": 4,
 "nbformat_minor": 2
}
