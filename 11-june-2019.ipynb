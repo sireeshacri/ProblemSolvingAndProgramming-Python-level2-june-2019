{
 "cells": [
  {
   "cell_type": "markdown",
   "metadata": {},
   "source": []
  },
  {
   "cell_type": "markdown",
   "metadata": {},
   "source": [
    "### Suresh"
   ]
  },
  {
   "cell_type": "markdown",
   "metadata": {},
   "source": [
    "### Notebook Basics"
   ]
  },
  {
   "cell_type": "markdown",
   "metadata": {},
   "source": []
  },
  {
   "cell_type": "markdown",
   "metadata": {},
   "source": [
    "# Markdown Basic\n",
    "* **Bold**<br>\n",
    "* *itallic*<br>\n",
    "* ***IB***\n",
    "* normal text<br>\n",
    "  * sublist1\n",
    "  * sublist2\n",
    "  \n",
    "   \n",
    " > 1. oredered list elements 1\n",
    " > 2. Oredered list elements 2\n",
    " \n",
    " \n",
    " \n",
    " - [x] option1\n",
    " - [x] option2\n",
    " - [x] option3\n",
    " \n",
    " \n",
    " [jupyter](jupyter.jpg)\n",
    " \n",
    " ![jupyter](jupyter.jpg)\n",
    " \n",
    " I get 10 times more traffic from [Google] [1] than from\n",
    "[Yahoo] [2] or [MSN] [3].\n",
    "\n",
    "  [1]: http://google.com/        \"Google\"\n",
    "  [2]: http://search.yahoo.com/  \"Yahoo Search\"\n",
    "  [3]: http://search.msn.com/    \"MSN Search\"\n",
    " \n",
    " \n",
    " \n",
    " printf(\"Hello Markdown\")\n",
    " \n",
    " \n",
    " <https://google.com/>\n",
    " \n",
    " <sireesha130276@gmail.com>\n",
    " \n",
    " \n",
    " \n",
    " <img src=\"jupyter.jpg\" style=\"float:left\">\n",
    " \n",
    " \n",
    " \n",
    " \n",
    " \n",
    " \n",
    " \n",
    " \n",
    "\n"
   ]
  },
  {
   "cell_type": "markdown",
   "metadata": {},
   "source": []
  },
  {
   "cell_type": "markdown",
   "metadata": {},
   "source": [
    "###  Python Basics\n",
    "\n",
    "python version 3.7\n",
    "\n",
    "- Scripting language\n",
    "- Object oriented\n",
    "- functions"
   ]
  },
  {
   "cell_type": "code",
   "execution_count": 7,
   "metadata": {},
   "outputs": [
    {
     "name": "stdout",
     "output_type": "stream",
     "text": [
      "Hello Sir Good Afternoon ! siri\n",
      "Hello Sir Good Afternoon ! Hello Sir Good Afternoon !||Hello python\n",
      "Acd ! ooo\n"
     ]
    }
   ],
   "source": [
    "# python comments symbol\n",
    "print(\"Hello Sir Good Afternoon !\",'siri')\n",
    "print(\"Hello Sir Good Afternoon\",'!',end=\" \")\n",
    "print(\"Hello Sir Good Afternoon\",'!',end=\"||\") #Basic Output\n",
    "print('Hello python')\n",
    "print('Acd','!',end=\" \")\n",
    "print('ooo')"
   ]
  },
  {
   "cell_type": "code",
   "execution_count": null,
   "metadata": {},
   "outputs": [],
   "source": []
  },
  {
   "cell_type": "markdown",
   "metadata": {},
   "source": [
    "### Assignment\n"
   ]
  },
  {
   "cell_type": "code",
   "execution_count": 9,
   "metadata": {},
   "outputs": [
    {
     "name": "stdout",
     "output_type": "stream",
     "text": [
      "123 234 345\n",
      "234\n",
      "345\n"
     ]
    }
   ],
   "source": [
    "n1 = 123456 #Single variable assignment\n",
    "n2 = n3 = n4 =n1           #Multi variable assignment of the same values\n",
    "n3\n",
    "#Multi Variable Assignment with different values\n",
    "a ,b, c = 123, 234, 345\n",
    "n1 #n1 prints the output value since it is in jupyter notebook it can directly print the n1 value if save in .py it will not show us\n",
    "a\n",
    "b\n",
    "c # c value only print because it is at last\n",
    "print(a,b,c)\n",
    "print(b)\n",
    "print(c)\n"
   ]
  },
  {
   "cell_type": "code",
   "execution_count": null,
   "metadata": {},
   "outputs": [],
   "source": []
  },
  {
   "cell_type": "markdown",
   "metadata": {},
   "source": [
    "## Data Types\n",
    "- int \n",
    "- float\n",
    "- string\n",
    "- double"
   ]
  },
  {
   "cell_type": "code",
   "execution_count": 20,
   "metadata": {},
   "outputs": [
    {
     "data": {
      "text/plain": [
       "12.0"
      ]
     },
     "execution_count": 20,
     "metadata": {},
     "output_type": "execute_result"
    }
   ],
   "source": [
    "type(a)\n",
    "s1 = 'Python'\n",
    "type(s1)\n",
    "f1 = 12.345\n",
    "type(f1)\n",
    "int(f1)\n",
    "str(int(f1))\n",
    "float(str(int(f1)))\n",
    "#int(str(str(s1)))"
   ]
  },
  {
   "cell_type": "markdown",
   "metadata": {},
   "source": [
    "### Arithmetic Operations\n",
    "- +\n",
    "- -\n",
    "- *\n",
    "- %\n",
    "- **\n",
    "- /"
   ]
  },
  {
   "cell_type": "code",
   "execution_count": 23,
   "metadata": {},
   "outputs": [
    {
     "data": {
      "text/plain": [
       "5.813024781898188e+18"
      ]
     },
     "execution_count": 23,
     "metadata": {},
     "output_type": "execute_result"
    }
   ],
   "source": [
    "n1 % 11 #we got output as 3 since we didnt get output as '0' then it is not a factor of 11\n",
    "\n",
    "n3 = n2 ** 123456\n",
    "\n",
    "type(n3)  #it can return its type(int) in this python int have so many digits till then it will not crash it is still working\n",
    "#len(str(n3))  #output here is 627 it has that many interger in its output\n",
    "#n3 #its give long interger\n",
    "atoms = 10 ** 82\n",
    "len(str(atoms))\n",
    "type(str(atoms))\n",
    "#atoms\n",
    "\n",
    "#122321.45455 ** 99 #Error Result too large\n",
    "121.6 ** 9 #output is 5.813024781898188e+18\n"
   ]
  },
  {
   "cell_type": "code",
   "execution_count": null,
   "metadata": {},
   "outputs": [],
   "source": []
  },
  {
   "cell_type": "markdown",
   "metadata": {},
   "source": [
    "## Conditionals\n",
    "\n"
   ]
  },
  {
   "cell_type": "code",
   "execution_count": 75,
   "metadata": {},
   "outputs": [
    {
     "name": "stdout",
     "output_type": "stream",
     "text": [
      "FALSE\n"
     ]
    }
   ],
   "source": [
    "if atoms < 10 ** 9:\n",
    "    print(\"TRUE\")\n",
    "else:\n",
    "    print(\"FALSE\")\n",
    "\n",
    "# True is default keyword\n",
    "#False is a default keyword"
   ]
  },
  {
   "cell_type": "code",
   "execution_count": 2,
   "metadata": {},
   "outputs": [
    {
     "name": "stdout",
     "output_type": "stream",
     "text": [
      "Enter value34\n",
      "Enter another value2\n",
      "a is even number\n"
     ]
    }
   ],
   "source": [
    "z\n",
    "a=int(input(\"Enter value\"))\n",
    "b=int(input(\"Enter another value\"))\n",
    "if (a%b==0):\n",
    "    print(\"a is even number\")\n",
    "else:\n",
    "    print(\"it is not even\")"
   ]
  },
  {
   "cell_type": "code",
   "execution_count": null,
   "metadata": {},
   "outputs": [],
   "source": [
    "s=input()"
   ]
  },
  {
   "cell_type": "code",
   "execution_count": 78,
   "metadata": {},
   "outputs": [
    {
     "name": "stdout",
     "output_type": "stream",
     "text": [
      "Odd\n"
     ]
    }
   ],
   "source": [
    "# Check if a number is even\n",
    "n = 123\n",
    "if n % 2 == 0:\n",
    "    print(\"Even\")\n",
    "else:\n",
    "    print(\"Odd\")"
   ]
  },
  {
   "cell_type": "code",
   "execution_count": 6,
   "metadata": {},
   "outputs": [
    {
     "name": "stdout",
     "output_type": "stream",
     "text": [
      "Enter the first number-1\n",
      "Enter the second number-3\n",
      "Enter the third number-100\n",
      "-1 is the greatest\n"
     ]
    }
   ],
   "source": [
    "# Find the greatest of 3 numbers\n",
    "n1 = int(input(\"Enter the first number\"))\n",
    "n2 = int(input(\"Enter the second number\"))\n",
    "n3 = int(input(\"Enter the third number\"))\n",
    "\n",
    "if n1 > n2 and n1 > n3:\n",
    "    print(n1, \"is the greatest\")\n",
    "elif n2 >  n3:\n",
    "    print(n2, \"is the greatest\")\n",
    "else:\n",
    "    print(n3, \"is the greatest\")\n",
    "    "
   ]
  },
  {
   "cell_type": "code",
   "execution_count": null,
   "metadata": {},
   "outputs": [],
   "source": [
    "# check if a year is a Leap Year\n",
    "y1 = int(input(\"Enter an year to check leap year\"))\n",
    "if y1%400==0 or y1%100!=0 and y1%4==0:\n",
    "    print(\"y1 is Leap year\")\n",
    "else:\n",
    "    print(\"y1 is not a leap year\")"
   ]
  },
  {
   "cell_type": "code",
   "execution_count": null,
   "metadata": {},
   "outputs": [],
   "source": [
    "# Check if a number in a given range(inclusive range)\n",
    "n1 = eval(input(\"Enter number to check in given range\"))\n",
    "lb = eval(input(\"Enter lower bound\"))\n",
    "up = eval(input(\"Enter upper bound\"))\n",
    "if n1 >= lb and n1 <= ub:\n",
    "    print(\"it is in range\")\n",
    "else:\n",
    "          print(\"does not exit \")"
   ]
  },
  {
   "cell_type": "code",
   "execution_count": 6,
   "metadata": {},
   "outputs": [
    {
     "name": "stdout",
     "output_type": "stream",
     "text": [
      "4\n"
     ]
    }
   ],
   "source": [
    "#Calculate the number of digits in a number\n",
    "s = 1333\n",
    "type(s)\n",
    "print(len(str(s)))"
   ]
  },
  {
   "cell_type": "code",
   "execution_count": 8,
   "metadata": {},
   "outputs": [
    {
     "name": "stdout",
     "output_type": "stream",
     "text": [
      "Enter a number1000\n",
      "a is multiple of 10\n"
     ]
    }
   ],
   "source": [
    "#Check if a number is a multiple of 10\n",
    "a = int(input(\"Enter a number\"))\n",
    "if a%10==0:\n",
    "    print(\"a is multiple of 10\")\n",
    "else:\n",
    "    print(\" a not a multiple of 10\")"
   ]
  },
  {
   "cell_type": "code",
   "execution_count": 5,
   "metadata": {},
   "outputs": [
    {
     "name": "stdout",
     "output_type": "stream",
     "text": [
      "123496 is not equal to 123456\n"
     ]
    }
   ],
   "source": [
    "#Check if given string is equal to a number  \n",
    "s1 = \"123456\"\n",
    "n1 = 123456\n",
    "if str(n1) == s1:\n",
    "    print(n1, \"is equal to\",s1)\n",
    "else:\n",
    "    print(n1, \"is not equal to\",s1)"
   ]
  },
  {
   "cell_type": "code",
   "execution_count": 10,
   "metadata": {},
   "outputs": [
    {
     "data": {
      "text/plain": [
       "3.1622776601683795"
      ]
     },
     "execution_count": 10,
     "metadata": {},
     "output_type": "execute_result"
    }
   ],
   "source": [
    "#Caculate the Sqare root of a number without functions\n",
    "n1 = 10\n",
    "n1 ** 0.5"
   ]
  },
  {
   "cell_type": "code",
   "execution_count": 2,
   "metadata": {},
   "outputs": [
    {
     "name": "stdout",
     "output_type": "stream",
     "text": [
      "31536000000000000\n"
     ]
    }
   ],
   "source": [
    "#nano seconds\n",
    "year = 2019\n",
    "if year%400==0 or year%100!=0 and year%4==0:\n",
    "    print(366 * 24 * 60 * 60 * (10**9))\n",
    "else:\n",
    "    print(365 * 24 * 60 * 60 *(10**9))"
   ]
  },
  {
   "cell_type": "code",
   "execution_count": 7,
   "metadata": {},
   "outputs": [
    {
     "name": "stdout",
     "output_type": "stream",
     "text": [
      "not a factor of 1000\n"
     ]
    }
   ],
   "source": [
    "# Check if a number is factor of 1000\n",
    "n1=12\n",
    "if 1000 % n1 == 0:\n",
    "    print(\"n1 is factor of 1000\")\n",
    "else:\n",
    "    print(\"not a factor of 1000\")"
   ]
  },
  {
   "cell_type": "code",
   "execution_count": null,
   "metadata": {},
   "outputs": [],
   "source": []
  }
 ],
 "metadata": {
  "kernelspec": {
   "display_name": "Python 3",
   "language": "python",
   "name": "python3"
  },
  "language_info": {
   "codemirror_mode": {
    "name": "ipython",
    "version": 3
   },
   "file_extension": ".py",
   "mimetype": "text/x-python",
   "name": "python",
   "nbconvert_exporter": "python",
   "pygments_lexer": "ipython3",
   "version": "3.7.3"
  }
 },
 "nbformat": 4,
 "nbformat_minor": 2
}
