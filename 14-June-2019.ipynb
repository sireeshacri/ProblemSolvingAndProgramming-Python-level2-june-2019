{
 "cells": [
  {
   "cell_type": "markdown",
   "metadata": {},
   "source": [
    "## Problem Solving and Programming in Python Day-4\n",
    "\n",
    "### Date - 14 June 2019\n",
    "\n",
    "### Day Objectives\n",
    "- Python Data Structures\n",
    "    - Lists\n",
    "    - Tuples\n",
    "    - Dictionaries\n",
    "- Dictionaries\n",
    "- Advanced Problem Set\n",
    "- Packages and Modules in Python"
   ]
  },
  {
   "cell_type": "markdown",
   "metadata": {},
   "source": [
    "## Python Data Structures\n",
    "\n",
    "### Lists"
   ]
  },
  {
   "cell_type": "code",
   "execution_count": 49,
   "metadata": {},
   "outputs": [
    {
     "name": "stdout",
     "output_type": "stream",
     "text": [
      "-1\n"
     ]
    }
   ],
   "source": [
    "li = [123, 978, 654]\n",
    "\n",
    "li # Access the entire list\n",
    "\n",
    "li[1] # Access an element with index in a list\n",
    "\n",
    "li[1:] # Access all elements second element to last element\n",
    "\n",
    "li[::-1] # copying the elements and give us in reverse order but still we have the same original list as it is(li)\n",
    "\n",
    "li # same list is there by above reverse order\n",
    "\n",
    "li = li[::-1]  # donot copying putting entire list as in reverse order\n",
    "\n",
    "li # list has changed as reverse order\n",
    "\n",
    "li = li[::-1]\n",
    "\n",
    "li[::2] # Accessing even index elements as a list\n",
    "\n",
    "li[1::2] # Accessing odd index elements as a list\n",
    "\n",
    "li[1] # Accessing the index value not as list but as value  i.e we donot get \"\"[]\"\" brackets\n",
    "\n",
    "# Lists can be accessed , manipulated in two Different ways \n",
    "    # Direct referencing - [index] # Accessing using  \"\"[]\"\" square brackets\n",
    "    # Indirect Referencing   - through functions\n",
    "    \n",
    "li.append(345)  # Adding an element to end of the list\n",
    "\n",
    "li\n",
    "\n",
    "li.insert(1,234)  # Adding an element at a particular position(index)\n",
    "\n",
    "li\n",
    "\n",
    "li.sort()  # Sort elements in ascending order\n",
    "\n",
    "li\n",
    "\n",
    "li.pop()   # Remove the last element in a list  and return it\n",
    "\n",
    "li  # Showing the list after removing the last elements i.e [123, 234, 345, 654]\n",
    "\n",
    "li.pop(1) # Remove an element at a particular index\n",
    "\n",
    "li   # Showing the list after removing 1 index element i.e 234 op = [123,345,654]\n",
    "\n",
    "li2 = [234,456,789]\n",
    "\n",
    "li.extend(li2)# Merge list 2 into list 1 i.e li2 elements added to li\n",
    "\n",
    "li   # o/p --> [123, 345, 654, 234, 456, 789]\n",
    "\n",
    "sum(li)    #  SUM of all elements in a list (if elements are all numbers)\n",
    "\n",
    "max(li)  # Maximum element in a list\n",
    "\n",
    "len(li)  # Number of elements in a list\n",
    "\n",
    "sum(li)/len(li)  # Average of list elements\n",
    "                                                                                               # 0    2     4\n",
    "sum(li[::2])/len(li[::2])   # Average of all alternate elements at even positions  i.e list -->[123, 654, 456]\n",
    "\n",
    "                                                                                              #  1    3    5\n",
    "sum(li[1::2])/len(li[1::2])  # Average of all alternate elements at odd positions  i.e list -->[345, 234, 789]\n",
    "\n",
    "li\n",
    "\n",
    "min(li)   # Minimum element in a list\n",
    "li\n",
    "\n",
    "min(li)-1   #[123, 345, 654, 234, 456, 789]    --> op-->122\n",
    "\n",
    "try:\n",
    "    li.index(1000)\n",
    "except:\n",
    "    print(-1)"
   ]
  },
  {
   "cell_type": "code",
   "execution_count": 3,
   "metadata": {},
   "outputs": [
    {
     "name": "stdout",
     "output_type": "stream",
     "text": [
      "3\n",
      " 1 2 3 \n"
     ]
    },
    {
     "data": {
      "text/plain": [
       "[' 1 2 3 ']"
      ]
     },
     "execution_count": 3,
     "metadata": {},
     "output_type": "execute_result"
    }
   ],
   "source": [
    "n = int(input())\n",
    "s = [input()]\n",
    "li = s\n",
    "li"
   ]
  },
  {
   "cell_type": "code",
   "execution_count": 4,
   "metadata": {},
   "outputs": [
    {
     "data": {
      "text/plain": [
       "[1, 2, 3, 4, 5, 6]"
      ]
     },
     "execution_count": 4,
     "metadata": {},
     "output_type": "execute_result"
    }
   ],
   "source": [
    "s = \" 1 2 3 4 5 6\"\n",
    "li = s.split()\n",
    "numberlist = []\n",
    "for i in li:\n",
    "    numberlist.append(int(i))\n",
    "numberlist"
   ]
  },
  {
   "cell_type": "code",
   "execution_count": 43,
   "metadata": {},
   "outputs": [
    {
     "data": {
      "text/plain": [
       "234"
      ]
     },
     "execution_count": 43,
     "metadata": {},
     "output_type": "execute_result"
    }
   ],
   "source": [
    "# Function to identify the second largest elements in a unique list\n",
    "    # Sort the data and select the second last elements\n",
    "    # Sort the data in reverse order, and select the max\n",
    "    # Remove the max element and then get the max of the new list\n",
    "    # \n",
    "\n",
    "def secondLargest(li):\n",
    "    li.sort()\n",
    "    return li[-2]\n",
    "    \n",
    "    \n",
    "# Function that returns the nth largest\n",
    "    \n",
    "def genericLargest(li, n):\n",
    "    li.sort()\n",
    "    return li[-n]\n",
    "secondLargest(li)\n",
    "genericLargest(li, 5)\n"
   ]
  },
  {
   "cell_type": "code",
   "execution_count": 51,
   "metadata": {},
   "outputs": [
    {
     "data": {
      "text/plain": [
       "3"
      ]
     },
     "execution_count": 51,
     "metadata": {},
     "output_type": "execute_result"
    }
   ],
   "source": [
    "# Function to search for data in a list\n",
    "# Search for the key in the list and return the index of the key.return -1 if key not found\n",
    "\n",
    "def linearSearch(li, key):\n",
    "    for index in range(0,len(li)):    # for value in li:\n",
    "        if li[index] == key:\n",
    "            return index    # return index+1\n",
    "    return -1\n",
    "\n",
    "def linearSearch2(li, key):\n",
    "    for element in li:\n",
    "        if element == key:\n",
    "            return li.index(element)\n",
    "    return -1\n",
    "\n",
    "def linearSearch3(li, key):\n",
    "    if key in li:\n",
    "        return li.index(key)\n",
    "    return -1\n",
    "                                            #return index(key) --> index of that key \n",
    "linearSearch1(li, 234)\n",
    "linearSearch2(li, 234)\n",
    "linearSearch3(li, 234)"
   ]
  },
  {
   "cell_type": "code",
   "execution_count": 57,
   "metadata": {},
   "outputs": [
    {
     "data": {
      "text/plain": [
       "2"
      ]
     },
     "execution_count": 57,
     "metadata": {},
     "output_type": "execute_result"
    }
   ],
   "source": [
    "# Function to count the occurances of a character in a string\n",
    "# \"Python Programming\", m -> 2\n",
    "def countCharOccurances1(string,character):\n",
    "    count = 0\n",
    "    for ch in string:\n",
    "        if ch == character:\n",
    "            count += 1\n",
    "    return count\n",
    "\n",
    "def countCharOccurances2(s,c):\n",
    "    return s.count(c)\n",
    "\n",
    "countCharOccurances1(\"Python Programming\", \"m\")\n",
    "\n",
    "countCharOccurances2(\"Python Programming Py\", \"Py\")\n",
    "\n",
    "# Function to find the number of occurances of a substring\n",
    "# \"abcabcddcba\", \"ab\"  --> 2\n",
    "\n",
    "def countSubString(s,c):\n",
    "    l=len(c)\n",
    "    count=0\n",
    "    for  hd in s:\n",
    "        "
   ]
  },
  {
   "cell_type": "code",
   "execution_count": 2,
   "metadata": {},
   "outputs": [
    {
     "name": "stdout",
     "output_type": "stream",
     "text": [
      "3\n"
     ]
    },
    {
     "data": {
      "text/plain": [
       "14"
      ]
     },
     "execution_count": 2,
     "metadata": {},
     "output_type": "execute_result"
    }
   ],
   "source": [
    "n = int(input())\n",
    "\n",
    "def sumofSqauresNaturalNumbers(n):\n",
    "    sum = 0 \n",
    "    for i in range(1, n+1):\n",
    "        sum = sum + i ** 2\n",
    "    return sum\n",
    "sumofSqauresNaturalNumbers(n)"
   ]
  },
  {
   "cell_type": "code",
   "execution_count": null,
   "metadata": {},
   "outputs": [],
   "source": []
  }
 ],
 "metadata": {
  "kernelspec": {
   "display_name": "Python 3",
   "language": "python",
   "name": "python3"
  },
  "language_info": {
   "codemirror_mode": {
    "name": "ipython",
    "version": 3
   },
   "file_extension": ".py",
   "mimetype": "text/x-python",
   "name": "python",
   "nbconvert_exporter": "python",
   "pygments_lexer": "ipython3",
   "version": "3.7.3"
  }
 },
 "nbformat": 4,
 "nbformat_minor": 2
}
