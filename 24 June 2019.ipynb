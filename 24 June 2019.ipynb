{
 "cells": [
  {
   "cell_type": "code",
   "execution_count": 4,
   "metadata": {},
   "outputs": [
    {
     "name": "stdout",
     "output_type": "stream",
     "text": [
      "new conatact siri is added\n"
     ]
    }
   ],
   "source": [
    "mycontacts={}\n",
    "def addingContact(name,phoneNo):\n",
    "    if name not in mycontacts:\n",
    "        mycontacts[name]=phoneNo\n",
    "        print(\"new conatact %s is added\" %name)\n",
    "    else:\n",
    "        print(\"%s is already in mycontacts\"% name)\n",
    "addingContact(\"siri\",\"8878933739\")"
   ]
  },
  {
   "cell_type": "code",
   "execution_count": 5,
   "metadata": {},
   "outputs": [
    {
     "name": "stdout",
     "output_type": "stream",
     "text": [
      "siri : 8878933739\n"
     ]
    }
   ],
   "source": [
    "def searchMycontact(name):\n",
    "    if name in mycontacts:\n",
    "        print(name,\":\",mycontacts[name])\n",
    "    else:\n",
    "        print(\"%s doesn't exist\"% name)\n",
    "searchMycontact(\"siri\")"
   ]
  },
  {
   "cell_type": "code",
   "execution_count": null,
   "metadata": {},
   "outputs": [],
   "source": []
  }
 ],
 "metadata": {
  "kernelspec": {
   "display_name": "Python 3",
   "language": "python",
   "name": "python3"
  },
  "language_info": {
   "codemirror_mode": {
    "name": "ipython",
    "version": 3
   },
   "file_extension": ".py",
   "mimetype": "text/x-python",
   "name": "python",
   "nbconvert_exporter": "python",
   "pygments_lexer": "ipython3",
   "version": "3.7.3"
  }
 },
 "nbformat": 4,
 "nbformat_minor": 2
}
