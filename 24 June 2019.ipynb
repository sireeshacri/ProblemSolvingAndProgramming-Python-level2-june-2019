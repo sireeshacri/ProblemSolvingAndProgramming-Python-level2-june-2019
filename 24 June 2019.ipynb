{
 "cells": [
  {
   "cell_type": "code",
   "execution_count": 17,
   "metadata": {},
   "outputs": [
    {
     "name": "stdout",
     "output_type": "stream",
     "text": [
      "new conatact siri is added\n"
     ]
    }
   ],
   "source": [
    "# Adding a new contact\n",
    "mycontacts={}\n",
    "def addingContact(name,phoneNo):\n",
    "    if name not in mycontacts:\n",
    "        mycontacts[name]=phoneNo\n",
    "        print(\"new conatact %s is added\" %name)\n",
    "    else:\n",
    "        print(\"%s is already in mycontacts\"% name)\n",
    "addingContact(\"siri\",\"8878933739\")"
   ]
  },
  {
   "cell_type": "code",
   "execution_count": 18,
   "metadata": {},
   "outputs": [
    {
     "name": "stdout",
     "output_type": "stream",
     "text": [
      "siri : 8878933739\n"
     ]
    }
   ],
   "source": [
    "# Searching for a Contact in the existing Contacts List\n",
    "def searchMycontact(name):\n",
    "    if name in mycontacts:\n",
    "        print(name,\":\",mycontacts[name])\n",
    "    else:\n",
    "        print(\"%s doesn't exist\"% name)\n",
    "searchMycontact(\"siri\")"
   ]
  },
  {
   "cell_type": "code",
   "execution_count": 18,
   "metadata": {},
   "outputs": [
    {
     "name": "stdout",
     "output_type": "stream",
     "text": [
      "2  contacts are added\n"
     ]
    },
    {
     "data": {
      "text/plain": [
       "{'siri': '8878933739', 'pinni': 8989898989, 'babai': 7878787878}"
      ]
     },
     "execution_count": 18,
     "metadata": {},
     "output_type": "execute_result"
    }
   ],
   "source": [
    "# Adding New Contacts to existing contacts list\n",
    "# Merge another dictonary\n",
    "def importNewcontacts(newContacts):\n",
    "    #if name not in mycontacts:\n",
    "    mycontacts.update(newContacts)\n",
    "    print(len(newContacts.keys()), \" contacts are added\")\n",
    "#     else:\n",
    "#         print(\"Contacts are already in my contacts\")\n",
    "        \n",
    "newContacts = { \"pinni\":8989898989,\"babai\":7878787878}      \n",
    "\n",
    "importNewcontacts(newContacts)\n",
    "mycontacts"
   ]
  },
  {
   "cell_type": "code",
   "execution_count": null,
   "metadata": {},
   "outputs": [],
   "source": []
  },
  {
   "cell_type": "code",
   "execution_count": 25,
   "metadata": {},
   "outputs": [
    {
     "name": "stdout",
     "output_type": "stream",
     "text": [
      "siri contact has modified : 1238292823\n"
     ]
    }
   ],
   "source": [
    "# Edit a contact with new number\n",
    "def EditContacts(name,phone):\n",
    "    if name in mycontacts:\n",
    "        mycontacts[name]=phone\n",
    "        print(\"%s contact has modified :\" %name,mycontacts[name])\n",
    "        return\n",
    "\n",
    "EditContacts(\"siri\",\"1238292823\")"
   ]
  },
  {
   "cell_type": "code",
   "execution_count": 26,
   "metadata": {},
   "outputs": [
    {
     "name": "stdout",
     "output_type": "stream",
     "text": [
      "{'pinni': 8989898989, 'babai': 7878787878}\n"
     ]
    }
   ],
   "source": [
    "# Remove a contact from existing contacts list\n",
    "def RemoveAContact(name):\n",
    "    if name in mycontacts:\n",
    "        mycontacts.pop(name)\n",
    "        print(mycontacts)\n",
    "        return\n",
    "RemoveAContact(\"siri\")"
   ]
  },
  {
   "cell_type": "code",
   "execution_count": 16,
   "metadata": {},
   "outputs": [
    {
     "name": "stdout",
     "output_type": "stream",
     "text": [
      "True\n"
     ]
    }
   ],
   "source": [
    "# Validation of Phone number and email to add in a contact\n",
    "import re\n",
    "def PhoneNumberValidator(number):\n",
    "    pattern='^[6-9][0-9]{9}$|^[0][6-9][0-9]{9}$|^[+][9][1][6-9][0-9]{9}$'\n",
    "    if re.match(pattern,number):\n",
    "        #print(\"valid phone number\")\n",
    "        return True\n",
    "    else:\n",
    "        return False\n",
    "PhoneNumberValidator('+919898989898')\n",
    "\n",
    "def emailValidator(email):\n",
    "    pattern='^[0-9a-z][0-9a-z_.]{4,13}[0-9a-z][@][a-z0-9]{4,18}[.][a-z]{2,4}$'\n",
    "    if re.match(pattern,email):\n",
    "        return True\n",
    "    else:\n",
    "        return False\n",
    "print(emailValidator(\"sireesha7_.j@gmail.com\"))\n"
   ]
  },
  {
   "cell_type": "markdown",
   "metadata": {},
   "source": [
    "## Contacts Application\n",
    "- Add,Search,List,,Modify Delete contacts\n",
    "\n",
    "## Find and Replace Application? \n",
    "- Check id a word is existing in a fileL\n",
    "    - wordExists(filepath,word)\n",
    "- Count the total number of occurances of a word in file\n",
    "    - countWordOccurrences(filepath,word)\n",
    "- Replace all occurances of a word in a file (with another word)\n",
    "    - replaceWord(filepath,word) \n",
    "    \n",
    "## Marks Analysis Application\n",
    "- Generate Marks\n",
    "    - generateMarks(n,lb,ub)\n",
    "- Generate a report of the following\n",
    "    - Class Average - classAverage(filepath)\n",
    "    - % Passed - passPercentage(filepath)\n",
    "    - % Failed - failPercentage(filepath)\n",
    "    - % Distinction - distinctionPercentate(filepath)\n",
    "    - Frequency of Highest mark - frequency(\n",
    "    - Frequency of Lowest mark\n",
    "    - GenerateReport(filepath)\n",
    "-  Generate marks file for n students (btw 1 to 100)\n",
    "-  Input : Marks text file - each line contains marks of one student\n",
    "-  Generates a report with the following information\n",
    "    -  Class Average \n",
    "    -  % of students passed\n",
    "    -  % of students failed\n",
    "    -  % of students with distinction \n",
    "    -  Highest Mark Frequency\n",
    "    - Lowest Mark Frequency"
   ]
  },
  {
   "cell_type": "code",
   "execution_count": 22,
   "metadata": {},
   "outputs": [],
   "source": [
    "# Function  to generate marks data for n students\n",
    "from random import randint\n",
    "\n",
    "def generateMarks(n, lb, ub):\n",
    "    with open('DataFiles/marks.txt','w') as f:\n",
    "        for i in range(0, n):\n",
    "            r = randint(lb, ub)\n",
    "            f.write(str(r) + '\\n')\n",
    "    return \n",
    "generateMarks(100,0,100)\n",
    "    "
   ]
  },
  {
   "cell_type": "code",
   "execution_count": null,
   "metadata": {},
   "outputs": [],
   "source": [
    "s=input()\n",
    "DigitFreq()"
   ]
  }
 ],
 "metadata": {
  "kernelspec": {
   "display_name": "Python 3",
   "language": "python",
   "name": "python3"
  },
  "language_info": {
   "codemirror_mode": {
    "name": "ipython",
    "version": 3
   },
   "file_extension": ".py",
   "mimetype": "text/x-python",
   "name": "python",
   "nbconvert_exporter": "python",
   "pygments_lexer": "ipython3",
   "version": "3.7.3"
  }
 },
 "nbformat": 4,
 "nbformat_minor": 2
}
