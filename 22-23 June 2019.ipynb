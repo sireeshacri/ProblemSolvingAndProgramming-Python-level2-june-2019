{
 "cells": [
  {
   "cell_type": "markdown",
   "metadata": {},
   "source": [
    "### Date: 22 June 2019\n",
    "\n",
    "### Day Objectives\n",
    "- File Handling \n",
    "    - Basic File Data Processing\n",
    "        - Accessing and Modifying File Data\n",
    "    - Character Count\n",
    "    - Line Count\n",
    "    - File Size \n",
    "    - Word Count\n",
    "    - Unique Word Count"
   ]
  },
  {
   "cell_type": "code",
   "execution_count": 5,
   "metadata": {},
   "outputs": [
    {
     "name": "stdout",
     "output_type": "stream",
     "text": [
      "<class '_io.TextIOWrapper'>\n"
     ]
    }
   ],
   "source": [
    "# Read a File - File should exist(Read Mode)\n",
    "# Write to a File - Existing(append) or New File(Write Mode)\n",
    "\n",
    "def readFile(filePath):\n",
    "    with open(filePath,'r') as f:   # with is key word open defines open that filepath and 'r' is mode here it is read mode\n",
    "        print(type(f))\n",
    "    return \n",
    "filePath = 'DataFiles/data.txt'\n",
    "readFile(filePath)"
   ]
  },
  {
   "cell_type": "code",
   "execution_count": 1,
   "metadata": {},
   "outputs": [
    {
     "name": "stdout",
     "output_type": "stream",
     "text": [
      "new data jumed\n",
      "Line1\n",
      "Line2\n",
      "Line3\n",
      "Line4\n",
      "Line4\n",
      "new data\n",
      "line 1\n",
      "Line1\n",
      "new data\n",
      "Line2\n"
     ]
    }
   ],
   "source": [
    "# Read a File - File should exist(Read Mode)\n",
    "# Write to a File - Existing(append) or New File(Write Mode)\n",
    "\n",
    "# Function to read entire file data into a single string\n",
    "def readFile(filePath):\n",
    "    with open(filePath,'r') as f:   # with is key word open defines open that filepath and 'r' is mode here it is read mode\n",
    "        filedata = f.read()        #Reads the entire file data into a string\n",
    "    return filedata\n",
    "\n",
    "filePath = 'DataFiles/data.txt'\n",
    "#readFile(filePath)    # --->ouput is 'new data\\nLine1\\nLine2\\nLine3\\nLine4'\n",
    "print(readFile(filePath))"
   ]
  },
  {
   "cell_type": "code",
   "execution_count": 6,
   "metadata": {},
   "outputs": [
    {
     "data": {
      "text/plain": [
       "['new data jumed',\n",
       " 'Line1',\n",
       " 'Line2',\n",
       " 'Line3',\n",
       " 'Line4',\n",
       " 'Line4',\n",
       " 'new data',\n",
       " 'line 1',\n",
       " 'Line1',\n",
       " 'new data',\n",
       " 'Line2']"
      ]
     },
     "execution_count": 6,
     "metadata": {},
     "output_type": "execute_result"
    }
   ],
   "source": [
    "# Function to read a file into a list of lines\n",
    "# Each element in the list is one line in the file\n",
    "def readFileIntoList(filePath):\n",
    "    with open(filePath,'r') as f:\n",
    "        filedata = f.read()\n",
    "        lines= filedata.split('\\n')\n",
    "        # lines = []\n",
    "        #for line in f:\n",
    "        #lines.append(line)\n",
    "    return lines\n",
    "\n",
    "#filepath='DataFiles/data.txt'\n",
    "readFileIntoList(filePath)"
   ]
  },
  {
   "cell_type": "code",
   "execution_count": 8,
   "metadata": {},
   "outputs": [
    {
     "data": {
      "text/plain": [
       "5"
      ]
     },
     "execution_count": 8,
     "metadata": {},
     "output_type": "execute_result"
    }
   ],
   "source": [
    "# Fuction to count number of lines in a file\n",
    "\n",
    "def countLinesFile(filepath):\n",
    "    count = len(readFileIntoList(filepath))\n",
    "    return count\n",
    "countLinesFile(filepath)"
   ]
  },
  {
   "cell_type": "code",
   "execution_count": 5,
   "metadata": {},
   "outputs": [
    {
     "data": {
      "text/plain": [
       "32"
      ]
     },
     "execution_count": 5,
     "metadata": {},
     "output_type": "execute_result"
    }
   ],
   "source": [
    "# Function to count the number of characters in a file\n",
    "\n",
    "def charCountFile(filepath):\n",
    "    count= len(readFile(filepath))\n",
    "    return count\n",
    "charCountFile(filepath)"
   ]
  },
  {
   "cell_type": "code",
   "execution_count": 7,
   "metadata": {},
   "outputs": [
    {
     "data": {
      "text/plain": [
       "6"
      ]
     },
     "execution_count": 7,
     "metadata": {},
     "output_type": "execute_result"
    }
   ],
   "source": [
    "# Function to count the number of words in a file\n",
    "import re\n",
    "\n",
    "def wordCountFile(filepath):\n",
    "    pattern = '[ \\n]'\n",
    "    filedata = readFile(filepath)\n",
    "    count = len(re.split(pattern,filedata))\n",
    "    return count\n",
    "wordCountFile(filepath)"
   ]
  },
  {
   "cell_type": "code",
   "execution_count": null,
   "metadata": {},
   "outputs": [],
   "source": [
    "# Function to count the number of words in a file using loop"
   ]
  },
  {
   "cell_type": "code",
   "execution_count": 10,
   "metadata": {},
   "outputs": [
    {
     "ename": "NameError",
     "evalue": "name 'filaPath' is not defined",
     "output_type": "error",
     "traceback": [
      "\u001b[1;31m---------------------------------------------------------------------------\u001b[0m",
      "\u001b[1;31mNameError\u001b[0m                                 Traceback (most recent call last)",
      "\u001b[1;32m<ipython-input-10-38f6c6466269>\u001b[0m in \u001b[0;36m<module>\u001b[1;34m\u001b[0m\n\u001b[0;32m      5\u001b[0m     \u001b[1;32mreturn\u001b[0m \u001b[0mallWordsList\u001b[0m\u001b[1;33m\u001b[0m\u001b[1;33m\u001b[0m\u001b[0m\n\u001b[0;32m      6\u001b[0m \u001b[1;31m#filepath = 'DataFiles/data.txt'\u001b[0m\u001b[1;33m\u001b[0m\u001b[1;33m\u001b[0m\u001b[1;33m\u001b[0m\u001b[0m\n\u001b[1;32m----> 7\u001b[1;33m \u001b[0mWordsFromFile\u001b[0m\u001b[1;33m(\u001b[0m\u001b[0mfilePath\u001b[0m\u001b[1;33m)\u001b[0m\u001b[1;33m\u001b[0m\u001b[1;33m\u001b[0m\u001b[0m\n\u001b[0m",
      "\u001b[1;32m<ipython-input-10-38f6c6466269>\u001b[0m in \u001b[0;36mWordsFromFile\u001b[1;34m(filePath)\u001b[0m\n\u001b[0;32m      1\u001b[0m \u001b[1;32mdef\u001b[0m \u001b[0mWordsFromFile\u001b[0m\u001b[1;33m(\u001b[0m\u001b[0mfilePath\u001b[0m\u001b[1;33m)\u001b[0m\u001b[1;33m:\u001b[0m\u001b[1;33m\u001b[0m\u001b[1;33m\u001b[0m\u001b[0m\n\u001b[0;32m      2\u001b[0m     \u001b[0mpattern\u001b[0m \u001b[1;33m=\u001b[0m \u001b[1;34m'[ \\n]'\u001b[0m\u001b[1;33m\u001b[0m\u001b[1;33m\u001b[0m\u001b[0m\n\u001b[1;32m----> 3\u001b[1;33m     \u001b[0mfiledata\u001b[0m \u001b[1;33m=\u001b[0m  \u001b[0mreadFile\u001b[0m\u001b[1;33m(\u001b[0m\u001b[0mfilaPath\u001b[0m\u001b[1;33m)\u001b[0m\u001b[1;33m\u001b[0m\u001b[1;33m\u001b[0m\u001b[0m\n\u001b[0m\u001b[0;32m      4\u001b[0m     \u001b[0mallWordsList\u001b[0m \u001b[1;33m=\u001b[0m \u001b[0mre\u001b[0m\u001b[1;33m.\u001b[0m\u001b[0mspilt\u001b[0m\u001b[1;33m(\u001b[0m\u001b[0mpattern\u001b[0m\u001b[1;33m,\u001b[0m\u001b[0mfiledata\u001b[0m\u001b[1;33m)\u001b[0m\u001b[1;33m\u001b[0m\u001b[1;33m\u001b[0m\u001b[0m\n\u001b[0;32m      5\u001b[0m     \u001b[1;32mreturn\u001b[0m \u001b[0mallWordsList\u001b[0m\u001b[1;33m\u001b[0m\u001b[1;33m\u001b[0m\u001b[0m\n",
      "\u001b[1;31mNameError\u001b[0m: name 'filaPath' is not defined"
     ]
    }
   ],
   "source": [
    "def WordsFromFile(filePath):\n",
    "    pattern = '[ \\n]'\n",
    "    filedata =  readFile(filaPath)\n",
    "    allWordsList = re.spilt(pattern,filedata)\n",
    "    return allWordsList\n",
    "#filepath = 'DataFiles/data.txt'\n",
    "WordsFromFile(filePath)"
   ]
  },
  {
   "cell_type": "code",
   "execution_count": null,
   "metadata": {},
   "outputs": [],
   "source": [
    "# Function to count no of unique word in a file"
   ]
  },
  {
   "cell_type": "code",
   "execution_count": 12,
   "metadata": {},
   "outputs": [
    {
     "data": {
      "text/plain": [
       "[1, 2, 3]"
      ]
     },
     "execution_count": 12,
     "metadata": {},
     "output_type": "execute_result"
    }
   ],
   "source": [
    "# Function to get unique elements in a list\n",
    "\n",
    "# [1,2,3,3,2,1] --> [1,2,3]\n",
    "# Create a empty unique list [] and then add unique data into it [1,2,3]\n",
    "\n",
    "def uniqueData(li):   # li has repeat elements\n",
    "    # Create an empty unique list\n",
    "    unique = []\n",
    "    \n",
    "    # For every element in the main list, \n",
    "        # Check if it exists in the unique list\n",
    "        # If it does not exist,add it to unique list\n",
    "        # If it already exists, move on to the next element in the main list\n",
    "    for element in li:\n",
    "        if element not in unique:\n",
    "            unique.append(element)\n",
    "    return unique   # --> [1,2,3]\n",
    "    # return len(unique)   #--> 3\n",
    "li = [1,2,3,3,2,1]\n",
    "\n",
    "uniqueData(li)\n"
   ]
  },
  {
   "cell_type": "code",
   "execution_count": 17,
   "metadata": {},
   "outputs": [
    {
     "data": {
      "text/plain": [
       "['new data jumed', 'Line1', 'Line2', 'Line3', 'Line4', 'new data', 'line 1']"
      ]
     },
     "execution_count": 17,
     "metadata": {},
     "output_type": "execute_result"
    }
   ],
   "source": [
    "# Function to get unique words count in a file\n",
    "def countUniqueWord(li):\n",
    "    unique = []\n",
    "    for element in li:\n",
    "        if element not in unique:\n",
    "            unique.append(element)\n",
    "    return unique\n",
    "li=readFileIntoList(filepath)\n",
    "countUniqueWord(li)"
   ]
  },
  {
   "cell_type": "code",
   "execution_count": null,
   "metadata": {},
   "outputs": [],
   "source": []
  },
  {
   "cell_type": "code",
   "execution_count": null,
   "metadata": {},
   "outputs": [],
   "source": [
    "# Function to get unique words "
   ]
  },
  {
   "cell_type": "code",
   "execution_count": null,
   "metadata": {},
   "outputs": [],
   "source": [
    "# Function to count the number of unique words in a text file"
   ]
  },
  {
   "cell_type": "code",
   "execution_count": 21,
   "metadata": {},
   "outputs": [
    {
     "name": "stdout",
     "output_type": "stream",
     "text": [
      "main file data : ['new', 'data', 'jumed', 'Line1', 'Line2', 'Line3', 'Line4', 'Line4', 'new', 'data', 'line', '1', 'Line1', 'new', 'data', 'Line2']\n",
      "unique file data : ['new', 'data', 'jumed', 'Line1', 'Line2', 'Line3', 'Line4', 'line', '1']\n",
      "new : 3\n",
      "data : 3\n",
      "jumed : 1\n",
      "Line1 : 2\n",
      "Line2 : 2\n",
      "Line3 : 1\n",
      "Line4 : 2\n",
      "line : 1\n",
      "1 : 1\n"
     ]
    }
   ],
   "source": [
    "# Function to print the frequency count of all words in file\n",
    "# Frequency Distribution\n",
    "# Data in Line 1\n",
    "# Data in Line 2\n",
    "# Data in Line 3\n",
    "# O/P\n",
    "# Data : 3\n",
    "# in : 3\n",
    "# Line : 3\n",
    "# 1 : 1\n",
    "# 2 : 1\n",
    "# 3 : 1\n",
    "\n",
    "def frequencyCount(filepath):\n",
    "    filedata = readFile(filePath).split()\n",
    "    print('main file data',':',filedata)\n",
    "    x=[]\n",
    "    y=[]\n",
    "    for i in filedata:\n",
    "        if i not in x:\n",
    "            x.append(i)\n",
    "    print('unique file data',':',x)\n",
    "    for i in x:\n",
    "        c=y.append(filedata.count(i))\n",
    "        print(i,':',filedata.count(i))\n",
    "    return\n",
    "frequencyCount(filepath)"
   ]
  },
  {
   "cell_type": "code",
   "execution_count": 9,
   "metadata": {},
   "outputs": [
    {
     "ename": "NameError",
     "evalue": "name 'wordsFromFile' is not defined",
     "output_type": "error",
     "traceback": [
      "\u001b[1;31m---------------------------------------------------------------------------\u001b[0m",
      "\u001b[1;31mNameError\u001b[0m                                 Traceback (most recent call last)",
      "\u001b[1;32m<ipython-input-9-459a6b3560b4>\u001b[0m in \u001b[0;36m<module>\u001b[1;34m\u001b[0m\n\u001b[0;32m     27\u001b[0m         \u001b[0mprint\u001b[0m\u001b[1;33m(\u001b[0m\u001b[0mword\u001b[0m\u001b[1;33m,\u001b[0m\u001b[1;34m':'\u001b[0m\u001b[1;33m,\u001b[0m\u001b[0mcount\u001b[0m\u001b[1;33m)\u001b[0m\u001b[1;33m\u001b[0m\u001b[1;33m\u001b[0m\u001b[0m\n\u001b[0;32m     28\u001b[0m     \u001b[1;32mreturn\u001b[0m\u001b[1;33m\u001b[0m\u001b[1;33m\u001b[0m\u001b[0m\n\u001b[1;32m---> 29\u001b[1;33m \u001b[0mFreqDistributionOfWords\u001b[0m\u001b[1;33m(\u001b[0m\u001b[0mfilePath\u001b[0m\u001b[1;33m)\u001b[0m\u001b[1;33m\u001b[0m\u001b[1;33m\u001b[0m\u001b[0m\n\u001b[0m",
      "\u001b[1;32m<ipython-input-9-459a6b3560b4>\u001b[0m in \u001b[0;36mFreqDistributionOfWords\u001b[1;34m(filepath)\u001b[0m\n\u001b[0;32m     20\u001b[0m         \u001b[1;31m# UniqueWOrds list -\u001b[0m\u001b[1;33m\u001b[0m\u001b[1;33m\u001b[0m\u001b[1;33m\u001b[0m\u001b[0m\n\u001b[0;32m     21\u001b[0m     \u001b[1;31m# Set\u001b[0m\u001b[1;33m\u001b[0m\u001b[1;33m\u001b[0m\u001b[1;33m\u001b[0m\u001b[0m\n\u001b[1;32m---> 22\u001b[1;33m     \u001b[0mallwords\u001b[0m\u001b[1;33m=\u001b[0m \u001b[0mwordsFromFile\u001b[0m\u001b[1;33m(\u001b[0m\u001b[0mfilePath\u001b[0m\u001b[1;33m)\u001b[0m\u001b[1;33m\u001b[0m\u001b[1;33m\u001b[0m\u001b[0m\n\u001b[0m\u001b[0;32m     23\u001b[0m     \u001b[0muniquewords\u001b[0m \u001b[1;33m=\u001b[0m \u001b[0muniquewords\u001b[0m\u001b[1;33m(\u001b[0m\u001b[0mfilePath\u001b[0m\u001b[1;33m)\u001b[0m\u001b[1;33m\u001b[0m\u001b[1;33m\u001b[0m\u001b[0m\n\u001b[0;32m     24\u001b[0m \u001b[1;33m\u001b[0m\u001b[0m\n",
      "\u001b[1;31mNameError\u001b[0m: name 'wordsFromFile' is not defined"
     ]
    }
   ],
   "source": [
    "# Function to print the frequency count of all words in file\n",
    "# Frequency Distribution\n",
    "# Data in Line 1\n",
    "# Data in Line 2\n",
    "# Data in Line 3\n",
    "# O/P\n",
    "# Data : 3\n",
    "# in : 3\n",
    "# Line : 3\n",
    "# 1 : 1\n",
    "# 2 : 1\n",
    "# 3 : 1\n",
    "\n",
    "def FreqDistributionOfWords(filepath):\n",
    "    # Dictionary to be used\n",
    "        # Keys -> unique words\n",
    "        # Values -> Count of unique words\n",
    "    # Two lists\n",
    "        # AllWords list -\n",
    "        # UniqueWOrds list - \n",
    "    # Set \n",
    "    allwords= wordsFromFile(filePath)\n",
    "    uniquewords = uniquewords(filePath)\n",
    "    \n",
    "    for word in uniquewords:\n",
    "        count = allwords.count(word)\n",
    "        print(word,':',count)\n",
    "    return\n",
    "FreqDistributionOfWords(filePath)"
   ]
  },
  {
   "cell_type": "code",
   "execution_count": 18,
   "metadata": {},
   "outputs": [],
   "source": [
    "# Contacts Application\n",
    "    # Add,Search,List,,Modify Delete contacts\n",
    "\n",
    "# Find and Replace Application? \n",
    "    # Count the total number of occurances of a word\n",
    "    # If word is existing\n",
    "    # Repalce all occurances of a word with another word\n",
    "\n",
    "# Marks Analysis Application\n",
    "    # Generate marks file for n students (btw 1 to 100)\n",
    "    # Input : Marks text file - each line contains marks of one student\n",
    "    # Generates a report with the following information\n",
    "        # Class Average \n",
    "        # % of students passed\n",
    "        # % of students failed\n",
    "        # % of students with distinction  "
   ]
  },
  {
   "cell_type": "code",
   "execution_count": null,
   "metadata": {},
   "outputs": [],
   "source": [
    "# Function  to generate marks data for n students\n",
    "\n",
    "def generateMarks(n, lb, ub):\n",
    "    "
   ]
  },
  {
   "cell_type": "markdown",
   "metadata": {},
   "source": [
    "### Seating Arrangement\n",
    "- Akash and Vishal are quite fond of travelling. They mostly travel by railways. They were travelling in a train one day and they got interested in the seating arrangement of their compartment. The compartment looked something like \n",
    "\n",
    "[TrainCompartment](TrainCompartment.jpg)\n",
    " \n",
    " ![TrainCompartment](TrainCompartment.jpg)\n",
    " \n",
    "-  So they got interested to know the seat number facing them and the seat type facing them. The seats are denoted as follows : \n",
    "\n",
    "- Window Seat : WS\n",
    "- Middle Seat : MS\n",
    "- Aisle Seat : AS\n",
    "\n",
    "- You will be given a seat number, find out the seat number facing you and the seat type, i.e. WS, MS or AS.\n",
    "\n",
    "- INPUT\n",
    "    - First line of input will consist of a single integer T denoting number of test-cases. Each test-case consists of a single integer N denoting the seat-number.\n",
    "\n",
    "- OUTPUT\n",
    "    - For each test case, print the facing seat-number and the seat-type, separated by a single space in a new line.\n",
    "\n",
    "- CONSTRAINTS\n",
    "    - 1<=T<=105\n",
    "    - =N<=108\n",
    "- SAMPLE INPUT\n",
    "    - 2\n",
    "    - 18\n",
    "    - 40\n",
    "- SAMPLE OUTPUT\n",
    "   - 19 WS\n",
    "    - 45 AS"
   ]
  },
  {
   "cell_type": "code",
   "execution_count": 11,
   "metadata": {},
   "outputs": [
    {
     "name": "stdout",
     "output_type": "stream",
     "text": [
      "1\n",
      "45\n",
      "40 AS\n"
     ]
    }
   ],
   "source": [
    "t=int(input())\n",
    "for i in range(1,t+1):\n",
    "    sn=int(input())\n",
    "    \n",
    "    if(sn%12==0):\n",
    "        print(sn-11,'WS')\n",
    "    elif(sn%12==11):\n",
    "        print(sn-9,'MS')\n",
    "    elif(sn%12==10):\n",
    "        print(sn-7,'AS')\n",
    "    elif(sn%12==9):\n",
    "        print(sn-5,'AS')\n",
    "    elif(sn%12==8):\n",
    "        print(sn-3,'MS')\n",
    "    elif(sn%12==7):\n",
    "        print(sn-1,'WS')\n",
    "    elif(sn%12==6):\n",
    "        print(sn+1,'WS')\n",
    "    elif(sn%12==5):\n",
    "        print(sn+3,'MS')\n",
    "    elif(sn%12==4):\n",
    "        print(sn+5,'AS')\n",
    "    elif(sn%12==3):\n",
    "        print(sn+7,'AS')\n",
    "    elif(sn%12==2):\n",
    "        print(sn+9,'MS')\n",
    "    elif(sn%12==1):\n",
    "        print(sn+11,'WS')"
   ]
  },
  {
   "cell_type": "code",
   "execution_count": 10,
   "metadata": {},
   "outputs": [
    {
     "name": "stdout",
     "output_type": "stream",
     "text": [
      "4 WS\n"
     ]
    }
   ],
   "source": [
    "n=4\n",
    "print(n,\"WS\")"
   ]
  },
  {
   "cell_type": "code",
   "execution_count": 15,
   "metadata": {},
   "outputs": [
    {
     "name": "stdout",
     "output_type": "stream",
     "text": [
      "2\n",
      "2 3 5 6 7\n"
     ]
    }
   ],
   "source": [
    "N = int(input())\n",
    "A = input().split()\n",
    "#print(A)"
   ]
  },
  {
   "cell_type": "code",
   "execution_count": 17,
   "metadata": {},
   "outputs": [
    {
     "name": "stdout",
     "output_type": "stream",
     "text": [
      "5\n",
      "1 2 3 4 5 6 7\n",
      "1 2 3 4 5 "
     ]
    }
   ],
   "source": [
    "N = int(input())\n",
    "A = input().split()\n",
    "li = []\n",
    "for i in range(n+1):\n",
    "    li.append(int(A[i]))\n",
    "    print(li[i],end=' ')\n",
    "    \n",
    "    "
   ]
  },
  {
   "cell_type": "markdown",
   "metadata": {},
   "source": [
    "### Find Product\n",
    "- You have been given an array A of size N consisting of positive integers. You need to find and print the product of all the number in this array Modulo 10^9+7 .\n",
    "- Input Format:\n",
    "    - The first line contains a single integer N denoting the size of the array. The next line contains N space separated integers denoting the elements of the array\n",
    "\n",
    "- Output Format:\n",
    "    - Print a single integer denoting the product of all the elements of the array Modulo 10^9+7 .\n",
    "- Constraints:\n",
    "    - 1<=N<=10^3\n",
    "    - 1<=A[i]<10^3\n",
    "- SAMPLE INPUT \n",
    "    - 5\n",
    "    - 1 2 3 4 5\n",
    "- SAMPLE OUTPUT \n",
    "    - 120\n",
    "- Explanation\n",
    "    - There are 5 integers to multiply. Let's store the final answer in 'answer' variable. Since 1 is identity value for multiplication, initialize 'answer'  as 1.\n",
    "    - answer = 1\n",
    "    - answer = (answer*1)%(10^9+7)\n",
    "    - answer = (answer*2)%(10^9+7)\n",
    "    - answer = (answer*3)%(10^9+7)\n",
    "    - answer = (answer*4)%(10^9+7)\n",
    "    - answer = (answer*5)%(10^9+7)\n",
    "    \n",
    "    - The above process will yield answer as 120\n",
    "\n"
   ]
  },
  {
   "cell_type": "code",
   "execution_count": 26,
   "metadata": {},
   "outputs": [
    {
     "name": "stdout",
     "output_type": "stream",
     "text": [
      "5\n",
      "1 2 3 4 5\n",
      "120\n"
     ]
    }
   ],
   "source": [
    "N = int(input())\n",
    "A = input().split()\n",
    "#li = [] \n",
    "answer=1\n",
    "for i in range(N):\n",
    "    #li.append(int(A[i]))\n",
    "    # print(li[i],end=' ')\n",
    "    answer=(answer*int(A[i]))%(1000000007)\n",
    "print(answer)\n",
    "    "
   ]
  },
  {
   "cell_type": "markdown",
   "metadata": {},
   "source": [
    "### e-maze-in\n",
    "- Ankit is in maze. The command center sent him a string which decodes to come out from the maze. He is initially at (0, 0). String contains L, R, U, D denoting left, right, up and down. In each command he will traverse 1 unit distance in the respective direction.\n",
    "\n",
    "[e-maze-in](e-maze-in.jpg)\n",
    " \n",
    " ![e-maze-in](e-maze-in.jpg)\n",
    " \n",
    "- For example if he is at (2, 0) and the command is L he will go to (1, 0).\n",
    "\n",
    "- Input:\n",
    "\n",
    "- Input contains a single string.\n",
    "\n",
    "- Output:\n",
    "\n",
    "- Print the final point where he came out.\n",
    "\n",
    "- Constraints:\n",
    "\n",
    "    - 1 ≤ |S| ≤ 200\n",
    "\n",
    "- SAMPLE INPUT \n",
    "    - LLRDDR\n",
    "- SAMPLE OUTPUT \n",
    "    - 0 -2"
   ]
  },
  {
   "cell_type": "code",
   "execution_count": 25,
   "metadata": {},
   "outputs": [
    {
     "name": "stdout",
     "output_type": "stream",
     "text": [
      "LLRDDR\n",
      "0 -2\n"
     ]
    }
   ],
   "source": [
    "# Puzzle game ---> maze \n",
    "s=input()\n",
    "x=0\n",
    "y=0\n",
    "for i in s:\n",
    "    if(i=='L'):\n",
    "        x = x-1\n",
    "    elif(i=='R'):\n",
    "        x = x+1\n",
    "    elif(i=='D'):\n",
    "        y = y-1\n",
    "    elif(i=='U'):\n",
    "        y = y+1\n",
    "print(x,y)"
   ]
  },
  {
   "cell_type": "code",
   "execution_count": null,
   "metadata": {},
   "outputs": [],
   "source": []
  }
 ],
 "metadata": {
  "kernelspec": {
   "display_name": "Python 3",
   "language": "python",
   "name": "python3"
  },
  "language_info": {
   "codemirror_mode": {
    "name": "ipython",
    "version": 3
   },
   "file_extension": ".py",
   "mimetype": "text/x-python",
   "name": "python",
   "nbconvert_exporter": "python",
   "pygments_lexer": "ipython3",
   "version": "3.7.3"
  }
 },
 "nbformat": 4,
 "nbformat_minor": 2
}
