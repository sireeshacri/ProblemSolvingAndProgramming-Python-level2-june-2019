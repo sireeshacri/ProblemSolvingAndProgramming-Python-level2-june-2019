{
 "cells": [
  {
   "cell_type": "code",
   "execution_count": 5,
   "metadata": {},
   "outputs": [
    {
     "data": {
      "text/plain": [
       "True"
      ]
     },
     "execution_count": 5,
     "metadata": {},
     "output_type": "execute_result"
    }
   ],
   "source": [
    "def isprime(n):\n",
    "    flag = 0\n",
    "    if n==1:\n",
    "        return False\n",
    "    for i in range(2,n):\n",
    "            if n%i==0:\n",
    "                flag+=1\n",
    "                #return False\n",
    "    if flag==0:\n",
    "        return True \n",
    "    return False\n",
    "isprime(67)\n",
    "            "
   ]
  },
  {
   "cell_type": "code",
   "execution_count": null,
   "metadata": {},
   "outputs": [],
   "source": [
    "def isPrime(n):\n",
    "    count = 0\n",
    "    for i in range(1,n+1):\n",
    "        if(n%i==0):\n",
    "            count+=1\n",
    "    if(count==2):\n",
    "        print(n, \"is prime\")\n",
    "    else:\n",
    "        print(\"not prime\")\n",
    "        \n",
    "n=int(input())\n",
    "isPrime(n)"
   ]
  },
  {
   "cell_type": "code",
   "execution_count": 17,
   "metadata": {},
   "outputs": [
    {
     "name": "stdout",
     "output_type": "stream",
     "text": [
      "3\n",
      "2 3 "
     ]
    }
   ],
   "source": [
    "def PrimeRange(n):\n",
    "    \n",
    "    for i in range(2,n+1):\n",
    "        count=0\n",
    "        for j in range(1,i+1):\n",
    "            if(i%j==0):\n",
    "                count=count+1\n",
    "        if(count==2):\n",
    "            print(i,end=\" \")\n",
    "            \n",
    "n=int(input())\n",
    "PrimeRange(n)\n",
    "        "
   ]
  },
  {
   "cell_type": "code",
   "execution_count": 3,
   "metadata": {},
   "outputs": [
    {
     "name": "stdout",
     "output_type": "stream",
     "text": [
      "Mahesh\n",
      "1 3\n",
      "haMesh\n"
     ]
    }
   ],
   "source": [
    "#  to replace the characters of given indecies  in a string\n",
    "s=input()\n",
    "t=s[:]\n",
    "p,q=map(int,input().split())\n",
    "a=t[p-1]\n",
    "b=t[q-1]\n",
    "l=''\n",
    "for i in range(len(s)):\n",
    "    if i==f-1:\n",
    "        l=l+b\n",
    "    elif i==e-1:\n",
    "        l=l+a\n",
    "    else:l+=s[i]\n",
    "    \n",
    "print(l)\n"
   ]
  },
  {
   "cell_type": "code",
   "execution_count": null,
   "metadata": {},
   "outputs": [],
   "source": []
  },
  {
   "cell_type": "code",
   "execution_count": 4,
   "metadata": {},
   "outputs": [
    {
     "name": "stdout",
     "output_type": "stream",
     "text": [
      "Mahesh\n",
      "3 5\n",
      "Masehh\n"
     ]
    }
   ],
   "source": [
    "# reverse the string of given indices and then add the print the remaing string as it is in its given form\n",
    "l=input()\n",
    "s,e=map(int,input().split())\n",
    "if s==1:\n",
    "    print(l[e-1::-1]+l[e:])\n",
    "else:\n",
    "    print(l[:s-1]+l[e-1:s-2:-1]+l[e:])\n",
    "\n"
   ]
  },
  {
   "cell_type": "code",
   "execution_count": 9,
   "metadata": {},
   "outputs": [
    {
     "name": "stdout",
     "output_type": "stream",
     "text": [
      "5\n",
      "2 3\n",
      "1 4\n",
      "2 6\n",
      "4 7\n",
      "3 9\n",
      "[1, 2, 2, 3, 4]\n",
      "[[2, 3], [1, 4], [2, 6], [4, 7], [3, 9]]\n"
     ]
    }
   ],
   "source": [
    "# Pairs should print the ascending oreder based on x value and then if two x values are same \n",
    "# print the pair with highest value of y\n",
    "# 5\n",
    "# (1,2)\n",
    "# (3,4)\n",
    "# (2,7)\n",
    "# (3,5)\n",
    "# (4 5)  --> (1,2) (2,7) (3,5) (3,4) (4,5)\n",
    "n= int(input())\n",
    "li=[]\n",
    "l=[]\n",
    "l1=[]\n",
    "for i in range(n):\n",
    "    (x,y)=map(int,input().split())\n",
    "    li.append([x,y])\n",
    "for i in li:\n",
    "    l.append(i[0])\n",
    "l=sorted(l)\n",
    "print(l)\n",
    "\n",
    "    \n",
    "print(li)"
   ]
  },
  {
   "cell_type": "code",
   "execution_count": 19,
   "metadata": {},
   "outputs": [
    {
     "name": "stdout",
     "output_type": "stream",
     "text": [
      "5\n",
      "1 4\n",
      "1 7\n",
      "2 6\n",
      "2 9\n",
      "4 8\n",
      "[[1, 4], [1, 7], [2, 6], [2, 9], [4, 8]]\n",
      "[1, 1, 2, 2, 4]\n",
      "[1, 2, 4]\n",
      "1 7\n",
      "1 4\n",
      "2 9\n",
      "2 6\n",
      "4 8\n"
     ]
    }
   ],
   "source": [
    "n=int(input())\n",
    "s=[]\n",
    "for i in range(n):\n",
    "    s.append(list(map(int,input().split())))\n",
    "print(s)\n",
    "x=[]\n",
    "for i in s:\n",
    "    x.append(i[0])\n",
    "x=sorted(x)\n",
    "print(x)\n",
    "unx=[]\n",
    "for i in x:\n",
    "    if i not in unx:\n",
    "        unx.append(i)\n",
    "print(unx)\n",
    "for i in unx:\n",
    "    if x.count(i)==1:\n",
    "        for j in s:\n",
    "            if j[0]==i:\n",
    "                print(i,j[1])\n",
    "    else:\n",
    "        y=[]\n",
    "        for j in s:\n",
    "            if i==j[0]:\n",
    "                y.append(j[1])\n",
    "            y=sorted(y,reverse=True)\n",
    "        for k in y:\n",
    "            for j in s:\n",
    "                if j[1]==k:\n",
    "                    print(i,k)\n",
    "\n",
    "\n",
    "                \n",
    "\n"
   ]
  },
  {
   "cell_type": "code",
   "execution_count": null,
   "metadata": {},
   "outputs": [],
   "source": []
  }
 ],
 "metadata": {
  "kernelspec": {
   "display_name": "Python 3",
   "language": "python",
   "name": "python3"
  },
  "language_info": {
   "codemirror_mode": {
    "name": "ipython",
    "version": 3
   },
   "file_extension": ".py",
   "mimetype": "text/x-python",
   "name": "python",
   "nbconvert_exporter": "python",
   "pygments_lexer": "ipython3",
   "version": "3.7.3"
  }
 },
 "nbformat": 4,
 "nbformat_minor": 2
}
