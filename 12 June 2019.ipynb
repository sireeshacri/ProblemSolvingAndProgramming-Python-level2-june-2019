{
 "cells": [
  {
   "cell_type": "markdown",
   "metadata": {},
   "source": [
    "# Problem Solving and Programming \n",
    "\n",
    "#### Date 12 June 2019\n",
    "\n",
    "#### Day Objectives\n",
    "\n",
    "- String Slicing\n",
    "- Functions in Python\n",
    "- Basic Problems related to conditional statements using functions\n",
    "- Iteration in Python\n",
    "- Python Data Structures - Lists, Tuples and Dictionaries\n",
    "- Basic Operations on data structures\n",
    "    - Applying Data Structures to solve problems"
   ]
  },
  {
   "cell_type": "code",
   "execution_count": null,
   "metadata": {},
   "outputs": [],
   "source": []
  },
  {
   "cell_type": "markdown",
   "metadata": {},
   "source": [
    "## String Slicing"
   ]
  },
  {
   "cell_type": "code",
   "execution_count": 23,
   "metadata": {},
   "outputs": [
    {
     "data": {
      "text/plain": [
       "'ht'"
      ]
     },
     "execution_count": 23,
     "metadata": {},
     "output_type": "execute_result"
    }
   ],
   "source": [
    "s1 = 'Python'\n",
    "\n",
    "s1[0] # Accessing the first charcter in a string\n",
    "\n",
    "s1[1] #Accessing the second character in a string\n",
    "\n",
    "s1[len(s1)-1]  #Accessing the last charcater in a string\n",
    "\n",
    "s1[-1]  # Another way of accessing the last character \n",
    "\n",
    "s1[-2]  # Accessing the penultimate (from last the second one) character of a string\n",
    "\n",
    "s1[0:2] # Accessing  two characters in this '0' is inclusive(that is first part) and '2' is exclusive(second character)\n",
    "\n",
    "s1[-2:]  #Accessing the last two charcters in a string in any string length\n",
    " \n",
    "s1[:-2]  #Accessing the whole string excluding the last two characters\n",
    "\n",
    "s1[4:]  #Accessing the last two character if the above string length  or Accessing all characters 5th character to end of string\n",
    "\n",
    "# Accessing all character except first and last character\n",
    "\n",
    "s1[1:-1]\n",
    "\n",
    "s1[1:] #Accessing all characters except the first one\n",
    "\n",
    " # Accessing the middle character in odd length a string\n",
    "\n",
    "s1[len(s1)//2]\n",
    "\n",
    " # Reverse of a string \n",
    "\n",
    "s1[-1::-1] # first part starting point second part end point third part is increment or decrement here it is -1\n",
    "\n",
    "\n",
    "s1[-1:-3:-1] # Accessing last two characters in reverse oreder\n",
    "\n",
    "# # Reverse the middle two characters in an even length string\n",
    "\n",
    "s1[-3:-5:-1]\n",
    "\n",
    "#s1[len(s1)//2:len(s2)//2:-2:-2]\n",
    "\n",
    "# # Accessing alternate characters in a string\n",
    "# # \"Python\" --> \"Pto\"\n",
    "\n",
    "# s1[::2]\n",
    "\n",
    "\n",
    "# # Accessing alternate characters of a string in reverse order\n",
    "# # \"Python\" --> \"nhy\"\n",
    "\n",
    "# s1[::-2]\n"
   ]
  },
  {
   "cell_type": "code",
   "execution_count": 22,
   "metadata": {},
   "outputs": [
    {
     "data": {
      "text/plain": [
       "'nhy'"
      ]
     },
     "execution_count": 22,
     "metadata": {},
     "output_type": "execute_result"
    }
   ],
   "source": [
    "si='Python'\n",
    "si[-1:-6:-2]"
   ]
  },
  {
   "cell_type": "code",
   "execution_count": null,
   "metadata": {},
   "outputs": [],
   "source": []
  },
  {
   "cell_type": "markdown",
   "metadata": {},
   "source": [
    "## Functions"
   ]
  },
  {
   "cell_type": "code",
   "execution_count": 48,
   "metadata": {},
   "outputs": [
    {
     "data": {
      "text/plain": [
       "'nohtyP'"
      ]
     },
     "execution_count": 48,
     "metadata": {},
     "output_type": "execute_result"
    }
   ],
   "source": [
    "# Fuction to reverse a string\n",
    "\n",
    "def reverseString(s):                 # defining a function\n",
    "    return s[::-1]\n",
    "\n",
    "reverseString(\"Python\")"
   ]
  },
  {
   "cell_type": "code",
   "execution_count": null,
   "metadata": {},
   "outputs": [],
   "source": []
  },
  {
   "cell_type": "code",
   "execution_count": 59,
   "metadata": {},
   "outputs": [
    {
     "data": {
      "text/plain": [
       "False"
      ]
     },
     "execution_count": 59,
     "metadata": {},
     "output_type": "execute_result"
    }
   ],
   "source": [
    "# Function to check if a string is a palindrome\n",
    "def palindrome(s):\n",
    "    if s == s[::-1]:\n",
    "        return True\n",
    "    else:\n",
    "        return False\n",
    "\n",
    "palindrome(\"madam\")     # True\n",
    "palindrome(\"123321\")   # True\n",
    "palindrome(\"racecar\") # True\n",
    "palindrome(\"r\")   # True\n",
    "palindrome(\" \")  # True\n",
    "palindrome(\"cc\") # True\n",
    "palindrome(\"Madam\")   #False\n"
   ]
  },
  {
   "cell_type": "code",
   "execution_count": 64,
   "metadata": {},
   "outputs": [
    {
     "name": "stdout",
     "output_type": "stream",
     "text": [
      "True\n",
      "False\n"
     ]
    }
   ],
   "source": [
    "# Function to check if a given year is a leap year\n",
    "\n",
    "def leapYear(n):\n",
    "    if n%400==0 or (n%100!=0 and n%4==0):\n",
    "        return True\n",
    "    return False\n",
    "print(leapYear(2020))   # TRUE\n",
    "print(leapYear(1234))    # FALSE\n",
    "    "
   ]
  },
  {
   "cell_type": "code",
   "execution_count": 58,
   "metadata": {},
   "outputs": [
    {
     "data": {
      "text/plain": [
       "9"
      ]
     },
     "execution_count": 58,
     "metadata": {},
     "output_type": "execute_result"
    }
   ],
   "source": [
    "# Function to count the number of digits in a given number\n",
    "\n",
    "def noOfDigitsInNumber(n):\n",
    "    return len(str(n)) \n",
    "noOfDigitsInNumber(1233)\n",
    "noOfDigitsInNumber(123345566)"
   ]
  },
  {
   "cell_type": "code",
   "execution_count": 7,
   "metadata": {},
   "outputs": [
    {
     "data": {
      "text/plain": [
       "456"
      ]
     },
     "execution_count": 7,
     "metadata": {},
     "output_type": "execute_result"
    }
   ],
   "source": [
    "# Function to identify the greatest of 4 numbers\n",
    "\n",
    "def greatestOfGiven(n1,n2,n3,n4):\n",
    "    if n1 > n2 and n1 > n3 and n1 > n4:\n",
    "        return n1\n",
    "    elif n2 > n3 and n2 > n4:\n",
    "        return n2\n",
    "    elif n3 > n4:\n",
    "        return n3\n",
    "    return n4\n",
    "greatestOfGiven(1, 234, 456,34)\n"
   ]
  },
  {
   "cell_type": "code",
   "execution_count": null,
   "metadata": {},
   "outputs": [],
   "source": []
  },
  {
   "cell_type": "markdown",
   "metadata": {},
   "source": [
    "## Iteration\n",
    "\n",
    "- for\n",
    "- while"
   ]
  },
  {
   "cell_type": "code",
   "execution_count": 59,
   "metadata": {
    "scrolled": true
   },
   "outputs": [
    {
     "name": "stdout",
     "output_type": "stream",
     "text": [
      "1 2 3 4 5 6 7 8 9 10 11 12 13 14 15 16 17 18 19 20 21 22 23 24 25 26 27 28 29 30 \n",
      "1 2 3 4 5 6 7 8 9 10 11 12 13 14 15 16 17 18 19 20 21 22 23 "
     ]
    }
   ],
   "source": [
    "# Function to print N natural numbers\n",
    "\n",
    "def printNNaturalNumbers(n):\n",
    "    for counter in range(1,n+1):\n",
    "        print(counter, end=\" \")   # if here we are not used end=\" \" here then every number will print in new line \n",
    "    return\n",
    "printNNaturalNumbers(30)\n",
    "print()\n",
    "printNNaturalNumbers(23)"
   ]
  },
  {
   "cell_type": "code",
   "execution_count": 29,
   "metadata": {},
   "outputs": [
    {
     "name": "stdout",
     "output_type": "stream",
     "text": [
      "1 2 3 4 5 6 7 8 9 "
     ]
    }
   ],
   "source": [
    "# Function to print N Natural numbers\n",
    "\n",
    "def nNaturalNumbers(n):\n",
    "    counter = 1\n",
    "    while counter <= n:\n",
    "        print(counter, end = \" \")\n",
    "        counter = counter + 1\n",
    "    return\n",
    "    \n",
    "    \n",
    "nNaturalNumbers(9)"
   ]
  },
  {
   "cell_type": "code",
   "execution_count": 1,
   "metadata": {},
   "outputs": [
    {
     "name": "stdout",
     "output_type": "stream",
     "text": [
      "120 126 132 138 144 150 156 162 168 174 180 "
     ]
    }
   ],
   "source": [
    " # Function to print all numbers divisible by 6\n",
    " # and not a factor of 100 in a given range(lb, ub) inclusive\n",
    "\n",
    "def factorOf100andDivisibleBy6(lb, ub):\n",
    "    for i in range(lb,ub+1):\n",
    "        if 100%i!=0 and i%6==0:\n",
    "            print(i,end=\" \")\n",
    "            \n",
    "    return\n",
    "factorOf100andDivisibleBy6(115,180)\n"
   ]
  },
  {
   "cell_type": "code",
   "execution_count": 19,
   "metadata": {},
   "outputs": [
    {
     "name": "stdout",
     "output_type": "stream",
     "text": [
      "8\n",
      "72\n",
      "288\n",
      "800\n",
      "1800\n",
      "360\n"
     ]
    }
   ],
   "source": [
    "# Function to find the average of cubes of all even numbers \n",
    "# in a given range(lb,ub) inclusive\n",
    "def avgOfCubesOfAllEvenInaRange(lb,ub):\n",
    "    sum=0\n",
    "    i=0\n",
    "    for lb in range(lb,ub+1):\n",
    "        if lb%2==0:\n",
    "            sum=sum+lb**3\n",
    "            print(sum)   #print step by step sum value for understand\n",
    "            i = i + 1\n",
    "    print(sum//i)  #(sum/i) for \n",
    "    return\n",
    "avgOfCubesOfAllEvenInaRange(2,10)\n",
    "    \n",
    "            \n",
    "            \n"
   ]
  },
  {
   "cell_type": "code",
   "execution_count": 34,
   "metadata": {},
   "outputs": [
    {
     "name": "stdout",
     "output_type": "stream",
     "text": [
      "1 2 3 4 6 12 "
     ]
    }
   ],
   "source": [
    "# Functions to generate the list of factors for a given number\n",
    "# 12 -> 1 2 3 4 6 12\n",
    "def factorOfnumber(n):\n",
    "    for i in range(1,n+1):\n",
    "        if n%i==0:\n",
    "            print(i,end=\" \")\n",
    "    return\n",
    "factorOfnumber(12)\n",
    "    "
   ]
  },
  {
   "cell_type": "code",
   "execution_count": 54,
   "metadata": {},
   "outputs": [
    {
     "data": {
      "text/plain": [
       "120"
      ]
     },
     "execution_count": 54,
     "metadata": {},
     "output_type": "execute_result"
    }
   ],
   "source": [
    "# Function to calculate the factorial of a given number\n",
    "def factorialOfNumber(n):\n",
    "    f=1\n",
    "    for i in range(1,n+1):\n",
    "        f=f*i\n",
    "    return f\n",
    "factorialOfNumber(5)"
   ]
  },
  {
   "cell_type": "code",
   "execution_count": 98,
   "metadata": {},
   "outputs": [
    {
     "data": {
      "text/plain": [
       "True"
      ]
     },
     "execution_count": 98,
     "metadata": {},
     "output_type": "execute_result"
    }
   ],
   "source": [
    "# Function to check if a given number is Prime\n",
    "def isPrime(n):\n",
    "    i=1\n",
    "    count=0\n",
    "    for i in range(i,n+1):       # for i in range(i, n//2): can also we can use \n",
    "        if n%i==0:\n",
    "            count += 1   # --> count=count+1\n",
    "    if count==2:\n",
    "        return True\n",
    "   # else:\n",
    "     #   return False\n",
    "       # print(\" n is prime\")\n",
    "   # else:\n",
    "       # print(\"n is not a prime\")\n",
    "        \n",
    "isPrime(11)"
   ]
  },
  {
   "cell_type": "code",
   "execution_count": 103,
   "metadata": {},
   "outputs": [
    {
     "data": {
      "text/plain": [
       "12.9"
      ]
     },
     "execution_count": 103,
     "metadata": {},
     "output_type": "execute_result"
    }
   ],
   "source": [
    "# Function to calculate the average first N Prime numbers\n",
    "def avgNPrimes(n):\n",
    "    primeCount = 0\n",
    "    sum = 0\n",
    "    seqCount = 2\n",
    "    while(primeCount < n):\n",
    "        if isPrime(seqCount):\n",
    "            primeCount += 1\n",
    "            sum += seqCount\n",
    "            # print(seqCount)\n",
    "        seqCount +=1\n",
    "    return sum/n\n",
    "avgNPrimes(10)\n",
    "        "
   ]
  },
  {
   "cell_type": "code",
   "execution_count": 112,
   "metadata": {},
   "outputs": [
    {
     "data": {
      "text/plain": [
       "True"
      ]
     },
     "execution_count": 112,
     "metadata": {},
     "output_type": "execute_result"
    }
   ],
   "source": [
    "# Function to check if a given number is Perfect number\n",
    "def isPerfect(n):\n",
    "    sum = 0\n",
    "    for i in range(1,n):\n",
    "        if(n%i==0):\n",
    "            sum+=i\n",
    "    if(sum == n):\n",
    "        return True\n",
    "    #else:\n",
    "     #   return False\n",
    "#isPerfect(28)"
   ]
  },
  {
   "cell_type": "code",
   "execution_count": 141,
   "metadata": {},
   "outputs": [
    {
     "name": "stdout",
     "output_type": "stream",
     "text": [
      "6\n",
      "28\n",
      "496\n",
      "8128\n"
     ]
    }
   ],
   "source": [
    "# Function to generate all Perfect numbers in a given range\n",
    "def isPerfectInRange(lb,ub):\n",
    "    for i in range(lb,ub+1):\n",
    "        if(isPerfect(i)):\n",
    "            print(i)\n",
    "isPerfectInRange(1,10000)\n",
    "    "
   ]
  },
  {
   "cell_type": "code",
   "execution_count": null,
   "metadata": {},
   "outputs": [],
   "source": []
  },
  {
   "cell_type": "markdown",
   "metadata": {},
   "source": [
    "## Advanced Problem Set"
   ]
  },
  {
   "cell_type": "markdown",
   "metadata": {},
   "source": [
    "- Function to calculate average of all factorials in a given range\n",
    "- Function to generate N odd armstrong numbers\n",
    "- Function to generate Multiplication table for a number in a given range\n",
    "        - 10 in the range(100, 110) inclusive\n",
    "        - 10 x 100 = 1000\n",
    "        - 10 x 101 = 1010\n",
    "        - 10 x 102 = 1020"
   ]
  },
  {
   "cell_type": "code",
   "execution_count": 75,
   "metadata": {},
   "outputs": [
    {
     "data": {
      "text/plain": [
       "30"
      ]
     },
     "execution_count": 75,
     "metadata": {},
     "output_type": "execute_result"
    }
   ],
   "source": [
    "# FUction to calculate average of all factorials in a given range\n",
    "def avgOfFactorsInRange(lb,ub):\n",
    "    sum = 0\n",
    "    count = 0\n",
    "    for lb in range(lb,ub+1):\n",
    "       # if factorialOfNumber(lb):\n",
    "            sum +=factorialOfNumber(lb)\n",
    "            #print(sum)\n",
    "            count+=1\n",
    "    return (sum//count)\n",
    "avgOfFactorsInRange(1,5)\n"
   ]
  },
  {
   "cell_type": "code",
   "execution_count": 2,
   "metadata": {},
   "outputs": [
    {
     "name": "stdout",
     "output_type": "stream",
     "text": [
      "1\n",
      "3\n",
      "5\n",
      "7\n",
      "9\n",
      "89\n"
     ]
    }
   ],
   "source": [
    "# Function to generate N odd armstrong numbers\n",
    "def generateNumbers(n):\n",
    "    for i in range(1,n+1):\n",
    "        isArmstrong(i)\n",
    "    return\n",
    "def isArmstrong(number):\n",
    "    sum = 0\n",
    "    temp = number\n",
    "    while(number>0):\n",
    "        a =(number%10)**len(str(number))\n",
    "        sum = sum + a\n",
    "        number = number//10\n",
    "    if(temp == sum and temp%2!=0):\n",
    "        print(sum)\n",
    "    return \n",
    "\n",
    "generateNumbers(100)\n"
   ]
  },
  {
   "cell_type": "code",
   "execution_count": 5,
   "metadata": {},
   "outputs": [
    {
     "name": "stdout",
     "output_type": "stream",
     "text": [
      "enter a number10\n",
      "enter start number100\n",
      "enter end number110\n",
      "10 x 100 = 1000\n",
      "10 x 101 = 1010\n",
      "10 x 102 = 1020\n",
      "10 x 103 = 1030\n",
      "10 x 104 = 1040\n",
      "10 x 105 = 1050\n",
      "10 x 106 = 1060\n",
      "10 x 107 = 1070\n",
      "10 x 108 = 1080\n",
      "10 x 109 = 1090\n",
      "10 x 110 = 1100\n"
     ]
    }
   ],
   "source": [
    "# Function to generate Multiplication table for a number in a given range\n",
    "def multiplicationTable(table,start,end):\n",
    "    for i in range(start,end+1):\n",
    "        print(table,\"x\",i,\"=\",table*i)\n",
    "table=int(input(\"enter a number\"))\n",
    "start=int(input(\"enter start number\"))\n",
    "end=int(input(\"enter end number\"))\n",
    "multiplicationTable(table,start,end)"
   ]
  },
  {
   "cell_type": "code",
   "execution_count": 51,
   "metadata": {},
   "outputs": [
    {
     "name": "stdout",
     "output_type": "stream",
     "text": [
      "500 504 508 512 516 520 524 "
     ]
    }
   ],
   "source": [
    "# Function to print the alternate values in a range\n",
    "# [500,550]  --> in Mathematics square bracket means inclusive range i.e 500, 550  alternate o/p --> 500 502 504 ........ 550\n",
    "# (500,550)  --> in Mathematics open bracket means exclusive range  i.e 500 550 are not in output    alternate o/p-> 501 503 .....509\n",
    "# range(500 ,550)  -> 500 501 502 503 .....509\n",
    "# All set based functions in Python have start inclusive  end range exclusive\n",
    "\n",
    "def alternateValues(start, end):\n",
    "    for value in range(start, end+1, 4):  # 4 represents every 4th number has print 4 is step value. Default step value is 1\n",
    "        print(value, end=\" \")\n",
    "    return\n",
    "alternateValues(500,525)\n"
   ]
  },
  {
   "cell_type": "code",
   "execution_count": 15,
   "metadata": {},
   "outputs": [
    {
     "name": "stdout",
     "output_type": "stream",
     "text": [
      "35 33 31 29 27 25 23 21 19 17 15 13 11 9 7 5 3 "
     ]
    }
   ],
   "source": [
    "# Fuction to print reverse of given range in a same line\n",
    "def reverseOfaRange(start,end):\n",
    "    for count in range(end,start+1,-2):\n",
    "        print(count,end=\" \")\n",
    "    return\n",
    "reverseOfaRange(1,35)"
   ]
  },
  {
   "cell_type": "code",
   "execution_count": 24,
   "metadata": {},
   "outputs": [
    {
     "name": "stdout",
     "output_type": "stream",
     "text": [
      "9 7 5 3 1 "
     ]
    }
   ],
   "source": [
    "# Function to print odd numbers in reverse order in a range\n",
    "def reverseOfaRangeOfOdd(start,end):\n",
    "    for value in range(end,start-1,-1):\n",
    "        if(value%2!=0):\n",
    "            print(value,end=\" \")\n",
    "    return\n",
    "reverseOfaRangeOfOdd(1,10)"
   ]
  },
  {
   "cell_type": "code",
   "execution_count": 28,
   "metadata": {},
   "outputs": [
    {
     "data": {
      "text/plain": [
       "15050.0"
      ]
     },
     "execution_count": 28,
     "metadata": {},
     "output_type": "execute_result"
    }
   ],
   "source": [
    "# Function to calculate the sum of numbers in a range\n",
    "def sumOfRange(start,end):\n",
    "    sum = 0\n",
    "    for i in range(start,end+1):\n",
    "        sum+=i  # sum = sum + i\n",
    "    return sum   # Here in the question \"calculate\" is there  so we have to \"return\" we should not use \"print\" \n",
    "sumOfRange(100,200)\n",
    "\n",
    "# 200*201/2 - (100*101/2)  #  Formula tosum of numbers btw 100, 200"
   ]
  },
  {
   "cell_type": "code",
   "execution_count": 39,
   "metadata": {},
   "outputs": [
    {
     "data": {
      "text/plain": [
       "3"
      ]
     },
     "execution_count": 39,
     "metadata": {},
     "output_type": "execute_result"
    }
   ],
   "source": [
    "# Function to calculate the average of a given range\n",
    "def avgOfRange(start,end):\n",
    "    sum = 0\n",
    "   # count = 0\n",
    "    for i in range(start,end+1):\n",
    "        sum = sum + i  # Sum Calculation\n",
    "        #count+=1   # Counting\n",
    "    #return (sum\n",
    "    return (sum//end+1 - start)   \n",
    "avgOfRange(1,5)"
   ]
  },
  {
   "cell_type": "code",
   "execution_count": 81,
   "metadata": {},
   "outputs": [
    {
     "name": "stdout",
     "output_type": "stream",
     "text": [
      "2000 2004 2008 2012 2016 2020 "
     ]
    }
   ],
   "source": [
    "# Function to generate all leap years in a given time period\n",
    "# [2000 - 2020] -> 2000 2004 2008 2012 2016 2020\n",
    "# isLeapYear(year)\n",
    "# generateLeapYears(startyear,endyear)\n",
    "def generateLeapYears(startyear, endyear):\n",
    "    for i in range(startyear, endyear+1):\n",
    "        if(isLeapYear(i)):\n",
    "            print(i,end=\" \")\n",
    "            \n",
    "            \n",
    "def isLeapYear(year):\n",
    "    if(year%400==0 or (year%100!=0 and year%4==0)):\n",
    "        return True\n",
    "    else:\n",
    "        return False\n",
    "        \n",
    "generateLeapYears(2000,2020)\n",
    "#isLeapYear()"
   ]
  },
  {
   "cell_type": "code",
   "execution_count": null,
   "metadata": {},
   "outputs": [],
   "source": []
  },
  {
   "cell_type": "code",
   "execution_count": 100,
   "metadata": {},
   "outputs": [
    {
     "data": {
      "text/plain": [
       "3288"
      ]
     },
     "execution_count": 100,
     "metadata": {},
     "output_type": "execute_result"
    }
   ],
   "source": [
    "# Calculate number of days in a given time period using leapYear\n",
    "# For every year in the given time period ,if the year is not a leap year  -->add 365 to sum. if leap year add 366\n",
    "def daysOfGivenTimePeriodIncludeLeapYears(startyear,endyear):\n",
    "    sum=0\n",
    "    for year in range(startyear,endyear+1):\n",
    "        if isLeapYear(year):\n",
    "            sum+=366\n",
    "        else:\n",
    "            sum+=365\n",
    "    return sum\n",
    "daysOfGivenTimePeriodIncludeLeapYears(2012,2020)"
   ]
  },
  {
   "cell_type": "raw",
   "metadata": {},
   "source": []
  },
  {
   "cell_type": "code",
   "execution_count": null,
   "metadata": {},
   "outputs": [],
   "source": [
    "\n",
    "\n"
   ]
  },
  {
   "cell_type": "code",
   "execution_count": 1,
   "metadata": {},
   "outputs": [
    {
     "data": {
      "text/plain": [
       "1464"
      ]
     },
     "execution_count": 1,
     "metadata": {},
     "output_type": "execute_result"
    }
   ],
   "source": [
    "\n",
    "# Function to calculate number of hours for a given period in the format(month1, year1, month2, year2)\n",
    "# numberOfHours(11, 1975, 3, 1999) -> 204504 or 205248\n",
    "# numberOfHours(5, 2019, 6, 2019) -> 1464\n",
    "# 2, 2016 , 6, 2019\n",
    "# \n",
    "#  [all days from feb 2016 to dec 2016, \n",
    "# .  all days for years between 2016+1 and 2019-1,\n",
    "#     all days from Jan to June 2019]\n",
    "#No of hours = 24 * No of days\n",
    "# 3 steps\n",
    "    #1. start month year to end of year - calculate no of days\n",
    "    #2. Calculate days for all years between start year and end year exclusive\n",
    "            # 2017, 2018 - 365 * no of years\n",
    "    #3. calculate days from Jan to end month year\n",
    "\n",
    "# Excluding Feb\n",
    "# First Six months - 1, 3, 4, 5, 6, 7 \n",
    "                    # All odd months have 31 days\n",
    "                    # All even months have 30 days\n",
    "# Last Six months - 8, 9, 10, 11, 12\n",
    "                    # All even months have 31 days\n",
    "                    # All odd months have 30 days\n",
    "        \n",
    "# 31 days - (month <= 7 and month % 2 != 0 and month != 2) || (month >= 8 and month %2 == 0)\n",
    "#                return 31\n",
    "#\n",
    "#            else\n",
    "#                return 30\n",
    "\n",
    "\n",
    "\n",
    "def numberOfDaysMonth(month, year):\n",
    "    if month == 2:\n",
    "        if isLeapYear(year):\n",
    "            return 29\n",
    "        return 28\n",
    "    elif (month <= 7 and month % 2!= 0) or (month >= 8 and month % 2 == 0):\n",
    "        return 31\n",
    "    else:\n",
    "        return 30\n",
    "\n",
    "def daysInStartYear(startmonth, startyear):\n",
    "    days = 0 \n",
    "    for month in range(startmonth, 13):\n",
    "        days += numberOfDaysMonth(month, startyear)\n",
    "    return days    \n",
    "\n",
    "def daysInEndYear(endmonth, endyear):\n",
    "    days = 0\n",
    "    for month in range(1, endmonth+1):\n",
    "        days += numberOfDaysMonth(month, endyear)\n",
    "    return days\n",
    "\n",
    "def numberOfHours(startmonth, startyear, endmonth, endyear):\n",
    "    days = 0\n",
    "    if startyear != endyear:\n",
    "        days += daysInStartYear(startmonth, startyear)\n",
    "        days += daysInEndYear(endmonth, endyear)\n",
    "        if endyear - startyear == 2: # 2019 - 2017\n",
    "            days += numberOfDays(startyear+1, startyear+1)\n",
    "        elif endyear - startyear > 2:\n",
    "            days += numberOfDays(startyear+1, endyear-1)\n",
    "    else:\n",
    "        for month in range(startmonth, endmonth+1):\n",
    "            days += numberOfDaysMonth(month, startyear)\n",
    "    return 24 * days\n",
    "\n",
    "numberOfHours(6, 2018, 7, 2018)\n"
   ]
  },
  {
   "cell_type": "code",
   "execution_count": null,
   "metadata": {},
   "outputs": [],
   "source": []
  }
 ],
 "metadata": {
  "kernelspec": {
   "display_name": "Python 3",
   "language": "python",
   "name": "python3"
  },
  "language_info": {
   "codemirror_mode": {
    "name": "ipython",
    "version": 3
   },
   "file_extension": ".py",
   "mimetype": "text/x-python",
   "name": "python",
   "nbconvert_exporter": "python",
   "pygments_lexer": "ipython3",
   "version": "3.7.3"
  }
 },
 "nbformat": 4,
 "nbformat_minor": 2
}
